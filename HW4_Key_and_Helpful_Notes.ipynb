{
 "cells": [
  {
   "cell_type": "markdown",
   "metadata": {
    "colab_type": "text",
    "id": "xPZFbr6oQR56"
   },
   "source": [
    "# Part 1. Build a Classification Model using Text Data"
   ]
  },
  {
   "cell_type": "markdown",
   "metadata": {
    "colab_type": "text",
    "id": "3FgkSS5kQR57"
   },
   "source": [
    "### Instructor note: Big hat tip to K. Moore, Spring 2019 TA, ML for Social Sciences for putting this together\n",
    "\n",
    "\n",
    "In part one of the homework, you will solve a text classification task.\n",
    "\n",
    "You can download the following data-sets from the HW data folder on the course website:\n",
    "\n",
    "HW4_Text_train_data.csv and HW4_text_test_data.csv\n",
    "\n",
    "The data consists of Women’s fashion online shop reviews, consisting of a review\n",
    "text, and whether the review author would recommend the product.\n",
    "\n",
    "We are trying to determine whether a reviewer will recommend a product or not based on each review.\n",
    "\n",
    "\n",
    "In a real application this might allow us to find out what is good or bad about certain products or to feature more typical reviews (like a very critical and a very positive one).\n",
    "\n",
    "**Use cross-validation to evaluate the results. Use a metric that’s appropriate for imbalanced classification (AUC or average precision for example), and inspect all models by visualizing the coefficients.**\n",
    "\n",
    "To complete part one of the homework do the following:\n",
    "\n",
    "**Import the text data, vectorize the review column into an X matrix.  Then run at least three models and select a single best model.  Note that you can also create three models that simply use different types of explanatory variables such as a logistic regression with different n grams or different tokenizers.  Be sure to explain your choice and evaluate this model using the test set.**"
   ]
  },
  {
   "cell_type": "markdown",
   "metadata": {
    "colab_type": "text",
    "id": "E4exg57kQR57"
   },
   "source": [
    "### Import the Text Data"
   ]
  },
  {
   "cell_type": "code",
   "execution_count": 0,
   "metadata": {
    "colab": {},
    "colab_type": "code",
    "id": "pRSw_omIQR58"
   },
   "outputs": [],
   "source": [
    "import pandas as pd\n",
    "from sklearn.metrics import confusion_matrix, roc_auc_score, roc_curve, auc\n",
    "\n",
    "# Read in the Data from Internet File\n",
    "train_data=pd.read_csv(\"https://s3.amazonaws.com/mlsitetest/HW4_Text_train_data.csv\")\n",
    "test_data=pd.read_csv(\"https://s3.amazonaws.com/mlsitetest/HW4_Text_test_data.csv\")"
   ]
  },
  {
   "cell_type": "markdown",
   "metadata": {
    "colab_type": "text",
    "id": "LoTF6t95QR5-"
   },
   "source": [
    "### Vectorize the Review Column into an X-matrix"
   ]
  },
  {
   "cell_type": "code",
   "execution_count": 0,
   "metadata": {
    "colab": {},
    "colab_type": "code",
    "id": "3WpwSlnAQR5_"
   },
   "outputs": [],
   "source": [
    "# Combine the Text \n",
    "text=pd.concat([train_data, test_data])"
   ]
  },
  {
   "cell_type": "code",
   "execution_count": 0,
   "metadata": {
    "colab": {},
    "colab_type": "code",
    "id": "-8KFhmulQR6B",
    "outputId": "c230bc45-04e7-4f36-a4c4-81c1924650fb"
   },
   "outputs": [
    {
     "name": "stdout",
     "output_type": "stream",
     "text": [
      "type of text_train: <class 'pandas.core.series.Series'>\n",
      "length of text_train: 22642\n",
      "text_train[200]:\n",
      "200    .Cutest dress i own. very flattering, makes yo...\n",
      "200    .I just received this and had ordered it in my...\n",
      "Name: Review, dtype: object\n"
     ]
    }
   ],
   "source": [
    "# Select just the text data from the Review column\n",
    "review = text['Review']\n",
    "print(\"type of text_train: {}\".format(type(review)))\n",
    "print(\"length of text_train: {}\".format(len(review)))\n",
    "print(\"text_train[200]:\\n{}\".format(review[200]))"
   ]
  },
  {
   "cell_type": "code",
   "execution_count": 0,
   "metadata": {
    "colab": {},
    "colab_type": "code",
    "id": "fGzv72ZQQR6E",
    "outputId": "77af74e5-9602-4264-ea21-5d3efd0316ce"
   },
   "outputs": [
    {
     "name": "stdout",
     "output_type": "stream",
     "text": [
      "Vectorized X:\n",
      "<22642x14679 sparse matrix of type '<class 'numpy.int64'>'\n",
      "\twith 999907 stored elements in Compressed Sparse Row format>\n"
     ]
    }
   ],
   "source": [
    "import numpy as np\n",
    "from sklearn.feature_extraction.text import CountVectorizer\n",
    "\n",
    "# Vectorize\n",
    "count = CountVectorizer().fit(review)\n",
    "X = count.transform(review)\n",
    "print(\"Vectorized X:\\n{}\".format(repr(X)))"
   ]
  },
  {
   "cell_type": "code",
   "execution_count": 0,
   "metadata": {
    "colab": {},
    "colab_type": "code",
    "id": "KB1IELCCQR6H"
   },
   "outputs": [],
   "source": [
    "print(X.vocabulary_) # DO NOT RUN THIS!!"
   ]
  },
  {
   "cell_type": "code",
   "execution_count": 0,
   "metadata": {
    "colab": {},
    "colab_type": "code",
    "id": "owxKZpecQR6K",
    "outputId": "c4f9df68-4b3c-4628-a418-bf9bbe2a6b2f"
   },
   "outputs": [
    {
     "name": "stdout",
     "output_type": "stream",
     "text": [
      "Number of features: 14679\n",
      "First 20 features:\n",
      "['00', '000', '00p', '02', '03', '03dd', '04', '06', '0dd', '0in', '0p', '0petite', '0r', '0verall', '0xs', '10', '100', '1000', '100lb', '100lbs']\n",
      "Features 210 to 230:\n",
      "['18th', '19', '190', '190lbs', '1920', '1920s', '1930', '1940', '1940s', '1950', '1950s', '195lbs', '1960s', '1970', '1970s', '1973', '198', '1980s', '1982', '1987']\n",
      "Every 200th feature:\n",
      "['00', '174', '39ish', 'accented', 'ags', 'annoy', 'ashamed', 'badass', 'beginnings', 'blisters', 'bracelet', 'bunching', 'carol', 'chelan', 'clip', 'compareed', 'contri', 'creations', 'dangly', 'depends', 'discern', 'dr4ess', 'eclectic', 'enroute', 'exoected', 'fauves', 'flashbacks', 'forest', 'galore', 'goner', 'hahaha', 'hepburn', 'how', 'improved', 'interfacing', 'jiggles', 'labelled', 'lenox', 'longs', 'mailbox', 'measly', 'mirrors', 'multiple', 'nhl', 'occurrence', 'outerwear', 'parachute', 'personalities', 'player', 'powering', 'proportionate', 'rags', 'reflex', 'resolutions', 'rocked', 'sandpaper', 'seems', 'shipment', 'situations', 'smitten', 'sparkled', 'status', 'struggle', 'surpise', 'tanks', 'thermals', 'told', 'trouser', 'underarms', 'uplifting', 'voice', 'weighed', 'withe', 'yes']\n"
     ]
    }
   ],
   "source": [
    "# Here's what the raw data looks like\n",
    "feature_names = count.get_feature_names()\n",
    "print(\"Number of features: {}\".format(len(feature_names)))\n",
    "print(\"First 20 features:\\n{}\".format(feature_names[:20]))\n",
    "print(\"Features 210 to 230:\\n{}\".format(feature_names[210:230]))\n",
    "print(\"Every 200th feature:\\n{}\".format(feature_names[::200]))"
   ]
  },
  {
   "cell_type": "code",
   "execution_count": 0,
   "metadata": {
    "colab": {},
    "colab_type": "code",
    "id": "ihnZmruKQR6Q",
    "outputId": "1f89d484-1142-41df-fc08-01cf6e32e98b"
   },
   "outputs": [
    {
     "name": "stdout",
     "output_type": "stream",
     "text": [
      "Number of stop words: 318\n",
      "Every 10th stopword:\n",
      "['against', 'always', 'an', 'none', 'my', 'already', 'fire', 'whatever', 'describe', 'keep', 'up', 'anywhere', 'between', 'thereafter', 'beforehand', 'without', 'as', 'ever', 'there', 'throughout', 'hasnt', 'ten', 'or', 'somehow', 'everyone', 'whose', 'go', 'thin', 'show', 'whither', 'ourselves', 'full']\n"
     ]
    }
   ],
   "source": [
    "# Limit vocabulary to meaningful words by deleting Stop-words\n",
    "from sklearn.feature_extraction.text import ENGLISH_STOP_WORDS\n",
    "print(\"Number of stop words: {}\".format(len(ENGLISH_STOP_WORDS)))\n",
    "print(\"Every 10th stopword:\\n{}\".format(list(ENGLISH_STOP_WORDS)[::10]))"
   ]
  },
  {
   "cell_type": "code",
   "execution_count": 0,
   "metadata": {
    "colab": {},
    "colab_type": "code",
    "id": "nQO9o2uLQR6U",
    "outputId": "e94f51cc-9bbd-47fb-9c34-3035a88a20e2"
   },
   "outputs": [
    {
     "name": "stdout",
     "output_type": "stream",
     "text": [
      "Vectorized X:\n",
      "<22642x4774 sparse matrix of type '<class 'numpy.int64'>'\n",
      "\twith 544182 stored elements in Compressed Sparse Row format>\n"
     ]
    }
   ],
   "source": [
    "# Vectorize (again)\n",
    "count = CountVectorizer(stop_words=\"english\", min_df = 5).fit(review)\n",
    "X = count.transform(review)\n",
    "print(\"Vectorized X:\\n{}\".format(repr(X)))"
   ]
  },
  {
   "cell_type": "code",
   "execution_count": 0,
   "metadata": {
    "colab": {},
    "colab_type": "code",
    "id": "Cmc04bhBQR6Y",
    "outputId": "054eead9-bc2d-4c44-e8b5-d6bea83b9d68"
   },
   "outputs": [
    {
     "name": "stdout",
     "output_type": "stream",
     "text": [
      "Number of features: 4774\n",
      "First 10 features:\n",
      "['00', '00p', '0p', '0petite', '10', '100', '100lbs', '102', '102lbs', '103']\n",
      "Features 800 to 810:\n",
      "['catch', 'catches', 'catching', 'category', 'cats', 'caught', 'causal', 'cause', 'caused', 'causes']\n",
      "Features 2000 to 2010:\n",
      "['hear', 'heard', 'hearing', 'heart', 'heartbeat', 'heartbroken', 'heat', 'heather', 'heathered', 'heaven']\n",
      "Every 200th feature:\n",
      "['00', '___________', 'associates', 'boob', 'catch', 'complementary', 'dd', 'drinks', 'fallen', 'fridays', 'hear', 'inside', 'leggings', 'measurement', 'obnoxious', 'picnic', 'proportions', 'restricted', 'sell', 'slit', 'strap', 'tenty', 'umbrella', 'weak']\n"
     ]
    }
   ],
   "source": [
    "# Here's what the data looks like now\n",
    "feature_names = count.get_feature_names()\n",
    "print(\"Number of features: {}\".format(len(feature_names)))\n",
    "print(\"First 10 features:\\n{}\".format(feature_names[:10]))\n",
    "print(\"Features 800 to 810:\\n{}\".format(feature_names[800:810]))\n",
    "print(\"Features 2000 to 2010:\\n{}\".format(feature_names[2000:2010]))\n",
    "print(\"Every 200th feature:\\n{}\".format(feature_names[::200]))"
   ]
  },
  {
   "cell_type": "code",
   "execution_count": 0,
   "metadata": {
    "colab": {},
    "colab_type": "code",
    "id": "tTxvkKESQR6a"
   },
   "outputs": [],
   "source": [
    "# Split the Data\n",
    "X = X\n",
    "y = text['Recommended']"
   ]
  },
  {
   "cell_type": "code",
   "execution_count": 0,
   "metadata": {
    "colab": {},
    "colab_type": "code",
    "id": "sZZ3q7L9QR6c",
    "outputId": "f89f3101-ecc4-4d47-c4fb-9b4b7c9086d4"
   },
   "outputs": [
    {
     "name": "stdout",
     "output_type": "stream",
     "text": [
      "1    18541\n",
      "0     4101\n",
      "Name: Recommended, dtype: int64\n"
     ]
    }
   ],
   "source": [
    "# Check the balance of the data\n",
    "print(pd.Series(y).value_counts())"
   ]
  },
  {
   "cell_type": "markdown",
   "metadata": {
    "colab_type": "text",
    "id": "Vcc-tcInQR6e"
   },
   "source": [
    "**Note:** Notice that the data is imbalanced. There are a lot more recommendations that non-recommendations."
   ]
  },
  {
   "cell_type": "code",
   "execution_count": 0,
   "metadata": {
    "colab": {},
    "colab_type": "code",
    "id": "Qj7abjpKQR6g",
    "outputId": "e5d427f8-b54e-4ab0-d52e-564e1b130d21"
   },
   "outputs": [
    {
     "name": "stdout",
     "output_type": "stream",
     "text": [
      "X:\n",
      "<22642x4774 sparse matrix of type '<class 'numpy.int64'>'\n",
      "\twith 544182 stored elements in Compressed Sparse Row format>\n"
     ]
    }
   ],
   "source": [
    "# X Matrix\n",
    "print(\"X:\\n{}\".format(repr(X)))"
   ]
  },
  {
   "cell_type": "markdown",
   "metadata": {
    "colab_type": "text",
    "id": "RmDNoQJNQR6i"
   },
   "source": [
    "### Run At Least 3 Models"
   ]
  },
  {
   "cell_type": "code",
   "execution_count": 0,
   "metadata": {
    "colab": {},
    "colab_type": "code",
    "id": "Zw8qycwFQR6j"
   },
   "outputs": [],
   "source": [
    "# Set-Up\n",
    "from sklearn.preprocessing import StandardScaler\n",
    "from sklearn.model_selection import GridSearchCV\n",
    "from sklearn.model_selection import cross_val_score\n",
    "from sklearn.linear_model import LogisticRegression"
   ]
  },
  {
   "cell_type": "code",
   "execution_count": 0,
   "metadata": {
    "colab": {},
    "colab_type": "code",
    "id": "TqxkF7dhQR6l"
   },
   "outputs": [],
   "source": [
    "# Write Function for Visualizing Coefficients in Each Model\n",
    "def visualize_coefficients(coefficients, feature_names, n_top_features=25):\n",
    "\n",
    "    coefficients = coefficients.squeeze()\n",
    "    if coefficients.ndim > 1:\n",
    "        # this is not a row or column vector\n",
    "        raise ValueError(\"coeffients must be 1d array or column vector, got\"\n",
    "                         \" shape {}\".format(coefficients.shape))\n",
    "    coefficients = coefficients.ravel()\n",
    "\n",
    "    if len(coefficients) != len(feature_names):\n",
    "        raise ValueError(\"Number of coefficients {} doesn't match number of\"\n",
    "                         \"feature names {}.\".format(len(coefficients),\n",
    "                                                    len(feature_names)))\n",
    "    # get coefficients with large absolute values\n",
    "    coef = coefficients.ravel()\n",
    "    positive_coefficients = np.argsort(coef)[-n_top_features:]\n",
    "    negative_coefficients = np.argsort(coef)[:n_top_features]\n",
    "    interesting_coefficients = np.hstack([negative_coefficients,\n",
    "                                          positive_coefficients])\n",
    "    # plot them\n",
    "    plt.figure(figsize=(15, 5))\n",
    "    colors = ['#ff2020' if c < 0 else '#0000aa'\n",
    "              for c in coef[interesting_coefficients]]\n",
    "    plt.bar(np.arange(2 * n_top_features), coef[interesting_coefficients],\n",
    "            color=colors)\n",
    "    feature_names = np.array(feature_names)\n",
    "    plt.subplots_adjust(bottom=0.3)\n",
    "    plt.xticks(np.arange(2 * n_top_features),\n",
    "               feature_names[interesting_coefficients], rotation=60,\n",
    "               ha=\"right\")\n",
    "    plt.ylabel(\"Coefficient magnitude\")\n",
    "    plt.xlabel(\"Features\")"
   ]
  },
  {
   "cell_type": "markdown",
   "metadata": {
    "colab_type": "text",
    "id": "XzqCYr4JQR6o"
   },
   "source": [
    "#### Model 1: Logistic Regression"
   ]
  },
  {
   "cell_type": "code",
   "execution_count": 0,
   "metadata": {
    "colab": {},
    "colab_type": "code",
    "id": "Dz6B01HSQR6p",
    "outputId": "319dc55a-3339-4f26-9ede-59aa63f0c3e7"
   },
   "outputs": [
    {
     "name": "stdout",
     "output_type": "stream",
     "text": [
      "LOGISTIC REGRESSION\n",
      "Best cross-validation score: 0.93\n",
      "Best parameters:  {'C': 0.1}\n"
     ]
    }
   ],
   "source": [
    "import warnings\n",
    "warnings.simplefilter(action='ignore', category=FutureWarning)\n",
    "from sklearn.model_selection import StratifiedKFold\n",
    "from sklearn.metrics import roc_auc_score\n",
    "\n",
    "# Split the Data\n",
    "from sklearn.model_selection import train_test_split\n",
    "X_train, X_test, y_train, y_test = train_test_split(X, y, random_state=42)\n",
    "cv = StratifiedKFold(n_splits=5, shuffle=True)\n",
    "\n",
    "# Test for Best Model Parameters of the Logistic Regression Model with GridSearch & Cross Validation\n",
    "param_grid = {'C': [0.001, 0.01, 0.1, 1, 10]}\n",
    "grid = GridSearchCV(LogisticRegression(), param_grid, cv=cv, scoring = 'roc_auc')\n",
    "grid.fit(X_train, y_train)\n",
    "\n",
    "print(\"LOGISTIC REGRESSION\")\n",
    "print(\"Best cross-validation score: {:.2f}\".format(grid.best_score_))\n",
    "print(\"Best parameters: \", grid.best_params_)"
   ]
  },
  {
   "cell_type": "code",
   "execution_count": 0,
   "metadata": {
    "colab": {},
    "colab_type": "code",
    "id": "cZN3LQQaQR6s",
    "outputId": "8ead9cea-f4b9-4e4b-c383-592c6b552e2b"
   },
   "outputs": [
    {
     "name": "stdout",
     "output_type": "stream",
     "text": [
      "MODEL 1: LOGISTIC REGRESSION\n",
      "AUC Score: 0.91\n",
      "              precision    recall  f1-score   support\n",
      "\n",
      "           0       0.92      0.57      0.70      1012\n",
      "           1       0.91      0.99      0.95      4649\n",
      "\n",
      "   micro avg       0.91      0.91      0.91      5661\n",
      "   macro avg       0.92      0.78      0.83      5661\n",
      "weighted avg       0.91      0.91      0.91      5661\n",
      "\n"
     ]
    },
    {
     "data": {
      "image/png": "[encoded data removed]",
      "text/plain": [
       "<Figure size 1080x360 with 1 Axes>"
      ]
     },
     "metadata": {
      "needs_background": "light",
      "tags": []
     },
     "output_type": "display_data"
    }
   ],
   "source": [
    "from sklearn.metrics import classification_report\n",
    "from sklearn.metrics import auc\n",
    "from sklearn.metrics import roc_curve\n",
    "\n",
    "# Visualize Coefficients for Logistic Regression Model with Best Parameters\n",
    "import matplotlib.pyplot as plt\n",
    "coefs = LogisticRegression(C=0.10).fit(X_test,y_test).coef_\n",
    "feature_names = count.get_feature_names()\n",
    "visualize_coefficients(coefs, feature_names, n_top_features=15)\n",
    "\n",
    "# Evaluating Model Using AUC\n",
    "from sklearn.metrics import accuracy_score\n",
    "y_predict = grid.predict(X_test)\n",
    "auc_1 = accuracy_score(y_test, y_predict)\n",
    "\n",
    "# Evaluating Model Using Test Data \n",
    "grid.fit(X_test, y_test)\n",
    "\n",
    "print(\"MODEL 1: LOGISTIC REGRESSION\")\n",
    "\n",
    "# AUC Score: Probability that the model ranks a random positive example more highly than a random negative example\n",
    "print(\"AUC Score: {:.2f}\".format(auc_1))\n",
    "\n",
    "# F1 Score: (Precision + Recall) / 2 \n",
    "print(classification_report(y_test, y_predict))"
   ]
  },
  {
   "cell_type": "markdown",
   "metadata": {
    "colab_type": "text",
    "id": "M2CRJ1M8QR6x"
   },
   "source": [
    "#### Model 2: Logistic Regression with tf-idf (aka. Bag of Words)"
   ]
  },
  {
   "cell_type": "code",
   "execution_count": 0,
   "metadata": {
    "colab": {},
    "colab_type": "code",
    "id": "8V4sRX35QR6x",
    "outputId": "d773b2f1-b05d-47af-af79-60d78cefac08"
   },
   "outputs": [
    {
     "name": "stdout",
     "output_type": "stream",
     "text": [
      "LOGISTIC REGRESSION w/ TF-IDF\n",
      "Best cross-validation score: 0.94\n",
      "Best parameters:  {'C': 1}\n"
     ]
    }
   ],
   "source": [
    "# Rescale the Data with tf-idf\n",
    "from sklearn.feature_extraction.text import TfidfTransformer\n",
    "tfidf_transformer = TfidfTransformer()\n",
    "X_tfidf = tfidf_transformer.fit_transform(X)\n",
    "\n",
    "# Split the Data with tf-idf\n",
    "X = X_tfidf\n",
    "y = text['Recommended']\n",
    "X_train, X_test, y_train, y_test = train_test_split(X, y, random_state=42)\n",
    "cv = StratifiedKFold(n_splits=5, shuffle=True)\n",
    "\n",
    "# Test for Best Model Parameters of the Logistic Regression Model with GridSearch & Cross Validation\n",
    "param_grid = {'C': [0.001, 0.01, 0.1, 1, 10]}\n",
    "grid = GridSearchCV(LogisticRegression(), param_grid, cv=cv, scoring = 'roc_auc')\n",
    "grid.fit(X_train, y_train)\n",
    "\n",
    "print(\"LOGISTIC REGRESSION w/ TF-IDF\")\n",
    "print(\"Best cross-validation score: {:.2f}\".format(grid.best_score_))\n",
    "print(\"Best parameters: \", grid.best_params_)"
   ]
  },
  {
   "cell_type": "code",
   "execution_count": 0,
   "metadata": {
    "colab": {},
    "colab_type": "code",
    "id": "BDPWZeruQR63",
    "outputId": "3179138b-974a-4565-d5b7-84aa1b6cc746"
   },
   "outputs": [
    {
     "name": "stdout",
     "output_type": "stream",
     "text": [
      "MODEL 2: LOGISTIC REGRESSION WITH TF-IDF\n",
      "AUC Score: 0.90\n",
      "              precision    recall  f1-score   support\n",
      "\n",
      "           0       0.83      0.56      0.66      1012\n",
      "           1       0.91      0.97      0.94      4649\n",
      "\n",
      "   micro avg       0.90      0.90      0.90      5661\n",
      "   macro avg       0.87      0.76      0.80      5661\n",
      "weighted avg       0.89      0.90      0.89      5661\n",
      "\n"
     ]
    },
    {
     "data": {
      "image/png": "[encoded data removed]",
      "text/plain": [
       "<Figure size 1080x360 with 1 Axes>"
      ]
     },
     "metadata": {
      "needs_background": "light",
      "tags": []
     },
     "output_type": "display_data"
    }
   ],
   "source": [
    "# Visualize Coefficients for Random Forest Model\n",
    "coefs = LogisticRegression(C=10).fit(X_test,y_test).coef_\n",
    "feature_names = count.get_feature_names()\n",
    "visualize_coefficients(coefs, feature_names, n_top_features=15)\n",
    "\n",
    "# Evaluating Model Using AUC\n",
    "from sklearn.metrics import accuracy_score\n",
    "y_predict = grid.predict(X_test)\n",
    "auc_2 = accuracy_score(y_test, y_predict)\n",
    "\n",
    "# Evaluating Model Using Test Data \n",
    "grid.fit(X_test, y_test)\n",
    "\n",
    "print(\"MODEL 2: LOGISTIC REGRESSION WITH TF-IDF\")\n",
    "print(\"AUC Score: {:.2f}\".format(auc_2))\n",
    "\n",
    "# F1 Score: (Precision + Recall) / 2 \n",
    "print(classification_report(y_test, y_predict))"
   ]
  },
  {
   "cell_type": "markdown",
   "metadata": {
    "colab_type": "text",
    "id": "4wH4pIq4QR65"
   },
   "source": [
    "#### Model 3: Penalized Logstic Regression"
   ]
  },
  {
   "cell_type": "code",
   "execution_count": 0,
   "metadata": {
    "colab": {},
    "colab_type": "code",
    "id": "zmqQ6o-CQR66",
    "outputId": "466199e2-fd98-4026-cd92-4dcaab20d174"
   },
   "outputs": [
    {
     "name": "stdout",
     "output_type": "stream",
     "text": [
      "PENALIZED LOGISTIC REGRESSION\n",
      "Best cross-validation score: 0.92\n",
      "Best parameters:  {'C': 1}\n"
     ]
    }
   ],
   "source": [
    "# Split the Data\n",
    "X = count.transform(review)\n",
    "y = text['Recommended']\n",
    "X_train, X_test, y_train, y_test = train_test_split(X, y, random_state=42)\n",
    "cv = StratifiedKFold(n_splits=5, shuffle=True)\n",
    "\n",
    "# Test for Best Model Parameters of Penalized Logistic Regression Model with GridSearch & Cross Validation\n",
    "param_grid = {'C': [0.001, 0.01, 0.1, 1, 10]}\n",
    "grid = GridSearchCV(LogisticRegression(penalty='l1'), param_grid, cv=cv, scoring = 'roc_auc')\n",
    "grid.fit(X_train, y_train)\n",
    "\n",
    "print(\"PENALIZED LOGISTIC REGRESSION\")\n",
    "print(\"Best cross-validation score: {:.2f}\".format(grid.best_score_))\n",
    "print(\"Best parameters: \", grid.best_params_)"
   ]
  },
  {
   "cell_type": "code",
   "execution_count": 0,
   "metadata": {
    "colab": {},
    "colab_type": "code",
    "id": "bLVZkPTyQR68",
    "outputId": "076f550e-89f3-4288-eed1-54605aadaa0c"
   },
   "outputs": [
    {
     "name": "stdout",
     "output_type": "stream",
     "text": [
      "MODEL 3: PENALIZED LOGISTIC REGRESSION\n",
      "Best cross-validation score: 0.91\n",
      "AUC Score: 0.90\n",
      "              precision    recall  f1-score   support\n",
      "\n",
      "           0       0.77      0.64      0.70      1012\n",
      "           1       0.93      0.96      0.94      4649\n",
      "\n",
      "   micro avg       0.90      0.90      0.90      5661\n",
      "   macro avg       0.85      0.80      0.82      5661\n",
      "weighted avg       0.90      0.90      0.90      5661\n",
      "\n"
     ]
    },
    {
     "data": {
      "image/png": "[encoded data removed]",
      "text/plain": [
       "<Figure size 1080x360 with 1 Axes>"
      ]
     },
     "metadata": {
      "needs_background": "light",
      "tags": []
     },
     "output_type": "display_data"
    }
   ],
   "source": [
    "# Visualize Coefficients for Penalized Logistic Regression\n",
    "coefs = LogisticRegression(C=1).fit(X_test,y_test).coef_\n",
    "feature_names = count.get_feature_names()\n",
    "visualize_coefficients(coefs, feature_names, n_top_features=15)\n",
    "\n",
    "# Evaluating Model Using AUC\n",
    "from sklearn.metrics import accuracy_score\n",
    "y_predict = grid.predict(X_test)\n",
    "auc_3 = accuracy_score(y_test, y_predict)\n",
    "\n",
    "# Evaluating Model Using Test Data \n",
    "grid.fit(X_test, y_test)\n",
    "\n",
    "print(\"MODEL 3: PENALIZED LOGISTIC REGRESSION\")\n",
    "print(\"Best cross-validation score: {:.2f}\".format(grid.best_score_)) # TEST TO MAKE SURE THIS RUNS\n",
    "print(\"AUC Score: {:.2f}\".format(auc_3))\n",
    "\n",
    "# F1 Score: (Precision + Recall) / 2 \n",
    "print(classification_report(y_test, y_predict))"
   ]
  },
  {
   "cell_type": "markdown",
   "metadata": {
    "colab_type": "text",
    "id": "kJwuXshRQR6_"
   },
   "source": [
    "#### Model 4: Logistic Regression with Bigrams"
   ]
  },
  {
   "cell_type": "code",
   "execution_count": 0,
   "metadata": {
    "colab": {},
    "colab_type": "code",
    "id": "oX5T1hK2QR7A",
    "outputId": "33aa7da8-6b5a-4765-b072-5bda43484876"
   },
   "outputs": [
    {
     "name": "stdout",
     "output_type": "stream",
     "text": [
      "(2, 2), stopwords, min_df=4: 26596\n"
     ]
    }
   ],
   "source": [
    "# Split the Data\n",
    "data_trainval, y_trainval = text.Review, text.Recommended\n",
    "data_train, data_test, y_train, y_test = train_test_split(data_trainval, y_trainval, stratify=y_trainval, random_state=42)\n",
    "\n",
    "# Build the Bigram Model\n",
    "cv12gramstop = CountVectorizer(ngram_range=(1, 3), min_df=4, stop_words=\"english\")\n",
    "cv12gramstop.fit(data_train)\n",
    "print(\"(2, 2), stopwords, min_df=4: {}\".format(len(cv12gramstop.vocabulary_)))\n",
    "\n",
    "X_train = cv12gramstop.fit_transform(data_train)\n",
    "X_test = cv12gramstop.transform(data_test)"
   ]
  },
  {
   "cell_type": "code",
   "execution_count": 0,
   "metadata": {
    "colab": {},
    "colab_type": "code",
    "id": "Oj75_P4BQR7D",
    "outputId": "288ba5cb-dc3d-46af-d3c8-ad72e5fc0fd1"
   },
   "outputs": [
    {
     "name": "stdout",
     "output_type": "stream",
     "text": [
      "LOGISTIC REGRESSION with BIGRAMS\n",
      "Best cross-validation score: 0.90\n",
      "Best parameters:  {'C': 0.1}\n"
     ]
    }
   ],
   "source": [
    "# Test for Best Model Parameters of  Logistic Regression Model with GridSearch & Cross Validation\n",
    "param_grid = {'C': [0.001, 0.01, 0.1, 1, 10, 100]}\n",
    "grid = GridSearchCV(LogisticRegression(), param_grid, cv=5)\n",
    "grid.fit(X_train, y_train)\n",
    "\n",
    "print(\"LOGISTIC REGRESSION with BIGRAMS\")\n",
    "print(\"Best cross-validation score: {:.2f}\".format(grid.best_score_))\n",
    "print(\"Best parameters: \", grid.best_params_)"
   ]
  },
  {
   "cell_type": "code",
   "execution_count": 0,
   "metadata": {
    "colab": {},
    "colab_type": "code",
    "id": "XDTBD9YbQR7F",
    "outputId": "3a57d150-22be-4791-e5ec-56d380b4388a"
   },
   "outputs": [
    {
     "name": "stdout",
     "output_type": "stream",
     "text": [
      "MODEL 4: LOGISTIC REGRESSION w BIGRAMS\n",
      "Best cross-validation score: 0.89\n",
      "AUC Score: 0.96\n",
      "              precision    recall  f1-score   support\n",
      "\n",
      "           0       0.96      0.81      0.88      1025\n",
      "           1       0.96      0.99      0.98      4636\n",
      "\n",
      "   micro avg       0.96      0.96      0.96      5661\n",
      "   macro avg       0.96      0.90      0.93      5661\n",
      "weighted avg       0.96      0.96      0.96      5661\n",
      "\n"
     ]
    },
    {
     "data": {
      "image/png": "[encoded data removed]",
      "text/plain": [
       "<Figure size 1080x360 with 1 Axes>"
      ]
     },
     "metadata": {
      "needs_background": "light",
      "tags": []
     },
     "output_type": "display_data"
    }
   ],
   "source": [
    "# Visualize Coefficients for Penalized Logistic Regression\n",
    "coefs = LogisticRegression(C=0.001).fit(X_train, y_train).coef_\n",
    "feature_names = cv12gramstop.get_feature_names()\n",
    "visualize_coefficients(coefs, feature_names, n_top_features=15)\n",
    "\n",
    "# Evaluating Model Using AUC\n",
    "from sklearn.metrics import accuracy_score\n",
    "y_predict = grid.predict(X_test)\n",
    "auc_4 = accuracy_score(y_test, y_predict)\n",
    "\n",
    "# Evaluating Model Using Test Data \n",
    "grid.fit(X_test, y_test)\n",
    "\n",
    "print(\"MODEL 4: LOGISTIC REGRESSION w BIGRAMS\")\n",
    "print(\"Best cross-validation score: {:.2f}\".format(grid.best_score_)) # TEST TO MAKE SURE THIS RUNS\n",
    "print(\"AUC Score: {:.2f}\".format(auc_4))\n",
    "\n",
    "# F1 Score: (Precision + Recall) / 2 \n",
    "print(classification_report(y_test, y_predict))"
   ]
  },
  {
   "cell_type": "code",
   "execution_count": 0,
   "metadata": {
    "colab": {},
    "colab_type": "code",
    "id": "iBh33AxGQR7H",
    "outputId": "f42ce665-47d5-40f3-93bd-3af4a81f2b95"
   },
   "outputs": [
    {
     "name": "stdout",
     "output_type": "stream",
     "text": [
      "AUC Scores from All Four Models\n",
      "Logistic Regression: 0.91\n",
      "Logistic Regression (Bag of Words): 0.90\n",
      "Penalized Logistic Regression: 0.90\n",
      "Logistic Regression w/ Bi- & Tri-grams: 0.90\n"
     ]
    }
   ],
   "source": [
    "# Summary (I'D LIKE TO TURN THIS INTO A TABLE)\n",
    "print(\"AUC Scores from All Four Models\")\n",
    "print(\"Logistic Regression: {:.2f}\".format(auc_1))\n",
    "print(\"Logistic Regression (Bag of Words): {:.2f}\".format(auc_2))\n",
    "print(\"Penalized Logistic Regression: {:.2f}\".format(auc_3))\n",
    "print(\"Logistic Regression w/ Bi- & Tri-grams: {:.2f}\".format(auc_4))"
   ]
  },
  {
   "cell_type": "markdown",
   "metadata": {
    "colab_type": "text",
    "id": "voDQI7JvQR7L"
   },
   "source": [
    "# Part II. Build a predictive neural network using Keras"
   ]
  },
  {
   "cell_type": "markdown",
   "metadata": {
    "colab_type": "text",
    "id": "DDrCvoS4QR7L"
   },
   "source": [
    "To complete part two of the homework do the following:\n",
    "\n",
    "**Run a multilayer perceptron (feed forward neural network) with two hidden layers on the iris dataset using the keras Sequential interface.**\n",
    "\n",
    "Data can be imported via the following link:\n",
    "\n",
    "http://vincentarelbundock.github.io/Rdatasets/csv/datasets/iris.csv\n",
    "\n",
    "**Include code for selecting the number of hidden units using GridSearchCV and evaluation on a test-set.  Describe the differences in the predictive accuracy of models with different numbers of hidden units.  Describe the predictive strength of your best model.  Be sure to explain your choice and evaluate this model using the test set.**"
   ]
  },
  {
   "cell_type": "code",
   "execution_count": 0,
   "metadata": {
    "colab": {},
    "colab_type": "code",
    "id": "7UZ7JIU9QR7M"
   },
   "outputs": [],
   "source": [
    "import os\n",
    "os.system(\"pip install keras\")\n",
    "import os\n",
    "os.system(\"pip install tensorflow\")\n",
    "import keras\n",
    "import sklearn\n",
    "from keras.wrappers.scikit_learn import KerasClassifier\n",
    "import numpy as ny\n",
    "import pandas as pd\n",
    "from keras.optimizers import SGD\n",
    "from keras.layers import Dense, Activation\n",
    "from keras.models import Sequential\n",
    "from keras.utils.np_utils import to_categorical"
   ]
  },
  {
   "cell_type": "markdown",
   "metadata": {
    "colab_type": "text",
    "id": "8XxsaDDgQR7N"
   },
   "source": [
    "### Import Iris Data"
   ]
  },
  {
   "cell_type": "code",
   "execution_count": 0,
   "metadata": {
    "colab": {},
    "colab_type": "code",
    "id": "V37wNIvXQR7O"
   },
   "outputs": [],
   "source": [
    "data = pd.read_csv(\"http://vincentarelbundock.github.io/Rdatasets/csv/datasets/iris.csv\" , encoding=\"latin_1\")\n",
    "\n",
    "# Update Data to Set Up for Train Test Split\n",
    "data = data.iloc[:,1:]\n",
    "y = data['Species']\n",
    "X = data.loc[:, data.columns != 'Species']\n",
    "\n",
    "# Transform non-numerical y-labels to numerical labels\n",
    "from sklearn.preprocessing import LabelEncoder\n",
    "encoder = LabelEncoder()\n",
    "encoder.fit(y)\n",
    "encoded_Y = encoder.transform(y)\n",
    "y = keras.utils.to_categorical(encoded_Y)\n",
    "\n",
    "# Split the Data\n",
    "X_train, X_test, y_train, y_test = train_test_split(X, y, test_size=0.25, random_state=42)"
   ]
  },
  {
   "cell_type": "markdown",
   "metadata": {
    "colab_type": "text",
    "id": "G1EpyiVdQR7Q"
   },
   "source": [
    "### Build a Feed Forward Neural Network with 2 Hidden Layers Using the Keras Sequential Interface."
   ]
  },
  {
   "cell_type": "code",
   "execution_count": 0,
   "metadata": {
    "colab": {},
    "colab_type": "code",
    "id": "Wd_tUnK2QR7R"
   },
   "outputs": [],
   "source": [
    "# Create a Function that Builds the Model\n",
    "def compile_model(n = 8, learn_rate = 0.01):\n",
    "    # Create the Model\n",
    "    model = Sequential() \n",
    "    model.add(Dense(n, input_dim=4, activation='relu'))\n",
    "    model.add(Dense(n, activation='relu'))\n",
    "    model.add(Dense(3, activation='softmax'))\n",
    "    # Compile the Model\n",
    "    optimizer = SGD(lr=learn_rate)\n",
    "    model.compile(loss='categorical_crossentropy', optimizer=optimizer, metrics=['accuracy'])\n",
    "    return model"
   ]
  },
  {
   "cell_type": "markdown",
   "metadata": {
    "colab_type": "text",
    "id": "k-xllJsLQR7S"
   },
   "source": [
    "### Include Code for Selecting the Number of Hidden Units using GridSearchCV on a Test-Set"
   ]
  },
  {
   "cell_type": "markdown",
   "metadata": {
    "colab_type": "text",
    "id": "ccIDkZ0AQR7S"
   },
   "source": [
    "#### Adjusting Number of Epochs"
   ]
  },
  {
   "cell_type": "code",
   "execution_count": 0,
   "metadata": {
    "colab": {},
    "colab_type": "code",
    "id": "DBaN_zJXQR7T",
    "outputId": "9a96ae12-2c40-4f7b-acef-3fe5ae160f92"
   },
   "outputs": [
    {
     "name": "stdout",
     "output_type": "stream",
     "text": [
      "Best score is 0.54, Best parameter is {'epochs': 30}\n",
      "0.44 (0.11) with {'epochs': 10}\n",
      "0.52 (0.14) with {'epochs': 20}\n",
      "0.54 (0.17) with {'epochs': 30}\n"
     ]
    }
   ],
   "source": [
    "import warnings\n",
    "warnings.simplefilter(action='ignore', category=DeprecationWarning)\n",
    "\n",
    "# Establish the Model Our New Function will Inform\n",
    "basemodel = compile_model()\n",
    "\n",
    "# Define the Grid Search Parameters\n",
    "param_grid = dict(epochs=[10,20,30])\n",
    "\n",
    "\n",
    "# Call the new Model Function in the KerasClassifier Package \n",
    "model = KerasClassifier(build_fn = compile_model, verbose=0) \n",
    "\n",
    "# Use n_jobs=-1 to Parallelize Across Available Processors (to speed it up)\n",
    "grid = GridSearchCV(estimator=model, param_grid=param_grid, n_jobs = -1)\n",
    "grid = grid.fit(X_train, y_train)\n",
    "\n",
    "\n",
    "# Print Best Training Results\n",
    "print(\"Best score is {:.2f},\".format(grid.best_score_),\"Best parameter is {}\".format(grid.best_params_))\n",
    "\n",
    "# Summarize Training Results\n",
    "means = grid.cv_results_['mean_test_score']\n",
    "stds = grid.cv_results_['std_test_score']\n",
    "params = grid.cv_results_['params']\n",
    "for mean, stdev, param in zip(means, stds, params):\n",
    "    print(\"{:.2f} ({:.2f}) with {}\".format(mean, stdev, param))"
   ]
  },
  {
   "cell_type": "markdown",
   "metadata": {
    "colab_type": "text",
    "id": "nZTKbo3RQR7V"
   },
   "source": [
    "#### Adjusting Learn Rate"
   ]
  },
  {
   "cell_type": "code",
   "execution_count": 0,
   "metadata": {
    "colab": {},
    "colab_type": "code",
    "id": "5J8s6w22QR7V",
    "outputId": "3c3c0c27-f1f0-4377-f041-e92bb3467a6c"
   },
   "outputs": [
    {
     "name": "stdout",
     "output_type": "stream",
     "text": [
      "Best score is 0.58, Best parameter is {'learn_rate': 0.02}\n",
      "0.36 (0.02) with {'learn_rate': 0.0001}\n",
      "0.42 (0.12) with {'learn_rate': 0.001}\n",
      "0.38 (0.24) with {'learn_rate': 0.01}\n",
      "0.58 (0.12) with {'learn_rate': 0.02}\n"
     ]
    }
   ],
   "source": [
    "# Establish the Model Our New Function will Inform\n",
    "basemodel = compile_model()\n",
    "\n",
    "# Define the Grid Search Parameters\n",
    "learn_rate = [0.0001, 0.001, 0.01, 0.02]\n",
    "\n",
    "# Set Dictionary for the Parameters\n",
    "param_grid = dict(learn_rate=learn_rate) \n",
    "\n",
    "# Call the new Model Function in the KerasClassifier Package \n",
    "model = KerasClassifier(build_fn = compile_model, verbose=0) \n",
    "\n",
    "# Use n_jobs=-1 to Parallelize Across Available Processors (to speed it up)\n",
    "grid = GridSearchCV(estimator=model, param_grid=param_grid)\n",
    "grid = grid.fit(X_train, y_train)\n",
    "\n",
    "# Print Best Training Results\n",
    "print(\"Best score is {:.2f},\".format(grid.best_score_),\"Best parameter is {}\".format(grid.best_params_))\n",
    "\n",
    "# Summarize Training Results\n",
    "means = grid.cv_results_['mean_test_score']\n",
    "stds = grid.cv_results_['std_test_score']\n",
    "params = grid.cv_results_['params']\n",
    "for mean, stdev, param in zip(means, stds, params):\n",
    "    print(\"{:.2f} ({:.2f}) with {}\".format(mean, stdev, param))"
   ]
  },
  {
   "cell_type": "markdown",
   "metadata": {
    "colab_type": "text",
    "id": "s5rCOER9QR7X"
   },
   "source": [
    "#### Adjusting Number of Neurons in a Layer"
   ]
  },
  {
   "cell_type": "code",
   "execution_count": 0,
   "metadata": {
    "colab": {},
    "colab_type": "code",
    "id": "hJF_2LB0QR7Y",
    "outputId": "351ffc0e-a73c-47f1-e14e-ec9e1659acf6"
   },
   "outputs": [
    {
     "name": "stdout",
     "output_type": "stream",
     "text": [
      "Best score is 0.57, Best parameter is {'n': 112}\n",
      "0.29 (0.17) with {'n': 16}\n",
      "0.46 (0.17) with {'n': 32}\n",
      "0.46 (0.13) with {'n': 48}\n",
      "0.50 (0.10) with {'n': 64}\n",
      "0.46 (0.16) with {'n': 80}\n",
      "0.34 (0.05) with {'n': 96}\n",
      "0.57 (0.14) with {'n': 112}\n",
      "0.52 (0.17) with {'n': 128}\n"
     ]
    }
   ],
   "source": [
    "# Establish the Model Our New Function will Inform\n",
    "basemodel = compile_model()\n",
    "\n",
    "# Define the Grid Search Parameters\n",
    "param_grid = dict(n=[16,32,48,64,80,96,112,128]) \n",
    "\n",
    "# Call the new Model Function in the KerasClassifier Package \n",
    "model = KerasClassifier(build_fn = compile_model, verbose=0) \n",
    "\n",
    "# Use n_jobs=-1 to Parallelize Across Available Processors (to speed it up)\n",
    "grid = GridSearchCV(estimator=model, param_grid=param_grid, n_jobs = -1)\n",
    "grid = grid.fit(X_train, y_train)\n",
    "\n",
    "# Print Best Training Results\n",
    "print(\"Best score is {:.2f},\".format(grid.best_score_),\"Best parameter is {}\".format(grid.best_params_))\n",
    "\n",
    "# Summarize Training Results\n",
    "means = grid.cv_results_['mean_test_score']\n",
    "stds = grid.cv_results_['std_test_score']\n",
    "params = grid.cv_results_['params']\n",
    "for mean, stdev, param in zip(means, stds, params):\n",
    "    print(\"{:.2f} ({:.2f}) with {}\".format(mean, stdev, param))"
   ]
  },
  {
   "cell_type": "markdown",
   "metadata": {
    "colab_type": "text",
    "id": "u0rkPoY6QR7a"
   },
   "source": [
    "#### Adjust Batches and Epochs Simultaneously!"
   ]
  },
  {
   "cell_type": "code",
   "execution_count": 0,
   "metadata": {
    "colab": {},
    "colab_type": "code",
    "id": "iGAUDTAPQR7b",
    "outputId": "c49a70b7-eccc-4311-e99b-b6e28f7a19b1"
   },
   "outputs": [
    {
     "name": "stdout",
     "output_type": "stream",
     "text": [
      "Best score is 0.87, Best parameter is {'batch_size': 10, 'epochs': 10}\n",
      "0.56 (0.30) with {'batch_size': 5, 'epochs': 10}\n",
      "0.82 (0.12) with {'batch_size': 5, 'epochs': 20}\n",
      "0.80 (0.12) with {'batch_size': 5, 'epochs': 30}\n",
      "0.87 (0.08) with {'batch_size': 10, 'epochs': 10}\n",
      "0.71 (0.13) with {'batch_size': 10, 'epochs': 20}\n",
      "0.83 (0.13) with {'batch_size': 10, 'epochs': 30}\n",
      "0.79 (0.10) with {'batch_size': 20, 'epochs': 10}\n",
      "0.76 (0.13) with {'batch_size': 20, 'epochs': 20}\n",
      "0.73 (0.10) with {'batch_size': 20, 'epochs': 30}\n"
     ]
    }
   ],
   "source": [
    "# Establish the Model Our New Function will Inform\n",
    "basemodel = compile_model()\n",
    "\n",
    "# Define the Grid Search Parameters \n",
    "epochs = [10,20,30]\n",
    "batches = [5, 10, 20] \n",
    "param_grid = dict(epochs=epochs, batch_size=batches)\n",
    "\n",
    "# Call the new Model Function in the KerasClassifier Package \n",
    "model = KerasClassifier(build_fn = compile_model, verbose=0) \n",
    "\n",
    "# Use n_jobs=-1 to Parallelize Across Available Processors (to speed it up)\n",
    "grid = GridSearchCV(estimator=model, param_grid=param_grid, n_jobs = -1)\n",
    "grid = grid.fit(X_train, y_train)\n",
    "\n",
    "# Print Best Training Results\n",
    "print(\"Best score is {:.2f},\".format(grid.best_score_),\"Best parameter is {}\".format(grid.best_params_))\n",
    "\n",
    "# Summarize Training Results\n",
    "means = grid.cv_results_['mean_test_score']\n",
    "stds = grid.cv_results_['std_test_score']\n",
    "params = grid.cv_results_['params']\n",
    "for mean, stdev, param in zip(means, stds, params):\n",
    "    print(\"{:.2f} ({:.2f}) with {}\".format(mean, stdev, param))"
   ]
  },
  {
   "cell_type": "markdown",
   "metadata": {
    "colab_type": "text",
    "id": "wmcVf861QR7d"
   },
   "source": [
    "**Note:** When you balance the number of epochs with batch size, you can run more epochs in less time and get a higher accuracy!"
   ]
  },
  {
   "cell_type": "markdown",
   "metadata": {
    "colab_type": "text",
    "id": "SEk_li4MQR7d"
   },
   "source": [
    "#### Adjust Neurons and Learn Rate, too!"
   ]
  },
  {
   "cell_type": "code",
   "execution_count": 0,
   "metadata": {
    "colab": {},
    "colab_type": "code",
    "id": "r0u_zKoVQR7e",
    "outputId": "b397412c-494f-41d1-de8c-dd04c7e21d85"
   },
   "outputs": [
    {
     "name": "stdout",
     "output_type": "stream",
     "text": [
      "Best score is 0.42, Best parameter is {'learn_rate': 0.01, 'n': 64}\n",
      "0.41 (0.09) with {'learn_rate': 0.0001, 'n': 16}\n",
      "0.31 (0.22) with {'learn_rate': 0.0001, 'n': 32}\n",
      "0.37 (0.16) with {'learn_rate': 0.0001, 'n': 48}\n",
      "0.38 (0.02) with {'learn_rate': 0.0001, 'n': 64}\n",
      "0.29 (0.06) with {'learn_rate': 0.001, 'n': 16}\n",
      "0.36 (0.03) with {'learn_rate': 0.001, 'n': 32}\n",
      "0.36 (0.03) with {'learn_rate': 0.001, 'n': 48}\n",
      "0.29 (0.06) with {'learn_rate': 0.001, 'n': 64}\n",
      "0.34 (0.04) with {'learn_rate': 0.01, 'n': 16}\n",
      "0.40 (0.14) with {'learn_rate': 0.01, 'n': 32}\n",
      "0.35 (0.04) with {'learn_rate': 0.01, 'n': 48}\n",
      "0.42 (0.09) with {'learn_rate': 0.01, 'n': 64}\n"
     ]
    }
   ],
   "source": [
    "# Establish the Model Our New Function will Inform\n",
    "basemodel = compile_model()\n",
    "\n",
    "# Define the Grid Search Parameters\n",
    "n = [16,32,48,64]\n",
    "learn_rate = [0.0001, 0.001, 0.01]\n",
    "param_grid = dict(n=n, learn_rate=learn_rate)\n",
    "\n",
    "# Call the new Model Function in the KerasClassifier Package \n",
    "model = KerasClassifier(build_fn = compile_model, verbose=0) \n",
    "\n",
    "# Use n_jobs=-1 to Parallelize Across Available Processors (to speed it up)\n",
    "grid = GridSearchCV(estimator=model, param_grid=param_grid, n_jobs = -1)\n",
    "grid = grid.fit(X_train, y_train)\n",
    "\n",
    "# Print Best Training Results\n",
    "print(\"Best score is {:.2f},\".format(grid.best_score_),\"Best parameter is {}\".format(grid.best_params_))\n",
    "\n",
    "# Summarize Training Results\n",
    "means = grid.cv_results_['mean_test_score']\n",
    "stds = grid.cv_results_['std_test_score']\n",
    "params = grid.cv_results_['params']\n",
    "for mean, stdev, param in zip(means, stds, params):\n",
    "    print(\"{:.2f} ({:.2f}) with {}\".format(mean, stdev, param))"
   ]
  },
  {
   "cell_type": "markdown",
   "metadata": {
    "colab_type": "text",
    "id": "EqRjobTyQR7i"
   },
   "source": [
    "**Note:** When you balance the number of neurons with the learning rate, best parameters suggest a smaller number of neurons and a smaller learning rate. Interesting stuff!"
   ]
  },
  {
   "cell_type": "markdown",
   "metadata": {
    "colab_type": "text",
    "id": "y_Sx0VNzQR7j"
   },
   "source": [
    "### Describe the Predictive Strength of Best Model"
   ]
  },
  {
   "cell_type": "code",
   "execution_count": 0,
   "metadata": {
    "colab": {},
    "colab_type": "code",
    "id": "j0WRqTzuQR7j",
    "outputId": "6a530afc-2fcc-4919-edd3-b2f5ccb11a57"
   },
   "outputs": [
    {
     "name": "stdout",
     "output_type": "stream",
     "text": [
      "Epoch 1/10\n",
      "112/112 [==============================] - 2s 16ms/step - loss: 1.1369 - acc: 0.5268\n",
      "Epoch 2/10\n",
      "112/112 [==============================] - 0s 308us/step - loss: 0.8525 - acc: 0.6339\n",
      "Epoch 3/10\n",
      "112/112 [==============================] - 0s 295us/step - loss: 0.7545 - acc: 0.6786\n",
      "Epoch 4/10\n",
      "112/112 [==============================] - 0s 314us/step - loss: 0.7019 - acc: 0.6696\n",
      "Epoch 5/10\n",
      "112/112 [==============================] - 0s 315us/step - loss: 0.6396 - acc: 0.7321\n",
      "Epoch 6/10\n",
      "112/112 [==============================] - 0s 347us/step - loss: 0.6155 - acc: 0.7054\n",
      "Epoch 7/10\n",
      "112/112 [==============================] - 0s 366us/step - loss: 0.5889 - acc: 0.6875\n",
      "Epoch 8/10\n",
      "112/112 [==============================] - 0s 340us/step - loss: 0.5454 - acc: 0.7946\n",
      "Epoch 9/10\n",
      "112/112 [==============================] - 0s 354us/step - loss: 0.5083 - acc: 0.8214\n",
      "Epoch 10/10\n",
      "112/112 [==============================] - 0s 312us/step - loss: 0.5083 - acc: 0.7857\n",
      "38/38 [==============================] - 1s 14ms/step\n",
      "Test loss: 0.448\n",
      "Test Accuracy: 0.842\n"
     ]
    }
   ],
   "source": [
    "# Update Model with New Parameters\n",
    "best_model = Sequential() # Best Parameter\n",
    "best_model.add(Dense(64, input_dim=4, activation='relu'))\n",
    "best_model.add(Dense(64, activation='relu'))\n",
    "best_model.add(Dense(3, activation='softmax'))\n",
    "\n",
    "# Compile Model\n",
    "optimizer = SGD(lr=0.01) # Best Parameter\n",
    "best_model.compile(loss='categorical_crossentropy', optimizer=optimizer, metrics=['accuracy'])\n",
    "\n",
    "# Fit the Model\n",
    "best_model.fit(X_train, y_train,  epochs=10, batch_size=10) # Best Parameter\n",
    "score = best_model.evaluate(X_test, y_test, batch_size=10)\n",
    "\n",
    "print(\"Test loss: {:.3f}\".format(score[0]))\n",
    "print(\"Test Accuracy: {:.3f}\".format(score[1]))"
   ]
  },
  {
   "cell_type": "markdown",
   "metadata": {
    "colab_type": "text",
    "id": "sVmPAqAmQR7l"
   },
   "source": [
    "**Conclusion:** Given the limits of the tuned parameters selected above, we can see that a model with 64 neurons in the hidden layers, a learn_rate of 0.01, 10 epochs, and 10 batches the model gives the highest performance with loss of 0.44 and accuracy of 0.71. The loss decreases continuously with iteration. The model does a fair job of accurately predicting the test dataset."
   ]
  }
 ],
 "metadata": {
  "colab": {
   "collapsed_sections": [],
   "name": "HW4_Key_and_Helpful_Notes.ipynb",
   "provenance": [],
   "version": "0.3.2"
  },
  "kernelspec": {
   "display_name": "Python 3",
   "language": "python",
   "name": "python3"
  },
  "language_info": {
   "codemirror_mode": {
    "name": "ipython",
    "version": 3
   },
   "file_extension": ".py",
   "mimetype": "text/x-python",
   "name": "python",
   "nbconvert_exporter": "python",
   "pygments_lexer": "ipython3",
   "version": "3.7.3"
  }
 },
 "nbformat": 4,
 "nbformat_minor": 1
}

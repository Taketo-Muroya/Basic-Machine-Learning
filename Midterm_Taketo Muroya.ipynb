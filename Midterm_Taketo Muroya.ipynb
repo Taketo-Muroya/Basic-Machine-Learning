{
 "cells": [
  {
   "cell_type": "markdown",
   "metadata": {},
   "source": [
    "## Mid-term for Machine Learning"
   ]
  },
  {
   "cell_type": "code",
   "execution_count": 1,
   "metadata": {},
   "outputs": [],
   "source": [
    "import pandas as pd\n",
    "import numpy as np\n",
    "import matplotlib.pyplot as plt\n",
    "import seaborn as sns\n",
    "import warnings"
   ]
  },
  {
   "cell_type": "markdown",
   "metadata": {},
   "source": [
    "### 1. Import the spam dataset and print the first six rows."
   ]
  },
  {
   "cell_type": "code",
   "execution_count": 2,
   "metadata": {
    "scrolled": true
   },
   "outputs": [
    {
     "data": {
      "text/html": [
       "<div>\n",
       "<style scoped>\n",
       "    .dataframe tbody tr th:only-of-type {\n",
       "        vertical-align: middle;\n",
       "    }\n",
       "\n",
       "    .dataframe tbody tr th {\n",
       "        vertical-align: top;\n",
       "    }\n",
       "\n",
       "    .dataframe thead th {\n",
       "        text-align: right;\n",
       "    }\n",
       "</style>\n",
       "<table border=\"1\" class=\"dataframe\">\n",
       "  <thead>\n",
       "    <tr style=\"text-align: right;\">\n",
       "      <th></th>\n",
       "      <th>word_freq_make:</th>\n",
       "      <th>word_freq_address:</th>\n",
       "      <th>word_freq_all:</th>\n",
       "      <th>word_freq_3d:</th>\n",
       "      <th>word_freq_our:</th>\n",
       "      <th>word_freq_over:</th>\n",
       "      <th>word_freq_remove:</th>\n",
       "      <th>word_freq_internet:</th>\n",
       "      <th>word_freq_order:</th>\n",
       "      <th>word_freq_mail:</th>\n",
       "      <th>...</th>\n",
       "      <th>char_freq_;:</th>\n",
       "      <th>char_freq_(:</th>\n",
       "      <th>char_freq_[:</th>\n",
       "      <th>char_freq_!:</th>\n",
       "      <th>char_freq_$:</th>\n",
       "      <th>char_freq_#:</th>\n",
       "      <th>capital_run_length_average:</th>\n",
       "      <th>capital_run_length_longest:</th>\n",
       "      <th>capital_run_length_total:</th>\n",
       "      <th>spam</th>\n",
       "    </tr>\n",
       "  </thead>\n",
       "  <tbody>\n",
       "    <tr>\n",
       "      <th>0</th>\n",
       "      <td>0.00</td>\n",
       "      <td>0.64</td>\n",
       "      <td>0.64</td>\n",
       "      <td>0.0</td>\n",
       "      <td>0.32</td>\n",
       "      <td>0.00</td>\n",
       "      <td>0.00</td>\n",
       "      <td>0.00</td>\n",
       "      <td>0.00</td>\n",
       "      <td>0.00</td>\n",
       "      <td>...</td>\n",
       "      <td>0.00</td>\n",
       "      <td>0.000</td>\n",
       "      <td>0.0</td>\n",
       "      <td>0.778</td>\n",
       "      <td>0.000</td>\n",
       "      <td>0.000</td>\n",
       "      <td>3.756</td>\n",
       "      <td>61</td>\n",
       "      <td>278</td>\n",
       "      <td>1</td>\n",
       "    </tr>\n",
       "    <tr>\n",
       "      <th>1</th>\n",
       "      <td>0.21</td>\n",
       "      <td>0.28</td>\n",
       "      <td>0.50</td>\n",
       "      <td>0.0</td>\n",
       "      <td>0.14</td>\n",
       "      <td>0.28</td>\n",
       "      <td>0.21</td>\n",
       "      <td>0.07</td>\n",
       "      <td>0.00</td>\n",
       "      <td>0.94</td>\n",
       "      <td>...</td>\n",
       "      <td>0.00</td>\n",
       "      <td>0.132</td>\n",
       "      <td>0.0</td>\n",
       "      <td>0.372</td>\n",
       "      <td>0.180</td>\n",
       "      <td>0.048</td>\n",
       "      <td>5.114</td>\n",
       "      <td>101</td>\n",
       "      <td>1028</td>\n",
       "      <td>1</td>\n",
       "    </tr>\n",
       "    <tr>\n",
       "      <th>2</th>\n",
       "      <td>0.06</td>\n",
       "      <td>0.00</td>\n",
       "      <td>0.71</td>\n",
       "      <td>0.0</td>\n",
       "      <td>1.23</td>\n",
       "      <td>0.19</td>\n",
       "      <td>0.19</td>\n",
       "      <td>0.12</td>\n",
       "      <td>0.64</td>\n",
       "      <td>0.25</td>\n",
       "      <td>...</td>\n",
       "      <td>0.01</td>\n",
       "      <td>0.143</td>\n",
       "      <td>0.0</td>\n",
       "      <td>0.276</td>\n",
       "      <td>0.184</td>\n",
       "      <td>0.010</td>\n",
       "      <td>9.821</td>\n",
       "      <td>485</td>\n",
       "      <td>2259</td>\n",
       "      <td>1</td>\n",
       "    </tr>\n",
       "    <tr>\n",
       "      <th>3</th>\n",
       "      <td>0.00</td>\n",
       "      <td>0.00</td>\n",
       "      <td>0.00</td>\n",
       "      <td>0.0</td>\n",
       "      <td>0.63</td>\n",
       "      <td>0.00</td>\n",
       "      <td>0.31</td>\n",
       "      <td>0.63</td>\n",
       "      <td>0.31</td>\n",
       "      <td>0.63</td>\n",
       "      <td>...</td>\n",
       "      <td>0.00</td>\n",
       "      <td>0.137</td>\n",
       "      <td>0.0</td>\n",
       "      <td>0.137</td>\n",
       "      <td>0.000</td>\n",
       "      <td>0.000</td>\n",
       "      <td>3.537</td>\n",
       "      <td>40</td>\n",
       "      <td>191</td>\n",
       "      <td>1</td>\n",
       "    </tr>\n",
       "    <tr>\n",
       "      <th>4</th>\n",
       "      <td>0.00</td>\n",
       "      <td>0.00</td>\n",
       "      <td>0.00</td>\n",
       "      <td>0.0</td>\n",
       "      <td>0.63</td>\n",
       "      <td>0.00</td>\n",
       "      <td>0.31</td>\n",
       "      <td>0.63</td>\n",
       "      <td>0.31</td>\n",
       "      <td>0.63</td>\n",
       "      <td>...</td>\n",
       "      <td>0.00</td>\n",
       "      <td>0.135</td>\n",
       "      <td>0.0</td>\n",
       "      <td>0.135</td>\n",
       "      <td>0.000</td>\n",
       "      <td>0.000</td>\n",
       "      <td>3.537</td>\n",
       "      <td>40</td>\n",
       "      <td>191</td>\n",
       "      <td>1</td>\n",
       "    </tr>\n",
       "    <tr>\n",
       "      <th>5</th>\n",
       "      <td>0.00</td>\n",
       "      <td>0.00</td>\n",
       "      <td>0.00</td>\n",
       "      <td>0.0</td>\n",
       "      <td>1.85</td>\n",
       "      <td>0.00</td>\n",
       "      <td>0.00</td>\n",
       "      <td>1.85</td>\n",
       "      <td>0.00</td>\n",
       "      <td>0.00</td>\n",
       "      <td>...</td>\n",
       "      <td>0.00</td>\n",
       "      <td>0.223</td>\n",
       "      <td>0.0</td>\n",
       "      <td>0.000</td>\n",
       "      <td>0.000</td>\n",
       "      <td>0.000</td>\n",
       "      <td>3.000</td>\n",
       "      <td>15</td>\n",
       "      <td>54</td>\n",
       "      <td>1</td>\n",
       "    </tr>\n",
       "  </tbody>\n",
       "</table>\n",
       "<p>6 rows × 58 columns</p>\n",
       "</div>"
      ],
      "text/plain": [
       "   word_freq_make:  word_freq_address:  word_freq_all:  word_freq_3d:  \\\n",
       "0             0.00                0.64            0.64            0.0   \n",
       "1             0.21                0.28            0.50            0.0   \n",
       "2             0.06                0.00            0.71            0.0   \n",
       "3             0.00                0.00            0.00            0.0   \n",
       "4             0.00                0.00            0.00            0.0   \n",
       "5             0.00                0.00            0.00            0.0   \n",
       "\n",
       "   word_freq_our:  word_freq_over:  word_freq_remove:  word_freq_internet:  \\\n",
       "0            0.32             0.00               0.00                 0.00   \n",
       "1            0.14             0.28               0.21                 0.07   \n",
       "2            1.23             0.19               0.19                 0.12   \n",
       "3            0.63             0.00               0.31                 0.63   \n",
       "4            0.63             0.00               0.31                 0.63   \n",
       "5            1.85             0.00               0.00                 1.85   \n",
       "\n",
       "   word_freq_order:  word_freq_mail:  ...  char_freq_;:  char_freq_(:  \\\n",
       "0              0.00             0.00  ...          0.00         0.000   \n",
       "1              0.00             0.94  ...          0.00         0.132   \n",
       "2              0.64             0.25  ...          0.01         0.143   \n",
       "3              0.31             0.63  ...          0.00         0.137   \n",
       "4              0.31             0.63  ...          0.00         0.135   \n",
       "5              0.00             0.00  ...          0.00         0.223   \n",
       "\n",
       "   char_freq_[:  char_freq_!:  char_freq_$:  char_freq_#:  \\\n",
       "0           0.0         0.778         0.000         0.000   \n",
       "1           0.0         0.372         0.180         0.048   \n",
       "2           0.0         0.276         0.184         0.010   \n",
       "3           0.0         0.137         0.000         0.000   \n",
       "4           0.0         0.135         0.000         0.000   \n",
       "5           0.0         0.000         0.000         0.000   \n",
       "\n",
       "   capital_run_length_average:  capital_run_length_longest:  \\\n",
       "0                        3.756                           61   \n",
       "1                        5.114                          101   \n",
       "2                        9.821                          485   \n",
       "3                        3.537                           40   \n",
       "4                        3.537                           40   \n",
       "5                        3.000                           15   \n",
       "\n",
       "   capital_run_length_total:  spam  \n",
       "0                        278     1  \n",
       "1                       1028     1  \n",
       "2                       2259     1  \n",
       "3                        191     1  \n",
       "4                        191     1  \n",
       "5                         54     1  \n",
       "\n",
       "[6 rows x 58 columns]"
      ]
     },
     "execution_count": 2,
     "metadata": {},
     "output_type": "execute_result"
    }
   ],
   "source": [
    "df = pd.read_csv(\"spam_dataset.csv\")\n",
    "df.head(6)"
   ]
  },
  {
   "cell_type": "markdown",
   "metadata": {},
   "source": [
    "### 2. The dependent variable is \"spam\" where one indicates that an email is spam and zero otherwise.  Which three variables in the dataset do you think will be important predictors in a model of spam?  Why?"
   ]
  },
  {
   "cell_type": "markdown",
   "metadata": {},
   "source": [
    "I think 'word_freq_money,' 'char_freq_$,' and 'capital_run_length_average' would be important predictors."
   ]
  },
  {
   "cell_type": "markdown",
   "metadata": {},
   "source": [
    "This is because 'money' and '$' in emails may represent something to beg money as spam. And also, the average length of uninterrupted sequences of capital letters seem to be weird because we do not use uninterrupted capital letters in normal mails."
   ]
  },
  {
   "cell_type": "markdown",
   "metadata": {},
   "source": [
    "### 3. Visualize the univariate distribution of each of the variables in the previous question.  "
   ]
  },
  {
   "cell_type": "code",
   "execution_count": 4,
   "metadata": {
    "scrolled": true
   },
   "outputs": [
    {
     "data": {
      "text/plain": [
       "<matplotlib.axes._subplots.AxesSubplot at 0x167f11b1e10>"
      ]
     },
     "execution_count": 4,
     "metadata": {},
     "output_type": "execute_result"
    },
    {
     "data": {
      "image/png": "[encoded data removed]",
      "text/plain": [
       "<Figure size 432x288 with 1 Axes>"
      ]
     },
     "metadata": {
      "needs_background": "light"
     },
     "output_type": "display_data"
    }
   ],
   "source": [
    "df['spam'].hist()"
   ]
  },
  {
   "cell_type": "code",
   "execution_count": 5,
   "metadata": {
    "scrolled": true
   },
   "outputs": [
    {
     "data": {
      "text/plain": [
       "<matplotlib.axes._subplots.AxesSubplot at 0x167f0fc4f98>"
      ]
     },
     "execution_count": 5,
     "metadata": {},
     "output_type": "execute_result"
    },
    {
     "data": {
      "image/png": "[encoded data removed]",
      "text/plain": [
       "<Figure size 432x288 with 1 Axes>"
      ]
     },
     "metadata": {
      "needs_background": "light"
     },
     "output_type": "display_data"
    }
   ],
   "source": [
    "sns.distplot(df['spam'])"
   ]
  },
  {
   "cell_type": "code",
   "execution_count": 6,
   "metadata": {
    "scrolled": true
   },
   "outputs": [
    {
     "data": {
      "text/plain": [
       "<matplotlib.axes._subplots.AxesSubplot at 0x167f12cdeb8>"
      ]
     },
     "execution_count": 6,
     "metadata": {},
     "output_type": "execute_result"
    },
    {
     "data": {
      "image/png": "[encoded data removed]",
      "text/plain": [
       "<Figure size 432x288 with 1 Axes>"
      ]
     },
     "metadata": {
      "needs_background": "light"
     },
     "output_type": "display_data"
    }
   ],
   "source": [
    "df['word_freq_money:'].hist()"
   ]
  },
  {
   "cell_type": "code",
   "execution_count": 7,
   "metadata": {
    "scrolled": true
   },
   "outputs": [
    {
     "data": {
      "text/plain": [
       "<matplotlib.axes._subplots.AxesSubplot at 0x167f1151198>"
      ]
     },
     "execution_count": 7,
     "metadata": {},
     "output_type": "execute_result"
    },
    {
     "data": {
      "image/png": "[encoded data removed]",
      "text/plain": [
       "<Figure size 432x288 with 1 Axes>"
      ]
     },
     "metadata": {
      "needs_background": "light"
     },
     "output_type": "display_data"
    }
   ],
   "source": [
    "sns.distplot(df['word_freq_money:'])"
   ]
  },
  {
   "cell_type": "code",
   "execution_count": 8,
   "metadata": {
    "scrolled": true
   },
   "outputs": [
    {
     "data": {
      "text/plain": [
       "<matplotlib.axes._subplots.AxesSubplot at 0x167f13e3a58>"
      ]
     },
     "execution_count": 8,
     "metadata": {},
     "output_type": "execute_result"
    },
    {
     "data": {
      "image/png": "[encoded data removed]",
      "text/plain": [
       "<Figure size 432x288 with 1 Axes>"
      ]
     },
     "metadata": {
      "needs_background": "light"
     },
     "output_type": "display_data"
    }
   ],
   "source": [
    "sns.boxplot(x='spam', y='word_freq_money:', data=df)"
   ]
  },
  {
   "cell_type": "code",
   "execution_count": 9,
   "metadata": {
    "scrolled": true
   },
   "outputs": [
    {
     "data": {
      "text/plain": [
       "<matplotlib.axes._subplots.AxesSubplot at 0x167f14adba8>"
      ]
     },
     "execution_count": 9,
     "metadata": {},
     "output_type": "execute_result"
    },
    {
     "data": {
      "image/png": "[encoded data removed]",
      "text/plain": [
       "<Figure size 432x288 with 1 Axes>"
      ]
     },
     "metadata": {
      "needs_background": "light"
     },
     "output_type": "display_data"
    }
   ],
   "source": [
    "df['char_freq_$:'].hist()"
   ]
  },
  {
   "cell_type": "code",
   "execution_count": 10,
   "metadata": {
    "scrolled": false
   },
   "outputs": [
    {
     "data": {
      "text/plain": [
       "<matplotlib.axes._subplots.AxesSubplot at 0x167f151b2e8>"
      ]
     },
     "execution_count": 10,
     "metadata": {},
     "output_type": "execute_result"
    },
    {
     "data": {
      "image/png": "[encoded data removed]",
      "text/plain": [
       "<Figure size 432x288 with 1 Axes>"
      ]
     },
     "metadata": {
      "needs_background": "light"
     },
     "output_type": "display_data"
    }
   ],
   "source": [
    "sns.distplot(df['char_freq_$:'])"
   ]
  },
  {
   "cell_type": "code",
   "execution_count": 11,
   "metadata": {
    "scrolled": false
   },
   "outputs": [
    {
     "data": {
      "text/plain": [
       "<matplotlib.axes._subplots.AxesSubplot at 0x167f2838f28>"
      ]
     },
     "execution_count": 11,
     "metadata": {},
     "output_type": "execute_result"
    },
    {
     "data": {
      "image/png": "[encoded data removed]",
      "text/plain": [
       "<Figure size 432x288 with 1 Axes>"
      ]
     },
     "metadata": {
      "needs_background": "light"
     },
     "output_type": "display_data"
    }
   ],
   "source": [
    "sns.boxplot(x='spam', y='char_freq_$:', data=df)"
   ]
  },
  {
   "cell_type": "code",
   "execution_count": 12,
   "metadata": {
    "scrolled": true
   },
   "outputs": [
    {
     "data": {
      "text/plain": [
       "<matplotlib.axes._subplots.AxesSubplot at 0x167f28bbbe0>"
      ]
     },
     "execution_count": 12,
     "metadata": {},
     "output_type": "execute_result"
    },
    {
     "data": {
      "image/png": "[encoded data removed]",
      "text/plain": [
       "<Figure size 432x288 with 1 Axes>"
      ]
     },
     "metadata": {
      "needs_background": "light"
     },
     "output_type": "display_data"
    }
   ],
   "source": [
    "df['capital_run_length_average:'].hist()"
   ]
  },
  {
   "cell_type": "code",
   "execution_count": 13,
   "metadata": {
    "scrolled": false
   },
   "outputs": [
    {
     "data": {
      "text/plain": [
       "<matplotlib.axes._subplots.AxesSubplot at 0x167f292a9e8>"
      ]
     },
     "execution_count": 13,
     "metadata": {},
     "output_type": "execute_result"
    },
    {
     "data": {
      "image/png": "[encoded data removed]",
      "text/plain": [
       "<Figure size 432x288 with 1 Axes>"
      ]
     },
     "metadata": {
      "needs_background": "light"
     },
     "output_type": "display_data"
    }
   ],
   "source": [
    "sns.distplot(df['capital_run_length_average:'])"
   ]
  },
  {
   "cell_type": "code",
   "execution_count": 14,
   "metadata": {
    "scrolled": false
   },
   "outputs": [
    {
     "data": {
      "text/plain": [
       "<matplotlib.axes._subplots.AxesSubplot at 0x167f29deac8>"
      ]
     },
     "execution_count": 14,
     "metadata": {},
     "output_type": "execute_result"
    },
    {
     "data": {
      "image/png": "[encoded data removed]",
      "text/plain": [
       "<Figure size 432x288 with 1 Axes>"
      ]
     },
     "metadata": {
      "needs_background": "light"
     },
     "output_type": "display_data"
    }
   ],
   "source": [
    "sns.boxplot(x='spam', y='capital_run_length_average:', data=df)"
   ]
  },
  {
   "cell_type": "markdown",
   "metadata": {},
   "source": [
    "### 4. Name each of the supervised learning models that we have learned thus far that are used to predict dependent variables like \"spam\".   (Include models we have learned through class 6 only)."
   ]
  },
  {
   "cell_type": "markdown",
   "metadata": {},
   "source": [
    "Since the dependent varible is binary data in this case, we can use K-Nearest Neighbors Classifier, Logistic Regression Model (including Ridge and Lasso), Support Vector Machine, (Bagging or Boosting) Decision Tree Classifier, and Random Forest Classifier to predict the binary dependent variable."
   ]
  },
  {
   "cell_type": "markdown",
   "metadata": {},
   "source": [
    "### 5. Describe the importance of training and test data.  Why do we separate data into these subsets?"
   ]
  },
  {
   "cell_type": "markdown",
   "metadata": {},
   "source": [
    "Both training and test data are important because we need to train the model using parts of the data and also test the accuracy of the model using parts of the data as well. Thus, we split the available data into training and test data. First, we fit training data into our model and construct the way of projection based on the relathionship between the dependent and independent variables in training dataset. Second, we can compare the predicted dependent variables with the dependent variables in test data, and then see the accuracy of the model. Even though the model gets complex and the accuracy in training data improves, it may cause the overfitting apart from generalization. Thus, we want to find a kind of sweet spot indicating the best accuracy in test data, which would refer to a more generalized model."
   ]
  },
  {
   "cell_type": "markdown",
   "metadata": {},
   "source": [
    "### 6. What is k-fold cross validation and what do we use it for?"
   ]
  },
  {
   "cell_type": "markdown",
   "metadata": {},
   "source": [
    "K-fold cross validation is a way of checking the accuracy of a model using limited data. First, we split the data into 'the number of k' groups. Second, we can pick up one of groups as test group and use the rest of groups as training data, and then calculate the accuracy in this case. Third, we repeat the same procedure as before. We can choose the other group as test group and the rest of groups as training data. We repeat this procedure k times and finally calculate the mean of accuracies among k models, which would represent the accucary of the model. We can fully utilize the limited data to test the model."
   ]
  },
  {
   "cell_type": "markdown",
   "metadata": {},
   "source": [
    "### 7. How is k-fold cross validation different from stratified k-fold cross validation?"
   ]
  },
  {
   "cell_type": "markdown",
   "metadata": {},
   "source": [
    "Stratified k-fold cross validation tries to keep the same proportion of values on each fold as on the whole dataset. For \n",
    "example, in this spam email case, if you use stratified k-fold cross validation, you can get the same rate of spam on each splited fold as the rate of the whole dataset, which would countribut to make the test of the models's accuracy better. This is because, if you use the simple k-fold cross validation, we may accidentaly get the too many spams in one of splited folds, which would affect the accuracy of the projection."
   ]
  },
  {
   "cell_type": "markdown",
   "metadata": {},
   "source": [
    "### 8. Choose one model from question four.  Split the data into training and test subsets.  Build a model with the three variables in the dataset that you think will be good predictors of \"spam\".  Describe why you chose any particular parameters for your model (e.g.- if you used KNN how did you decide to choose a specific value for k).  Run the model and evaluate prediction error in two ways: A) On test data directly B) using k-fold cross-validation.  "
   ]
  },
  {
   "cell_type": "code",
   "execution_count": 15,
   "metadata": {
    "scrolled": false
   },
   "outputs": [],
   "source": [
    "# Split the data into training and test subsets\n",
    "from sklearn.model_selection import train_test_split\n",
    "\n",
    "y = df['spam']\n",
    "X = df[{'word_freq_money:','char_freq_$:','capital_run_length_average:'}]\n",
    "X_train, X_test, y_train, y_test = train_test_split(X, y, random_state=50)\n",
    "\n",
    "# Standardize X data\n",
    "from sklearn import preprocessing\n",
    "\n",
    "scaler = preprocessing.StandardScaler().fit(X_train)\n",
    "X_train_scaled = scaler.transform(X_train)\n",
    "X_test_scaled = scaler.transform(X_test)\n",
    "\n",
    "# Cross validation set up\n",
    "from sklearn.model_selection import KFold\n",
    "from sklearn.model_selection import cross_val_score\n",
    "\n",
    "kfold = KFold(n_splits=5)"
   ]
  },
  {
   "cell_type": "markdown",
   "metadata": {},
   "source": [
    "**Comment:** First, I set up the training and test data with scaling. And I also set up the k-fold cross-validation (k=5)."
   ]
  },
  {
   "cell_type": "code",
   "execution_count": 16,
   "metadata": {},
   "outputs": [
    {
     "name": "stdout",
     "output_type": "stream",
     "text": [
      "KNN for Classifier (Scaled)\n",
      "Training set score: 0.860\n",
      "Test set score: 0.818\n",
      "Mean Cross-Validation, Kfold: 0.816\n"
     ]
    }
   ],
   "source": [
    "# KNN for Classifier with scaling\n",
    "\n",
    "from sklearn.neighbors import KNeighborsClassifier\n",
    "knn = KNeighborsClassifier().fit(X_train_scaled, y_train)\n",
    "\n",
    "print(\"KNN for Classifier (Scaled)\")\n",
    "\n",
    "# Training and Test Scores\n",
    "print(\"Training set score: {:.3f}\".format(knn.score(X_train_scaled, y_train)))\n",
    "print(\"Test set score: {:.3f}\".format(knn.score(X_test_scaled, y_test)))\n",
    "\n",
    "# Kfold cross validation\n",
    "print(\"Mean Cross-Validation, Kfold: {:.3f}\".format(\n",
    "    np.mean(cross_val_score(knn, X_train_scaled, y_train, cv=kfold, scoring='accuracy'))))"
   ]
  },
  {
   "cell_type": "code",
   "execution_count": 17,
   "metadata": {},
   "outputs": [
    {
     "name": "stdout",
     "output_type": "stream",
     "text": [
      "KNN for Classifier (Scaled, GridSearchCV)\n",
      "best parameters: {'kneighborsclassifier__n_neighbors': 23}\n",
      "training-set score: 0.837\n",
      "test-set score: 0.823\n",
      "mean cross-validation score: 0.832\n"
     ]
    }
   ],
   "source": [
    "# KNN for Classifier with scaling and GridSearchCV\n",
    "\n",
    "from sklearn.pipeline import make_pipeline\n",
    "from sklearn.model_selection import GridSearchCV\n",
    "from sklearn.preprocessing import StandardScaler\n",
    "\n",
    "knn_pipe = make_pipeline(StandardScaler(), KNeighborsClassifier())\n",
    "knn_param_grid = {'kneighborsclassifier__n_neighbors': range(1, 100)}\n",
    "knn_grid = GridSearchCV(knn_pipe, knn_param_grid, cv=kfold, scoring='accuracy')\n",
    "knn_grid.fit(X_train, y_train)\n",
    "\n",
    "print(\"KNN for Classifier (Scaled, GridSearchCV)\")\n",
    "print(\"best parameters: {}\".format(knn_grid.best_params_))\n",
    "print(\"training-set score: {:.3f}\".format(knn_grid.score(X_train, y_train)))\n",
    "print(\"test-set score: {:.3f}\".format(knn_grid.score(X_test, y_test)))\n",
    "print(\"mean cross-validation score: {:.3f}\".format(knn_grid.best_score_))\n",
    "\n",
    "testknnscore = knn_grid.score(X_test, y_test)\n",
    "knnscore = knn_grid.best_score_"
   ]
  },
  {
   "cell_type": "markdown",
   "metadata": {},
   "source": [
    "**Comment:** I choosed K-Nearest Neighbors for Classifier to predict spams. And also I choosed 23 as k in this model because GridSearchCV automatically showed this value as the best parameter. For accuracy, test-set score: 0.823 and mean cross-validation score: 0.832."
   ]
  },
  {
   "cell_type": "markdown",
   "metadata": {},
   "source": [
    "### 9. Choose a second model from question four.  Using the same three variables in the dataset that you think will be good predictors of \"spam\".  Describe why you chose any particular parameters for your model (e.g.- if you used KNN how did you decide to choose a specific value for k). Run the model and evaluate prediction error in two ways: A) On test data directly B) using k-fold cross-validation. Did this model predict test data better than your previous model?"
   ]
  },
  {
   "cell_type": "code",
   "execution_count": 18,
   "metadata": {},
   "outputs": [
    {
     "name": "stdout",
     "output_type": "stream",
     "text": [
      "Logistic Regression (Scaled)\n",
      "Training set score: 0.816\n",
      "Test set score: 0.820\n",
      "Mean Cross Validation, KFold: 0.814\n"
     ]
    },
    {
     "data": {
      "text/html": [
       "<div>\n",
       "<style scoped>\n",
       "    .dataframe tbody tr th:only-of-type {\n",
       "        vertical-align: middle;\n",
       "    }\n",
       "\n",
       "    .dataframe tbody tr th {\n",
       "        vertical-align: top;\n",
       "    }\n",
       "\n",
       "    .dataframe thead th {\n",
       "        text-align: right;\n",
       "    }\n",
       "</style>\n",
       "<table border=\"1\" class=\"dataframe\">\n",
       "  <thead>\n",
       "    <tr style=\"text-align: right;\">\n",
       "      <th></th>\n",
       "      <th>char_freq_$:</th>\n",
       "      <th>capital_run_length_average:</th>\n",
       "      <th>word_freq_money:</th>\n",
       "    </tr>\n",
       "  </thead>\n",
       "  <tbody>\n",
       "    <tr>\n",
       "      <th>Coefficients</th>\n",
       "      <td>2.883444</td>\n",
       "      <td>6.771438</td>\n",
       "      <td>0.959369</td>\n",
       "    </tr>\n",
       "  </tbody>\n",
       "</table>\n",
       "</div>"
      ],
      "text/plain": [
       "              char_freq_$:  capital_run_length_average:  word_freq_money:\n",
       "Coefficients      2.883444                     6.771438          0.959369"
      ]
     },
     "execution_count": 18,
     "metadata": {},
     "output_type": "execute_result"
    }
   ],
   "source": [
    "# Logistic Regression with scaling\n",
    "\n",
    "from sklearn.linear_model import LogisticRegression\n",
    "warnings.filterwarnings(\"ignore\", category=FutureWarning)\n",
    "\n",
    "logreg = LogisticRegression(C=1e90).fit(X_train_scaled, y_train)\n",
    "\n",
    "print(\"Logistic Regression (Scaled)\")\n",
    "print(\"Training set score: {:.3f}\".format(logreg.score(X_train_scaled, y_train)))\n",
    "print(\"Test set score: {:.3f}\".format(logreg.score(X_test_scaled, y_test))) \n",
    "\n",
    "# Kfold Cross Validation\n",
    "print(\"Mean Cross Validation, KFold: {:.3f}\".format(\n",
    "    np.mean(cross_val_score(logreg, X_train_scaled, y_train, cv=kfold, scoring='accuracy'))))\n",
    "\n",
    "# Coefficients\n",
    "logreg_coef = pd.DataFrame(data=logreg.coef_, columns=X.columns, index=['Coefficients'])\n",
    "logreg_coef.head()"
   ]
  },
  {
   "cell_type": "code",
   "execution_count": 19,
   "metadata": {
    "scrolled": false
   },
   "outputs": [
    {
     "name": "stdout",
     "output_type": "stream",
     "text": [
      "Logistic Regression (Scaled, GridSearchCV)\n",
      "best parameters: {'logisticregression__C': 3.0, 'logisticregression__penalty': 'l1'}\n",
      "training-set score: 0.816\n",
      "test-set score: 0.820\n",
      "mean cross-validation score: 0.814\n"
     ]
    },
    {
     "data": {
      "text/html": [
       "<div>\n",
       "<style scoped>\n",
       "    .dataframe tbody tr th:only-of-type {\n",
       "        vertical-align: middle;\n",
       "    }\n",
       "\n",
       "    .dataframe tbody tr th {\n",
       "        vertical-align: top;\n",
       "    }\n",
       "\n",
       "    .dataframe thead th {\n",
       "        text-align: right;\n",
       "    }\n",
       "</style>\n",
       "<table border=\"1\" class=\"dataframe\">\n",
       "  <thead>\n",
       "    <tr style=\"text-align: right;\">\n",
       "      <th></th>\n",
       "      <th>char_freq_$:</th>\n",
       "      <th>capital_run_length_average:</th>\n",
       "      <th>word_freq_money:</th>\n",
       "    </tr>\n",
       "  </thead>\n",
       "  <tbody>\n",
       "    <tr>\n",
       "      <th>Coefficients</th>\n",
       "      <td>2.883444</td>\n",
       "      <td>6.771438</td>\n",
       "      <td>0.959369</td>\n",
       "    </tr>\n",
       "  </tbody>\n",
       "</table>\n",
       "</div>"
      ],
      "text/plain": [
       "              char_freq_$:  capital_run_length_average:  word_freq_money:\n",
       "Coefficients      2.883444                     6.771438          0.959369"
      ]
     },
     "execution_count": 19,
     "metadata": {},
     "output_type": "execute_result"
    }
   ],
   "source": [
    "# Pnenalized Logistic Regression with scaling and GridSearchCV\n",
    "\n",
    "from sklearn.pipeline import make_pipeline\n",
    "from sklearn.model_selection import GridSearchCV\n",
    "from sklearn.preprocessing import StandardScaler\n",
    "\n",
    "logreg_pipe = make_pipeline(StandardScaler(), LogisticRegression())\n",
    "\n",
    "logreg_param_grid = {'logisticregression__penalty': ['l1', 'l2'], 'logisticregression__C': np.linspace(1, 100, 100)}\n",
    "logreg_grid = GridSearchCV(logreg_pipe, logreg_param_grid, cv=kfold, scoring='accuracy').fit(X_train, y_train)\n",
    "\n",
    "print(\"Logistic Regression (Scaled, GridSearchCV)\")\n",
    "print(\"best parameters: {}\".format(logreg_grid.best_params_))\n",
    "print(\"training-set score: {:.3f}\".format(logreg_grid.score(X_train, y_train)))\n",
    "print(\"test-set score: {:.3f}\".format(logreg_grid.score(X_test, y_test)))\n",
    "print(\"mean cross-validation score: {:.3f}\".format(logreg_grid.best_score_))\n",
    "\n",
    "testlogregscore = logreg_grid.score(X_test, y_test)\n",
    "logregscore = logreg_grid.best_score_\n",
    "\n",
    "# Coefficients\n",
    "logreg_coef = pd.DataFrame(data=logreg.coef_, columns=X.columns, index=['Coefficients'])\n",
    "logreg_coef.head()"
   ]
  },
  {
   "cell_type": "markdown",
   "metadata": {},
   "source": [
    "**Comment:** I choosed Logistic Regression to predict spams. And also I choosed 3 as 'C' and 'l1 = Lasso' as penalty in this model because GridSearchCV automatically showed this value and category as the best parameter. For accuracy, test-set score: 0.820 and mean cross-validation score: 0.814, which seems to be worse than the previous model (KNN)."
   ]
  },
  {
   "cell_type": "markdown",
   "metadata": {},
   "source": [
    "### 10. Choose a third model from question four.  Using the same three variables in the dataset that you think will be good predictors of \"spam\".  Describe why you chose any particular parameters for your model (e.g.- if you used KNN how did you decide to choose a specific value for k). Run the model and evaluate prediction error in two ways: A) On test data directly and B) using k-fold cross-validation.  Did this model predict test data better than your previous models?"
   ]
  },
  {
   "cell_type": "code",
   "execution_count": 20,
   "metadata": {},
   "outputs": [
    {
     "name": "stdout",
     "output_type": "stream",
     "text": [
      "Support Vector Machine (Linear, Scaled)\n",
      "Training set score: 0.813\n",
      "Test set score: 0.812\n",
      "Mean Cross-Validation, Kfold: 0.810\n"
     ]
    }
   ],
   "source": [
    "# Support Vector Machine (Linear) with scaling\n",
    "from sklearn.svm import SVC\n",
    "\n",
    "svm = SVC(kernel='linear').fit(X_train_scaled, y_train)\n",
    "\n",
    "print(\"Support Vector Machine (Linear, Scaled)\")\n",
    "\n",
    "# Training and Test Scores\n",
    "print(\"Training set score: {:.3f}\".format(svm.score(X_train_scaled, y_train)))\n",
    "print(\"Test set score: {:.3f}\".format(svm.score(X_test_scaled, y_test)))\n",
    "\n",
    "# Kfold cross validation\n",
    "print(\"Mean Cross-Validation, Kfold: {:.3f}\".format(\n",
    "    np.mean(cross_val_score(svm, X_train_scaled, y_train, cv=kfold, scoring='accuracy'))))"
   ]
  },
  {
   "cell_type": "code",
   "execution_count": 21,
   "metadata": {
    "scrolled": false
   },
   "outputs": [
    {
     "name": "stdout",
     "output_type": "stream",
     "text": [
      "Support Vector Machine (rbf, Scaled)\n",
      "Training set score: 0.823\n",
      "Test set score: 0.816\n",
      "Mean Cross-Validation, Kfold: 0.819\n"
     ]
    }
   ],
   "source": [
    "# Support Vector Machine (rbf) with scaling\n",
    "from sklearn.svm import SVC\n",
    "\n",
    "svm = SVC(kernel='rbf').fit(X_train_scaled, y_train)\n",
    "\n",
    "print(\"Support Vector Machine (rbf, Scaled)\")\n",
    "\n",
    "# Training and Test Scores\n",
    "print(\"Training set score: {:.3f}\".format(svm.score(X_train_scaled, y_train)))\n",
    "print(\"Test set score: {:.3f}\".format(svm.score(X_test_scaled, y_test)))\n",
    "\n",
    "# Kfold cross validation\n",
    "print(\"Mean Cross-Validation, Kfold: {:.3f}\".format(\n",
    "    np.mean(cross_val_score(svm, X_train_scaled, y_train, cv=kfold, scoring='accuracy'))))"
   ]
  },
  {
   "cell_type": "code",
   "execution_count": 22,
   "metadata": {
    "scrolled": false
   },
   "outputs": [
    {
     "name": "stdout",
     "output_type": "stream",
     "text": [
      "Support Vector Machine (poly, Scaled)\n",
      "Training set score: 0.660\n",
      "Test set score: 0.664\n",
      "Mean Cross-Validation, Kfold: 0.658\n"
     ]
    }
   ],
   "source": [
    "# Support Vector Machine (poly) with scaling\n",
    "from sklearn.svm import SVC\n",
    "\n",
    "svm = SVC(kernel='poly').fit(X_train_scaled, y_train)\n",
    "\n",
    "print(\"Support Vector Machine (poly, Scaled)\")\n",
    "\n",
    "# Training and Test Scores\n",
    "print(\"Training set score: {:.3f}\".format(svm.score(X_train_scaled, y_train)))\n",
    "print(\"Test set score: {:.3f}\".format(svm.score(X_test_scaled, y_test)))\n",
    "\n",
    "# Kfold cross validation\n",
    "print(\"Mean Cross-Validation, Kfold: {:.3f}\".format(\n",
    "    np.mean(cross_val_score(svm, X_train_scaled, y_train, cv=kfold, scoring='accuracy'))))"
   ]
  },
  {
   "cell_type": "code",
   "execution_count": 23,
   "metadata": {
    "scrolled": false
   },
   "outputs": [
    {
     "name": "stdout",
     "output_type": "stream",
     "text": [
      "Support Vector Machine (sigmoid, Scaled)\n",
      "Training set score: 0.787\n",
      "Test set score: 0.794\n",
      "Mean Cross-Validation, Kfold: 0.790\n"
     ]
    }
   ],
   "source": [
    "# Support Vector Machine (sigmoid) with scaling\n",
    "from sklearn.svm import SVC\n",
    "\n",
    "svm = SVC(kernel='sigmoid').fit(X_train_scaled, y_train)\n",
    "\n",
    "print(\"Support Vector Machine (sigmoid, Scaled)\")\n",
    "\n",
    "# Training and Test Scores\n",
    "print(\"Training set score: {:.3f}\".format(svm.score(X_train_scaled, y_train)))\n",
    "print(\"Test set score: {:.3f}\".format(svm.score(X_test_scaled, y_test)))\n",
    "\n",
    "# Kfold cross validation\n",
    "print(\"Mean Cross-Validation, Kfold: {:.3f}\".format(\n",
    "    np.mean(cross_val_score(svm, X_train_scaled, y_train, cv=kfold, scoring='accuracy'))))"
   ]
  },
  {
   "cell_type": "markdown",
   "metadata": {},
   "source": [
    "**Comment:** For the selection of kernel, 'rbf' looks better based on the results above."
   ]
  },
  {
   "cell_type": "code",
   "execution_count": 24,
   "metadata": {
    "scrolled": true
   },
   "outputs": [
    {
     "name": "stdout",
     "output_type": "stream",
     "text": [
      "Support Vector Machine (Scaled, GridSearchCV)\n",
      "best parameters: {'svc__C': 1, 'svc__gamma': 50}\n",
      "training-set score: 0.837\n",
      "test-set score: 0.831\n",
      "mean cross-validation score: 0.834\n"
     ]
    }
   ],
   "source": [
    "# Surpport Vector Machine with scaling and GridSearchCV\n",
    "\n",
    "from sklearn.svm import SVC\n",
    "from sklearn.pipeline import make_pipeline\n",
    "from sklearn.model_selection import GridSearchCV\n",
    "from sklearn.preprocessing import StandardScaler\n",
    "\n",
    "svm_pipe = make_pipeline(StandardScaler(), SVC(kernel='rbf'))\n",
    "svm_param_grid = {'svc__C': [0.1, 0.5, 1, 2, 3, 4, 5, 10, 50, 100, 1000], \n",
    "                  'svc__gamma': [0.001, 0.01, 0.1, 5, 10, 30, 50, 75, 100]}\n",
    "svm_grid = GridSearchCV(svm_pipe, svm_param_grid, cv=kfold, scoring='accuracy').fit(X_train, y_train)\n",
    "\n",
    "print(\"Support Vector Machine (Scaled, GridSearchCV)\")\n",
    "print(\"best parameters: {}\".format(svm_grid.best_params_))\n",
    "print(\"training-set score: {:.3f}\".format(svm_grid.score(X_train, y_train)))\n",
    "print(\"test-set score: {:.3f}\".format(svm_grid.score(X_test, y_test)))\n",
    "print(\"mean cross-validation score: {:.3f}\".format(svm_grid.best_score_))\n",
    "\n",
    "testsvmscore = svm_grid.score(X_test, y_test)\n",
    "svmscore = svm_grid.best_score_"
   ]
  },
  {
   "cell_type": "markdown",
   "metadata": {},
   "source": [
    "**Comment:** I choosed Support Vector Machine to predict spams. And also I choosed 1 as 'C' and 50 as 'gamma' in this model because GridSearchCV automatically showed this value as the best parameter. For accuracy, test-set score: 0.831 and mean cross-validation score: 0.834, which seems to be better than the previous models (KNN and Logistic Regression)."
   ]
  },
  {
   "cell_type": "markdown",
   "metadata": {},
   "source": [
    "### 11. Choose a fourth model from question four.  Using the same three variables in the dataset that you think will be good predictors of \"spam\".  Describe why you chose any particular parameters for your model (e.g.- if you used KNN how did you decide to choose a specific value for k). Run the model and evaluate prediction error in two ways: A) On test data directly and B) using k-fold cross-validation.  Did this model predict test data better than your previous models?"
   ]
  },
  {
   "cell_type": "code",
   "execution_count": 25,
   "metadata": {},
   "outputs": [
    {
     "name": "stdout",
     "output_type": "stream",
     "text": [
      "Decision Tree Classifier (Scaled)\n",
      "Training set score: 0.948\n",
      "Test set score: 0.801\n",
      "Mean Cross-Validation, Kfold: 0.794\n"
     ]
    },
    {
     "data": {
      "text/html": [
       "<div>\n",
       "<style scoped>\n",
       "    .dataframe tbody tr th:only-of-type {\n",
       "        vertical-align: middle;\n",
       "    }\n",
       "\n",
       "    .dataframe tbody tr th {\n",
       "        vertical-align: top;\n",
       "    }\n",
       "\n",
       "    .dataframe thead th {\n",
       "        text-align: right;\n",
       "    }\n",
       "</style>\n",
       "<table border=\"1\" class=\"dataframe\">\n",
       "  <thead>\n",
       "    <tr style=\"text-align: right;\">\n",
       "      <th></th>\n",
       "      <th>Feature Importances</th>\n",
       "    </tr>\n",
       "  </thead>\n",
       "  <tbody>\n",
       "    <tr>\n",
       "      <th>char_freq_$:</th>\n",
       "      <td>0.452659</td>\n",
       "    </tr>\n",
       "    <tr>\n",
       "      <th>capital_run_length_average:</th>\n",
       "      <td>0.466076</td>\n",
       "    </tr>\n",
       "    <tr>\n",
       "      <th>word_freq_money:</th>\n",
       "      <td>0.081265</td>\n",
       "    </tr>\n",
       "  </tbody>\n",
       "</table>\n",
       "</div>"
      ],
      "text/plain": [
       "                             Feature Importances\n",
       "char_freq_$:                            0.452659\n",
       "capital_run_length_average:             0.466076\n",
       "word_freq_money:                        0.081265"
      ]
     },
     "execution_count": 25,
     "metadata": {},
     "output_type": "execute_result"
    }
   ],
   "source": [
    "# Decision Tree Classifier with scaling\n",
    "\n",
    "from sklearn.tree import DecisionTreeClassifier\n",
    "tree = DecisionTreeClassifier(random_state=50).fit(X_train_scaled, y_train)\n",
    "\n",
    "print(\"Decision Tree Classifier (Scaled)\")\n",
    "\n",
    "# Training and Test Scores\n",
    "print(\"Training set score: {:.3f}\".format(tree.score(X_train_scaled, y_train)))\n",
    "print(\"Test set score: {:.3f}\".format(tree.score(X_test_scaled, y_test)))\n",
    "\n",
    "# Kfold cross validation\n",
    "print(\"Mean Cross-Validation, Kfold: {:.3f}\".format(\n",
    "    np.mean(cross_val_score(tree, X_train_scaled, y_train, cv=kfold, scoring='accuracy'))))\n",
    "\n",
    "# Feature Importances\n",
    "pd.DataFrame(data=tree.feature_importances_, index=X.columns, columns=['Feature Importances'])"
   ]
  },
  {
   "cell_type": "code",
   "execution_count": 26,
   "metadata": {
    "scrolled": true
   },
   "outputs": [
    {
     "name": "stdout",
     "output_type": "stream",
     "text": [
      "Random Forest Classifier (Scaled)\n",
      "Training set score: 0.931\n",
      "Test set score: 0.810\n",
      "Mean Cross-Validation, Kfold: 0.808\n"
     ]
    },
    {
     "data": {
      "text/html": [
       "<div>\n",
       "<style scoped>\n",
       "    .dataframe tbody tr th:only-of-type {\n",
       "        vertical-align: middle;\n",
       "    }\n",
       "\n",
       "    .dataframe tbody tr th {\n",
       "        vertical-align: top;\n",
       "    }\n",
       "\n",
       "    .dataframe thead th {\n",
       "        text-align: right;\n",
       "    }\n",
       "</style>\n",
       "<table border=\"1\" class=\"dataframe\">\n",
       "  <thead>\n",
       "    <tr style=\"text-align: right;\">\n",
       "      <th></th>\n",
       "      <th>Feature Importances</th>\n",
       "    </tr>\n",
       "  </thead>\n",
       "  <tbody>\n",
       "    <tr>\n",
       "      <th>char_freq_$:</th>\n",
       "      <td>0.288412</td>\n",
       "    </tr>\n",
       "    <tr>\n",
       "      <th>capital_run_length_average:</th>\n",
       "      <td>0.532858</td>\n",
       "    </tr>\n",
       "    <tr>\n",
       "      <th>word_freq_money:</th>\n",
       "      <td>0.178730</td>\n",
       "    </tr>\n",
       "  </tbody>\n",
       "</table>\n",
       "</div>"
      ],
      "text/plain": [
       "                             Feature Importances\n",
       "char_freq_$:                            0.288412\n",
       "capital_run_length_average:             0.532858\n",
       "word_freq_money:                        0.178730"
      ]
     },
     "execution_count": 26,
     "metadata": {},
     "output_type": "execute_result"
    }
   ],
   "source": [
    "# Random Forest Classifier with scaling\n",
    "\n",
    "from sklearn.ensemble import RandomForestClassifier\n",
    "rfc = RandomForestClassifier(n_estimators=10, random_state=50).fit(X_train_scaled, y_train)\n",
    "\n",
    "print(\"Random Forest Classifier (Scaled)\")\n",
    "\n",
    "# Training and Test Scores\n",
    "print(\"Training set score: {:.3f}\".format(rfc.score(X_train_scaled, y_train)))\n",
    "print(\"Test set score: {:.3f}\".format(rfc.score(X_test_scaled, y_test)))\n",
    "\n",
    "# Kfold cross validation\n",
    "print(\"Mean Cross-Validation, Kfold: {:.3f}\".format(\n",
    "    np.mean(cross_val_score(rfc, X_train_scaled, y_train, cv=kfold, scoring='accuracy'))))\n",
    "\n",
    "# Feature Importances\n",
    "pd.DataFrame(data=rfc.feature_importances_, index=X.columns, columns=['Feature Importances'])"
   ]
  },
  {
   "cell_type": "code",
   "execution_count": 27,
   "metadata": {},
   "outputs": [
    {
     "name": "stdout",
     "output_type": "stream",
     "text": [
      "Bagging Decision Trees (Scaled)\n",
      "Training set score: 0.931\n",
      "Test set score: 0.810\n",
      "Mean Cross-Validation, Kfold: 0.808\n"
     ]
    }
   ],
   "source": [
    "# Bagging Decision Trees with scaling\n",
    "\n",
    "from sklearn.tree import DecisionTreeClassifier\n",
    "from sklearn.ensemble import BaggingClassifier\n",
    "\n",
    "tree = DecisionTreeClassifier(random_state=50)\n",
    "bag = BaggingClassifier(tree, n_estimators=10, random_state=50).fit(X_train_scaled, y_train)\n",
    "\n",
    "print(\"Bagging Decision Trees (Scaled)\")\n",
    "\n",
    "# Training and Test Scores\n",
    "print(\"Training set score: {:.3f}\".format(rfc.score(X_train_scaled, y_train)))\n",
    "print(\"Test set score: {:.3f}\".format(rfc.score(X_test_scaled, y_test)))\n",
    "\n",
    "# Kfold cross validation\n",
    "print(\"Mean Cross-Validation, Kfold: {:.3f}\".format(\n",
    "    np.mean(cross_val_score(rfc, X_train_scaled, y_train, cv=kfold, scoring='accuracy'))))"
   ]
  },
  {
   "cell_type": "markdown",
   "metadata": {},
   "source": [
    "**Comment:** Among decision tree, random forest, and bagging decision tree, the randam forest looks better because it uses more trees than the decision tree method (bagging decision tree is almost equivalent to random forest in terms of scores)."
   ]
  },
  {
   "cell_type": "code",
   "execution_count": 28,
   "metadata": {
    "scrolled": true
   },
   "outputs": [
    {
     "name": "stdout",
     "output_type": "stream",
     "text": [
      "Random Forest Classifier (Scaled, GridSearchCV)\n",
      "best parameters: {'randomforestclassifier__criterion': 'gini', 'randomforestclassifier__n_estimators': 1000}\n",
      "training-set score: 0.948\n",
      "test-set score: 0.805\n",
      "mean cross-validation score: 0.807\n"
     ]
    }
   ],
   "source": [
    "# Random Forest Classifier with scaling and GridSearchCV\n",
    "\n",
    "from sklearn.ensemble import RandomForestClassifier\n",
    "from sklearn.pipeline import make_pipeline\n",
    "from sklearn.model_selection import GridSearchCV\n",
    "from sklearn.preprocessing import StandardScaler\n",
    "\n",
    "rfc_pipe = make_pipeline(StandardScaler(), RandomForestClassifier(random_state=50))\n",
    "rfc_param_grid = {'randomforestclassifier__criterion': ['gini', 'entropy'], \n",
    "                  'randomforestclassifier__n_estimators': [10, 100, 300, 500, 800, 1000, 2000]}\n",
    "rfc_grid = GridSearchCV(rfc_pipe, rfc_param_grid, cv=kfold, scoring='accuracy').fit(X_train, y_train)\n",
    "\n",
    "print(\"Random Forest Classifier (Scaled, GridSearchCV)\")\n",
    "print(\"best parameters: {}\".format(rfc_grid.best_params_))\n",
    "print(\"training-set score: {:.3f}\".format(rfc_grid.score(X_train, y_train)))\n",
    "print(\"test-set score: {:.3f}\".format(rfc_grid.score(X_test, y_test)))\n",
    "print(\"mean cross-validation score: {:.3f}\".format(rfc_grid.best_score_))\n",
    "\n",
    "testrfcscore = rfc_grid.score(X_test, y_test)\n",
    "rfcscore = rfc_grid.best_score_"
   ]
  },
  {
   "cell_type": "markdown",
   "metadata": {},
   "source": [
    "**Comment:** I choosed Random Forest Classifier to predict spams. And also I choosed 'gini' as 'criterion' and '1000' as 'number of trees' in this model because GridSearchCV automatically showed this category and value as the best parameter. For accuracy, test-set score: 0.805 and mean cross-validation score: 0.807, which seems to be worse than the previous models (KNN, Logistic Regression and SVM)."
   ]
  },
  {
   "cell_type": "markdown",
   "metadata": {},
   "source": [
    "### 12. Now rerun your best model from question 8 through 11, but this time add three new variables to the model that you think increase prediction accuracy. Did this model predict test data better than your previous models?"
   ]
  },
  {
   "cell_type": "code",
   "execution_count": 29,
   "metadata": {
    "scrolled": false
   },
   "outputs": [
    {
     "name": "stdout",
     "output_type": "stream",
     "text": [
      "[Test-set score]\n",
      "K-Nearest Neighbor score: 0.823\n",
      "Logistic Regression score: 0.820\n",
      "Support Vector Machine score: 0.831\n",
      "Random Forest Classifier score: 0.805\n",
      " \n",
      "[Mean cross-validation score]\n",
      "K-Nearest Neighbor score: 0.832\n",
      "Logistic Regression score: 0.814\n",
      "Support Vector Machine score: 0.834\n",
      "Random Forest Classifier score: 0.807\n"
     ]
    }
   ],
   "source": [
    "print(\"[Test-set score]\")\n",
    "print(\"K-Nearest Neighbor score: {:.3f}\".format(testknnscore))\n",
    "print(\"Logistic Regression score: {:.3f}\".format(testlogregscore))\n",
    "print(\"Support Vector Machine score: {:.3f}\".format(testsvmscore))\n",
    "print(\"Random Forest Classifier score: {:.3f}\".format(testrfcscore))\n",
    "print(\" \")\n",
    "print(\"[Mean cross-validation score]\")\n",
    "print(\"K-Nearest Neighbor score: {:.3f}\".format(knnscore))\n",
    "print(\"Logistic Regression score: {:.3f}\".format(logregscore))\n",
    "print(\"Support Vector Machine score: {:.3f}\".format(svmscore))\n",
    "print(\"Random Forest Classifier score: {:.3f}\".format(rfcscore))"
   ]
  },
  {
   "cell_type": "markdown",
   "metadata": {},
   "source": [
    "**Comment:** The Support Vector Machine would be the best model for me because the mean cross-validation score of Support Vector Machine is the largest among all models I estimated (also, the test-set score of SVM is the largest)."
   ]
  },
  {
   "cell_type": "code",
   "execution_count": 30,
   "metadata": {
    "scrolled": false
   },
   "outputs": [],
   "source": [
    "# Add new three variables\n",
    "Z = df[{'word_freq_money:','char_freq_$:','capital_run_length_average:',\n",
    "        'word_freq_order:','word_freq_receive:','word_freq_business:'}]\n",
    "\n",
    "# Split the data into training and test subsets\n",
    "from sklearn.model_selection import train_test_split\n",
    "Z_train, Z_test, y_train, y_test = train_test_split(Z, y, random_state=50)\n",
    "\n",
    "# Standardize Z data\n",
    "from sklearn import preprocessing\n",
    "scaler = preprocessing.StandardScaler().fit(Z_train)\n",
    "Z_train_scaled = scaler.transform(Z_train)\n",
    "Z_test_scaled = scaler.transform(Z_test)"
   ]
  },
  {
   "cell_type": "markdown",
   "metadata": {},
   "source": [
    "**Comment:** I add now three variables into independent variables and then, split and scale the data again."
   ]
  },
  {
   "cell_type": "code",
   "execution_count": 31,
   "metadata": {
    "scrolled": true
   },
   "outputs": [
    {
     "name": "stdout",
     "output_type": "stream",
     "text": [
      "Support Vector Machine (Scaled, GridSearchCV)\n",
      "best parameters: {'svc__C': 75, 'svc__gamma': 10}\n",
      "training-set score: 0.894\n",
      "test-set score: 0.849\n",
      "mean cross-validation score: 0.843\n"
     ]
    }
   ],
   "source": [
    "# Support Vector Machine with scaling and GridSearchCV\n",
    "\n",
    "from sklearn.pipeline import make_pipeline\n",
    "from sklearn.model_selection import GridSearchCV\n",
    "from sklearn.preprocessing import StandardScaler\n",
    "\n",
    "svm_pipe = make_pipeline(StandardScaler(), SVC(kernel='rbf'))\n",
    "svm_param_grid = {'svc__C': [0.1, 1, 5, 10, 50, 75, 100, 150, 200, 1000], \n",
    "                  'svc__gamma': [0.01, 0.1, 5, 10, 20, 30, 50, 75, 100]}\n",
    "svm_grid = GridSearchCV(svm_pipe, svm_param_grid, cv=kfold, scoring='accuracy').fit(Z_train, y_train)\n",
    "\n",
    "print(\"Support Vector Machine (Scaled, GridSearchCV)\")\n",
    "print(\"best parameters: {}\".format(svm_grid.best_params_))\n",
    "print(\"training-set score: {:.3f}\".format(svm_grid.score(Z_train, y_train)))\n",
    "print(\"test-set score: {:.3f}\".format(svm_grid.score(Z_test, y_test)))\n",
    "print(\"mean cross-validation score: {:.3f}\".format(svm_grid.best_score_))\n",
    "\n",
    "newtestsvmscore = svm_grid.score(Z_test, y_test)\n",
    "newsvmscore = svm_grid.best_score_"
   ]
  },
  {
   "cell_type": "code",
   "execution_count": 32,
   "metadata": {
    "scrolled": true
   },
   "outputs": [
    {
     "name": "stdout",
     "output_type": "stream",
     "text": [
      "[Test-set score]\n",
      "Support Vector Machine score: 0.831\n",
      "NEW Support Vector Machine score: 0.849\n",
      " \n",
      "[Mean cross-validation score]\n",
      "Support Vector Machine score: 0.834\n",
      "NEW Support Vector Machine score: 0.843\n"
     ]
    }
   ],
   "source": [
    "print(\"[Test-set score]\")\n",
    "print(\"Support Vector Machine score: {:.3f}\".format(testsvmscore))\n",
    "print(\"NEW Support Vector Machine score: {:.3f}\".format(newtestsvmscore))\n",
    "print(\" \")\n",
    "print(\"[Mean cross-validation score]\")\n",
    "print(\"Support Vector Machine score: {:.3f}\".format(svmscore))\n",
    "print(\"NEW Support Vector Machine score: {:.3f}\".format(newsvmscore))"
   ]
  },
  {
   "cell_type": "markdown",
   "metadata": {},
   "source": [
    "**Comment:** By adding new three variables, the scores (test and cross-validation) of SVM improved."
   ]
  },
  {
   "cell_type": "markdown",
   "metadata": {},
   "source": [
    "### 13. Rerun all your other models with this final set of six variables, evaluate prediction error, and choose a final model.  Why did you select this model among all of the models that you ran?  "
   ]
  },
  {
   "cell_type": "code",
   "execution_count": 33,
   "metadata": {},
   "outputs": [
    {
     "name": "stdout",
     "output_type": "stream",
     "text": [
      "KNN for Classifier (Scaled, GridSearchCV)\n",
      "best parameters: {'kneighborsclassifier__n_neighbors': 9}\n",
      "training-set score: 0.859\n",
      "test-set score: 0.836\n",
      "mean cross-validation score: 0.836\n"
     ]
    }
   ],
   "source": [
    "# KNN for Classifier with scaling and GridSearchCV\n",
    "\n",
    "from sklearn.pipeline import make_pipeline\n",
    "from sklearn.model_selection import GridSearchCV\n",
    "from sklearn.preprocessing import StandardScaler\n",
    "\n",
    "knn_pipe = make_pipeline(StandardScaler(), KNeighborsClassifier())\n",
    "knn_param_grid = {'kneighborsclassifier__n_neighbors': range(1, 100)}\n",
    "knn_grid = GridSearchCV(knn_pipe, knn_param_grid, cv=kfold, scoring='accuracy')\n",
    "knn_grid.fit(Z_train, y_train)\n",
    "\n",
    "print(\"KNN for Classifier (Scaled, GridSearchCV)\")\n",
    "print(\"best parameters: {}\".format(knn_grid.best_params_))\n",
    "print(\"training-set score: {:.3f}\".format(knn_grid.score(Z_train, y_train)))\n",
    "print(\"test-set score: {:.3f}\".format(knn_grid.score(Z_test, y_test)))\n",
    "print(\"mean cross-validation score: {:.3f}\".format(knn_grid.best_score_))\n",
    "\n",
    "newtestknnscore = knn_grid.score(Z_test, y_test)\n",
    "newknnscore = knn_grid.best_score_"
   ]
  },
  {
   "cell_type": "code",
   "execution_count": 34,
   "metadata": {},
   "outputs": [
    {
     "name": "stdout",
     "output_type": "stream",
     "text": [
      "Logistic Regression (Scaled, GridSearchCV)\n",
      "best parameters: {'logisticregression__C': 12.0, 'logisticregression__penalty': 'l1'}\n",
      "training-set score: 0.817\n",
      "test-set score: 0.829\n",
      "mean cross-validation score: 0.816\n"
     ]
    }
   ],
   "source": [
    "# Pnenalized Logistic Regression with scaling and GridSearchCV\n",
    "\n",
    "from sklearn.pipeline import make_pipeline\n",
    "from sklearn.model_selection import GridSearchCV\n",
    "from sklearn.preprocessing import StandardScaler\n",
    "\n",
    "logreg_pipe = make_pipeline(StandardScaler(), LogisticRegression())\n",
    "\n",
    "logreg_param_grid = {'logisticregression__penalty': ['l1', 'l2'], 'logisticregression__C': np.linspace(1, 100, 100)}\n",
    "logreg_grid = GridSearchCV(logreg_pipe, logreg_param_grid, cv=kfold, scoring='accuracy').fit(Z_train, y_train)\n",
    "\n",
    "print(\"Logistic Regression (Scaled, GridSearchCV)\")\n",
    "print(\"best parameters: {}\".format(logreg_grid.best_params_))\n",
    "print(\"training-set score: {:.3f}\".format(logreg_grid.score(Z_train, y_train)))\n",
    "print(\"test-set score: {:.3f}\".format(logreg_grid.score(Z_test, y_test)))\n",
    "print(\"mean cross-validation score: {:.3f}\".format(logreg_grid.best_score_))\n",
    "\n",
    "newtestlogregscore = logreg_grid.score(Z_test, y_test)\n",
    "newlogregscore = logreg_grid.best_score_"
   ]
  },
  {
   "cell_type": "code",
   "execution_count": 35,
   "metadata": {
    "scrolled": false
   },
   "outputs": [
    {
     "name": "stdout",
     "output_type": "stream",
     "text": [
      "Random Forest Classifier (Scaled, GridSearchCV)\n",
      "best parameters: {'randomforestclassifier__criterion': 'entropy', 'randomforestclassifier__n_estimators': 1000}\n",
      "training-set score: 0.963\n",
      "test-set score: 0.844\n",
      "mean cross-validation score: 0.828\n"
     ]
    }
   ],
   "source": [
    "# Random Forest Classifier with scaling and GridSearchCV\n",
    "\n",
    "from sklearn.pipeline import make_pipeline\n",
    "from sklearn.model_selection import GridSearchCV\n",
    "from sklearn.preprocessing import StandardScaler\n",
    "\n",
    "rfc_pipe = make_pipeline(StandardScaler(), RandomForestClassifier(random_state=50))\n",
    "rfc_param_grid = {'randomforestclassifier__criterion': ['gini', 'entropy'], \n",
    "                  'randomforestclassifier__n_estimators': [10, 100, 300, 500, 800, 1000, 2500, 5000, 7500, 10000]}\n",
    "rfc_grid = GridSearchCV(rfc_pipe, rfc_param_grid, cv=kfold, scoring='accuracy').fit(Z_train, y_train)\n",
    "\n",
    "print(\"Random Forest Classifier (Scaled, GridSearchCV)\")\n",
    "print(\"best parameters: {}\".format(rfc_grid.best_params_))\n",
    "print(\"training-set score: {:.3f}\".format(rfc_grid.score(Z_train, y_train)))\n",
    "print(\"test-set score: {:.3f}\".format(rfc_grid.score(Z_test, y_test)))\n",
    "print(\"mean cross-validation score: {:.3f}\".format(rfc_grid.best_score_))\n",
    "\n",
    "newtestrfcscore = rfc_grid.score(Z_test, y_test)\n",
    "newrfcscore = rfc_grid.best_score_"
   ]
  },
  {
   "cell_type": "code",
   "execution_count": 36,
   "metadata": {
    "scrolled": true
   },
   "outputs": [
    {
     "name": "stdout",
     "output_type": "stream",
     "text": [
      "[Test-set score]\n",
      "K-Nearest Neighbor score: 0.823\n",
      "NEW K-Nearest Neighbor score: 0.836\n",
      "Logistic Regression score: 0.820\n",
      "NEW Logistic Regression score: 0.829\n",
      "Support Vector Machine score: 0.831\n",
      "NEW Support Vector Machine score: 0.849\n",
      "Random Forest Classifier score: 0.805\n",
      "NEW Random Forest Classifier score: 0.844\n",
      " \n",
      "[Mean cross-validation score]\n",
      "K-Nearest Neighbor score: 0.832\n",
      "NEW K-Nearest Neighbor score: 0.836\n",
      "Logistic Regression score: 0.814\n",
      "NEW Logistic Regression score: 0.816\n",
      "Support Vector Machine score: 0.834\n",
      "NEW Support Vector Machine score: 0.843\n",
      "Random Forest Classifier score: 0.807\n",
      "NEW Random Forest Classifier score: 0.828\n"
     ]
    }
   ],
   "source": [
    "print(\"[Test-set score]\")\n",
    "print(\"K-Nearest Neighbor score: {:.3f}\".format(testknnscore))\n",
    "print(\"NEW K-Nearest Neighbor score: {:.3f}\".format(newtestknnscore))\n",
    "print(\"Logistic Regression score: {:.3f}\".format(testlogregscore))\n",
    "print(\"NEW Logistic Regression score: {:.3f}\".format(newtestlogregscore))\n",
    "print(\"Support Vector Machine score: {:.3f}\".format(testsvmscore))\n",
    "print(\"NEW Support Vector Machine score: {:.3f}\".format(newtestsvmscore))\n",
    "print(\"Random Forest Classifier score: {:.3f}\".format(testrfcscore))\n",
    "print(\"NEW Random Forest Classifier score: {:.3f}\".format(newtestrfcscore))\n",
    "print(\" \")\n",
    "print(\"[Mean cross-validation score]\")\n",
    "print(\"K-Nearest Neighbor score: {:.3f}\".format(knnscore))\n",
    "print(\"NEW K-Nearest Neighbor score: {:.3f}\".format(newknnscore))\n",
    "print(\"Logistic Regression score: {:.3f}\".format(logregscore))\n",
    "print(\"NEW Logistic Regression score: {:.3f}\".format(newlogregscore))\n",
    "print(\"Support Vector Machine score: {:.3f}\".format(svmscore))\n",
    "print(\"NEW Support Vector Machine score: {:.3f}\".format(newsvmscore))\n",
    "print(\"Random Forest Classifier score: {:.3f}\".format(rfcscore))\n",
    "print(\"NEW Random Forest Classifier score: {:.3f}\".format(newrfcscore))"
   ]
  },
  {
   "cell_type": "markdown",
   "metadata": {},
   "source": [
    "**Comment:** By adding new three variables, the scores (test and cross-validation) of all four models improved. I would like to choose the Support Vector Machine as the best model because this model has the best score among all models."
   ]
  },
  {
   "cell_type": "markdown",
   "metadata": {},
   "source": [
    "### 14. What variable that currently is not in your model, if included, would be likely to increase your final model's predictive power?  For this answer try to speculate about a variable outside the variables available in the data that would improve you model."
   ]
  },
  {
   "cell_type": "markdown",
   "metadata": {},
   "source": [
    "I think that the information about the email address could increase the model's predictive power. The spam emails often contain the weird domain characters in their email addresses such as @92347.com or @098.nl. If I include some samples of such weird email addresses as independent variables, the prediction could impove. Or the length of characters of email address might be a good independent variable because the long email address might represent the spam."
   ]
  },
  {
   "cell_type": "markdown",
   "metadata": {},
   "source": [
    "### 15. Lastly, you have listed each of the models that we have learned to use to predict dependent variables like spam.  List each model we have focused on in class thus far that you could use to evaluate data with a continuous dependent variable.   (Include models we have learned through class 6 only)."
   ]
  },
  {
   "cell_type": "markdown",
   "metadata": {},
   "source": [
    "For a continuous dependent variable, we can use K-Nearest Neighbors Regression, (Ridge or Lasso) Linear Regression, (Bagging or Boosting) Decision Tree Regression, and Random Forest Regression to predict the dependent variables. (Support Vector Machine and Logistic Regression could be used for continuous dependent variables. But we may not learn it in class.)"
   ]
  }
 ],
 "metadata": {
  "kernelspec": {
   "display_name": "Python 3",
   "language": "python",
   "name": "python3"
  },
  "language_info": {
   "codemirror_mode": {
    "name": "ipython",
    "version": 3
   },
   "file_extension": ".py",
   "mimetype": "text/x-python",
   "name": "python",
   "nbconvert_exporter": "python",
   "pygments_lexer": "ipython3",
   "version": "3.7.3"
  }
 },
 "nbformat": 4,
 "nbformat_minor": 2
}

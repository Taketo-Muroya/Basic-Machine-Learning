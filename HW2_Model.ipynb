{
 "cells": [
  {
   "cell_type": "markdown",
   "metadata": {},
   "source": [
    "# HW 2: Supervised Learning Models\n",
    "### Answer Guide created by Kate Moore, 2019"
   ]
  },
  {
   "cell_type": "code",
   "execution_count": 1,
   "metadata": {},
   "outputs": [],
   "source": [
    "%matplotlib inline\n",
    "import pandas as pd\n",
    "import numpy as np\n",
    "\n",
    "# Supress Warnings\n",
    "import warnings\n",
    "warnings.simplefilter(action='ignore', category=FutureWarning)\n",
    "\n",
    "from sklearn.exceptions import DataConversionWarning\n",
    "warnings.filterwarnings(action='ignore', category=DataConversionWarning)\n",
    "\n",
    "pd.options.display.max_rows = 10"
   ]
  },
  {
   "cell_type": "markdown",
   "metadata": {},
   "source": [
    "# Part 1: Regression on California Test Scores"
   ]
  },
  {
   "cell_type": "markdown",
   "metadata": {},
   "source": [
    "## 1. Find the url for the California Test Score Data Set from the following website: https://vincentarelbundock.github.io/Rdatasets/datasets.html\n"
   ]
  },
  {
   "cell_type": "code",
   "execution_count": 2,
   "metadata": {},
   "outputs": [
    {
     "data": {
      "text/html": [
       "<div>\n",
       "<style scoped>\n",
       "    .dataframe tbody tr th:only-of-type {\n",
       "        vertical-align: middle;\n",
       "    }\n",
       "\n",
       "    .dataframe tbody tr th {\n",
       "        vertical-align: top;\n",
       "    }\n",
       "\n",
       "    .dataframe thead th {\n",
       "        text-align: right;\n",
       "    }\n",
       "</style>\n",
       "<table border=\"1\" class=\"dataframe\">\n",
       "  <thead>\n",
       "    <tr style=\"text-align: right;\">\n",
       "      <th></th>\n",
       "      <th>Unnamed: 0</th>\n",
       "      <th>distcod</th>\n",
       "      <th>county</th>\n",
       "      <th>district</th>\n",
       "      <th>grspan</th>\n",
       "      <th>enrltot</th>\n",
       "      <th>teachers</th>\n",
       "      <th>calwpct</th>\n",
       "      <th>mealpct</th>\n",
       "      <th>computer</th>\n",
       "      <th>testscr</th>\n",
       "      <th>compstu</th>\n",
       "      <th>expnstu</th>\n",
       "      <th>str</th>\n",
       "      <th>avginc</th>\n",
       "      <th>elpct</th>\n",
       "      <th>readscr</th>\n",
       "      <th>mathscr</th>\n",
       "    </tr>\n",
       "  </thead>\n",
       "  <tbody>\n",
       "    <tr>\n",
       "      <th>0</th>\n",
       "      <td>1</td>\n",
       "      <td>75119</td>\n",
       "      <td>Alameda</td>\n",
       "      <td>Sunol Glen Unified</td>\n",
       "      <td>KK-08</td>\n",
       "      <td>195</td>\n",
       "      <td>10.900000</td>\n",
       "      <td>0.510200</td>\n",
       "      <td>2.040800</td>\n",
       "      <td>67</td>\n",
       "      <td>690.799988</td>\n",
       "      <td>0.343590</td>\n",
       "      <td>6384.911133</td>\n",
       "      <td>17.889910</td>\n",
       "      <td>22.690001</td>\n",
       "      <td>0.000000</td>\n",
       "      <td>691.599976</td>\n",
       "      <td>690.000000</td>\n",
       "    </tr>\n",
       "    <tr>\n",
       "      <th>1</th>\n",
       "      <td>2</td>\n",
       "      <td>61499</td>\n",
       "      <td>Butte</td>\n",
       "      <td>Manzanita Elementary</td>\n",
       "      <td>KK-08</td>\n",
       "      <td>240</td>\n",
       "      <td>11.150000</td>\n",
       "      <td>15.416700</td>\n",
       "      <td>47.916698</td>\n",
       "      <td>101</td>\n",
       "      <td>661.200012</td>\n",
       "      <td>0.420833</td>\n",
       "      <td>5099.380859</td>\n",
       "      <td>21.524664</td>\n",
       "      <td>9.824000</td>\n",
       "      <td>4.583333</td>\n",
       "      <td>660.500000</td>\n",
       "      <td>661.900024</td>\n",
       "    </tr>\n",
       "    <tr>\n",
       "      <th>2</th>\n",
       "      <td>3</td>\n",
       "      <td>61549</td>\n",
       "      <td>Butte</td>\n",
       "      <td>Thermalito Union Elementary</td>\n",
       "      <td>KK-08</td>\n",
       "      <td>1550</td>\n",
       "      <td>82.900002</td>\n",
       "      <td>55.032299</td>\n",
       "      <td>76.322601</td>\n",
       "      <td>169</td>\n",
       "      <td>643.599976</td>\n",
       "      <td>0.109032</td>\n",
       "      <td>5501.954590</td>\n",
       "      <td>18.697226</td>\n",
       "      <td>8.978000</td>\n",
       "      <td>30.000002</td>\n",
       "      <td>636.299988</td>\n",
       "      <td>650.900024</td>\n",
       "    </tr>\n",
       "    <tr>\n",
       "      <th>3</th>\n",
       "      <td>4</td>\n",
       "      <td>61457</td>\n",
       "      <td>Butte</td>\n",
       "      <td>Golden Feather Union Elementary</td>\n",
       "      <td>KK-08</td>\n",
       "      <td>243</td>\n",
       "      <td>14.000000</td>\n",
       "      <td>36.475399</td>\n",
       "      <td>77.049202</td>\n",
       "      <td>85</td>\n",
       "      <td>647.700012</td>\n",
       "      <td>0.349794</td>\n",
       "      <td>7101.831055</td>\n",
       "      <td>17.357143</td>\n",
       "      <td>8.978000</td>\n",
       "      <td>0.000000</td>\n",
       "      <td>651.900024</td>\n",
       "      <td>643.500000</td>\n",
       "    </tr>\n",
       "    <tr>\n",
       "      <th>4</th>\n",
       "      <td>5</td>\n",
       "      <td>61523</td>\n",
       "      <td>Butte</td>\n",
       "      <td>Palermo Union Elementary</td>\n",
       "      <td>KK-08</td>\n",
       "      <td>1335</td>\n",
       "      <td>71.500000</td>\n",
       "      <td>33.108601</td>\n",
       "      <td>78.427002</td>\n",
       "      <td>171</td>\n",
       "      <td>640.849976</td>\n",
       "      <td>0.128090</td>\n",
       "      <td>5235.987793</td>\n",
       "      <td>18.671329</td>\n",
       "      <td>9.080333</td>\n",
       "      <td>13.857677</td>\n",
       "      <td>641.799988</td>\n",
       "      <td>639.900024</td>\n",
       "    </tr>\n",
       "  </tbody>\n",
       "</table>\n",
       "</div>"
      ],
      "text/plain": [
       "   Unnamed: 0  distcod   county                         district grspan  \\\n",
       "0           1    75119  Alameda               Sunol Glen Unified  KK-08   \n",
       "1           2    61499    Butte             Manzanita Elementary  KK-08   \n",
       "2           3    61549    Butte      Thermalito Union Elementary  KK-08   \n",
       "3           4    61457    Butte  Golden Feather Union Elementary  KK-08   \n",
       "4           5    61523    Butte         Palermo Union Elementary  KK-08   \n",
       "\n",
       "   enrltot   teachers    calwpct    mealpct  computer     testscr   compstu  \\\n",
       "0      195  10.900000   0.510200   2.040800        67  690.799988  0.343590   \n",
       "1      240  11.150000  15.416700  47.916698       101  661.200012  0.420833   \n",
       "2     1550  82.900002  55.032299  76.322601       169  643.599976  0.109032   \n",
       "3      243  14.000000  36.475399  77.049202        85  647.700012  0.349794   \n",
       "4     1335  71.500000  33.108601  78.427002       171  640.849976  0.128090   \n",
       "\n",
       "       expnstu        str     avginc      elpct     readscr     mathscr  \n",
       "0  6384.911133  17.889910  22.690001   0.000000  691.599976  690.000000  \n",
       "1  5099.380859  21.524664   9.824000   4.583333  660.500000  661.900024  \n",
       "2  5501.954590  18.697226   8.978000  30.000002  636.299988  650.900024  \n",
       "3  7101.831055  17.357143   8.978000   0.000000  651.900024  643.500000  \n",
       "4  5235.987793  18.671329   9.080333  13.857677  641.799988  639.900024  "
      ]
     },
     "execution_count": 2,
     "metadata": {},
     "output_type": "execute_result"
    }
   ],
   "source": [
    "df = pd.read_csv(\"https://vincentarelbundock.github.io/Rdatasets/csv/Ecdat/Caschool.csv\")\n",
    "df.head()"
   ]
  },
  {
   "cell_type": "markdown",
   "metadata": {},
   "source": [
    "## 1.1 Visualize the univariate distribution of the target feature and each of the three continuous explanatory variables that you think are likely to have a relationship with the target feature.  "
   ]
  },
  {
   "cell_type": "code",
   "execution_count": 3,
   "metadata": {},
   "outputs": [
    {
     "data": {
      "text/plain": [
       "<matplotlib.axes._subplots.AxesSubplot at 0x102bbf588>"
      ]
     },
     "execution_count": 3,
     "metadata": {},
     "output_type": "execute_result"
    },
    {
     "data": {
      "image/png": "[encoded data removed]",
      "text/plain": [
       "<Figure size 432x288 with 1 Axes>"
      ]
     },
     "metadata": {
      "needs_background": "light"
     },
     "output_type": "display_data"
    }
   ],
   "source": [
    "df['testscr'].hist()"
   ]
  },
  {
   "cell_type": "code",
   "execution_count": 4,
   "metadata": {},
   "outputs": [
    {
     "data": {
      "text/plain": [
       "<matplotlib.axes._subplots.AxesSubplot at 0xa1575e470>"
      ]
     },
     "execution_count": 4,
     "metadata": {},
     "output_type": "execute_result"
    },
    {
     "data": {
      "image/png": "[encoded data removed]",
      "text/plain": [
       "<Figure size 432x288 with 1 Axes>"
      ]
     },
     "metadata": {
      "needs_background": "light"
     },
     "output_type": "display_data"
    }
   ],
   "source": [
    "df['expnstu'].hist()"
   ]
  },
  {
   "cell_type": "code",
   "execution_count": 5,
   "metadata": {},
   "outputs": [
    {
     "data": {
      "text/plain": [
       "<matplotlib.axes._subplots.AxesSubplot at 0xa157eb7f0>"
      ]
     },
     "execution_count": 5,
     "metadata": {},
     "output_type": "execute_result"
    },
    {
     "data": {
      "image/png": "[encoded data removed]",
      "text/plain": [
       "<Figure size 432x288 with 1 Axes>"
      ]
     },
     "metadata": {
      "needs_background": "light"
     },
     "output_type": "display_data"
    }
   ],
   "source": [
    "df['str'].hist()"
   ]
  },
  {
   "cell_type": "code",
   "execution_count": 6,
   "metadata": {},
   "outputs": [
    {
     "data": {
      "text/plain": [
       "<matplotlib.axes._subplots.AxesSubplot at 0xa16135208>"
      ]
     },
     "execution_count": 6,
     "metadata": {},
     "output_type": "execute_result"
    },
    {
     "data": {
      "image/png": "[encoded data removed]",
      "text/plain": [
       "<Figure size 432x288 with 1 Axes>"
      ]
     },
     "metadata": {
      "needs_background": "light"
     },
     "output_type": "display_data"
    }
   ],
   "source": [
    "df['avginc'].hist()"
   ]
  },
  {
   "cell_type": "markdown",
   "metadata": {},
   "source": [
    "## 1.2 Visualize the dependency of the target on each feature from 1.1."
   ]
  },
  {
   "cell_type": "code",
   "execution_count": 7,
   "metadata": {},
   "outputs": [
    {
     "data": {
      "image/png": "[encoded data removed]",
      "text/plain": [
       "<Figure size 432x288 with 1 Axes>"
      ]
     },
     "metadata": {
      "needs_background": "light"
     },
     "output_type": "display_data"
    }
   ],
   "source": [
    "import seaborn as sns\n",
    "x = sns.regplot(x=\"testscr\", y=\"expnstu\", data=df, color='r')"
   ]
  },
  {
   "cell_type": "code",
   "execution_count": 8,
   "metadata": {},
   "outputs": [
    {
     "data": {
      "image/png": "[encoded data removed]",
      "text/plain": [
       "<Figure size 432x288 with 1 Axes>"
      ]
     },
     "metadata": {
      "needs_background": "light"
     },
     "output_type": "display_data"
    }
   ],
   "source": [
    "x = sns.regplot(x=\"testscr\", y=\"str\", data=df, color='g')"
   ]
  },
  {
   "cell_type": "code",
   "execution_count": 9,
   "metadata": {},
   "outputs": [
    {
     "data": {
      "image/png": "[encoded data removed]",
      "text/plain": [
       "<Figure size 432x288 with 1 Axes>"
      ]
     },
     "metadata": {
      "needs_background": "light"
     },
     "output_type": "display_data"
    }
   ],
   "source": [
    "x = sns.regplot(x=\"testscr\", y=\"avginc\", data=df)"
   ]
  },
  {
   "cell_type": "markdown",
   "metadata": {},
   "source": [
    "## 1.3a Split data in training and test set."
   ]
  },
  {
   "cell_type": "code",
   "execution_count": 10,
   "metadata": {},
   "outputs": [
    {
     "data": {
      "text/html": [
       "<div>\n",
       "<style scoped>\n",
       "    .dataframe tbody tr th:only-of-type {\n",
       "        vertical-align: middle;\n",
       "    }\n",
       "\n",
       "    .dataframe tbody tr th {\n",
       "        vertical-align: top;\n",
       "    }\n",
       "\n",
       "    .dataframe thead th {\n",
       "        text-align: right;\n",
       "    }\n",
       "</style>\n",
       "<table border=\"1\" class=\"dataframe\">\n",
       "  <thead>\n",
       "    <tr style=\"text-align: right;\">\n",
       "      <th></th>\n",
       "      <th>enrltot</th>\n",
       "      <th>teachers</th>\n",
       "      <th>calwpct</th>\n",
       "      <th>mealpct</th>\n",
       "      <th>computer</th>\n",
       "      <th>compstu</th>\n",
       "      <th>expnstu</th>\n",
       "      <th>str</th>\n",
       "      <th>avginc</th>\n",
       "      <th>elpct</th>\n",
       "    </tr>\n",
       "  </thead>\n",
       "  <tbody>\n",
       "    <tr>\n",
       "      <th>0</th>\n",
       "      <td>195</td>\n",
       "      <td>10.900000</td>\n",
       "      <td>0.510200</td>\n",
       "      <td>2.040800</td>\n",
       "      <td>67</td>\n",
       "      <td>0.343590</td>\n",
       "      <td>6384.911133</td>\n",
       "      <td>17.889910</td>\n",
       "      <td>22.690001</td>\n",
       "      <td>0.000000</td>\n",
       "    </tr>\n",
       "    <tr>\n",
       "      <th>1</th>\n",
       "      <td>240</td>\n",
       "      <td>11.150000</td>\n",
       "      <td>15.416700</td>\n",
       "      <td>47.916698</td>\n",
       "      <td>101</td>\n",
       "      <td>0.420833</td>\n",
       "      <td>5099.380859</td>\n",
       "      <td>21.524664</td>\n",
       "      <td>9.824000</td>\n",
       "      <td>4.583333</td>\n",
       "    </tr>\n",
       "    <tr>\n",
       "      <th>2</th>\n",
       "      <td>1550</td>\n",
       "      <td>82.900002</td>\n",
       "      <td>55.032299</td>\n",
       "      <td>76.322601</td>\n",
       "      <td>169</td>\n",
       "      <td>0.109032</td>\n",
       "      <td>5501.954590</td>\n",
       "      <td>18.697226</td>\n",
       "      <td>8.978000</td>\n",
       "      <td>30.000002</td>\n",
       "    </tr>\n",
       "    <tr>\n",
       "      <th>3</th>\n",
       "      <td>243</td>\n",
       "      <td>14.000000</td>\n",
       "      <td>36.475399</td>\n",
       "      <td>77.049202</td>\n",
       "      <td>85</td>\n",
       "      <td>0.349794</td>\n",
       "      <td>7101.831055</td>\n",
       "      <td>17.357143</td>\n",
       "      <td>8.978000</td>\n",
       "      <td>0.000000</td>\n",
       "    </tr>\n",
       "    <tr>\n",
       "      <th>4</th>\n",
       "      <td>1335</td>\n",
       "      <td>71.500000</td>\n",
       "      <td>33.108601</td>\n",
       "      <td>78.427002</td>\n",
       "      <td>171</td>\n",
       "      <td>0.128090</td>\n",
       "      <td>5235.987793</td>\n",
       "      <td>18.671329</td>\n",
       "      <td>9.080333</td>\n",
       "      <td>13.857677</td>\n",
       "    </tr>\n",
       "  </tbody>\n",
       "</table>\n",
       "</div>"
      ],
      "text/plain": [
       "   enrltot   teachers    calwpct    mealpct  computer   compstu      expnstu  \\\n",
       "0      195  10.900000   0.510200   2.040800        67  0.343590  6384.911133   \n",
       "1      240  11.150000  15.416700  47.916698       101  0.420833  5099.380859   \n",
       "2     1550  82.900002  55.032299  76.322601       169  0.109032  5501.954590   \n",
       "3      243  14.000000  36.475399  77.049202        85  0.349794  7101.831055   \n",
       "4     1335  71.500000  33.108601  78.427002       171  0.128090  5235.987793   \n",
       "\n",
       "         str     avginc      elpct  \n",
       "0  17.889910  22.690001   0.000000  \n",
       "1  21.524664   9.824000   4.583333  \n",
       "2  18.697226   8.978000  30.000002  \n",
       "3  17.357143   8.978000   0.000000  \n",
       "4  18.671329   9.080333  13.857677  "
      ]
     },
     "execution_count": 10,
     "metadata": {},
     "output_type": "execute_result"
    }
   ],
   "source": [
    "from sklearn.model_selection import train_test_split\n",
    "\n",
    "corrected_data = df.drop(df.columns[[16, 17]], axis=1) # remove the reading and math scores from the dataset\n",
    "data = corrected_data.iloc[:, 5:] # delete first six columns\n",
    "\n",
    "y = data['testscr'] # assign outcome variable, i.e. what we want to predict\n",
    "X = data.loc[:, data.columns != 'testscr'] # assign all other values as X-values, i.e. variables we use to predict\n",
    "\n",
    "X_train, X_test, y_train, y_test = train_test_split(X, y, random_state=42) \n",
    "# randomly assign some data to the test-set and the rest to the training-set\n",
    "\n",
    "X.head()"
   ]
  },
  {
   "cell_type": "markdown",
   "metadata": {},
   "source": [
    "## 1.3b Build models that evaluate the relationship between all available X variables in the California test dataset and the target variable."
   ]
  },
  {
   "cell_type": "code",
   "execution_count": 11,
   "metadata": {},
   "outputs": [],
   "source": [
    "from sklearn.model_selection import RepeatedKFold\n",
    "from sklearn.model_selection import StratifiedKFold\n",
    "from sklearn.model_selection import KFold\n",
    "from sklearn.model_selection import cross_val_score"
   ]
  },
  {
   "cell_type": "code",
   "execution_count": 12,
   "metadata": {},
   "outputs": [],
   "source": [
    "# Set up function parameters for different cross validation strategies\n",
    "kfold = KFold(n_splits=5) # I use this in PART 1.\n",
    "skfold = StratifiedKFold(n_splits=5, shuffle=True) \n",
    "rkf = RepeatedKFold(n_splits=5, n_repeats=10, random_state=1) # I use this in PART 2."
   ]
  },
  {
   "cell_type": "markdown",
   "metadata": {},
   "source": [
    "### KNN for regression with cross-validation"
   ]
  },
  {
   "cell_type": "code",
   "execution_count": 13,
   "metadata": {},
   "outputs": [
    {
     "name": "stdout",
     "output_type": "stream",
     "text": [
      "KNN for REGRESSION (UNSCALED DATA)\n",
      "Training set score: 0.16\n",
      "Test set score: 0.03\n",
      "Mean Cross-Validation, Kfold: 0.03\n"
     ]
    }
   ],
   "source": [
    "from sklearn.neighbors import KNeighborsRegressor\n",
    "\n",
    "knn = KNeighborsRegressor(n_neighbors=14) # Play around with n_neighbors to determine best fit\n",
    "knn.fit(X_train, y_train)\n",
    "\n",
    "print(\"KNN for REGRESSION (UNSCALED DATA)\")\n",
    "\n",
    "# Training and Test Scores\n",
    "print(\"Training set score: {:.2f}\".format(knn.score(X_train, y_train)))\n",
    "print(\"Test set score: {:.2f}\".format(knn.score(X_test, y_test)))\n",
    "\n",
    "# Kfold cross validation\n",
    "print(\"Mean Cross-Validation, Kfold: {:.2f}\".format(np.mean(cross_val_score(knn, X_train, y_train, scoring='r2', cv=kfold))))\n",
    "\n",
    "knn_unscaled = np.mean(cross_val_score(knn, X_train, y_train, scoring='r2', cv=kfold)) # Will use later to compare results"
   ]
  },
  {
   "cell_type": "markdown",
   "metadata": {},
   "source": [
    "**Note:** KNN Regression with unscaled data is not accurate."
   ]
  },
  {
   "cell_type": "markdown",
   "metadata": {},
   "source": [
    "### Linear Regression (OLS) with cross-validation"
   ]
  },
  {
   "cell_type": "code",
   "execution_count": 14,
   "metadata": {},
   "outputs": [
    {
     "name": "stdout",
     "output_type": "stream",
     "text": [
      "LINEAR REGRESSION (UNSCALED DATA)\n",
      "Training set score: 0.81\n",
      "Test set score: 0.81\n",
      "Mean Cross-Validation, Kfold: 0.78\n"
     ]
    }
   ],
   "source": [
    "from sklearn.linear_model import LinearRegression\n",
    "\n",
    "lr = LinearRegression().fit(X_train, y_train) # Fit the training data to a regression line\n",
    "\n",
    "print(\"LINEAR REGRESSION (UNSCALED DATA)\")\n",
    "print(\"Training set score: {:.2f}\".format(lr.score(X_train, y_train)))\n",
    "print(\"Test set score: {:.2f}\".format(lr.score(X_test, y_test)))\n",
    "\n",
    "# Kfold cross validation\n",
    "print(\"Mean Cross-Validation, Kfold: {:.2f}\".format(np.mean(cross_val_score(lr, X_train, y_train, cv=kfold))))\n",
    "\n",
    "OLS_unscaled = np.mean(cross_val_score(lr, X_train, y_train, cv=kfold)) # Will use later to compare results"
   ]
  },
  {
   "cell_type": "markdown",
   "metadata": {},
   "source": [
    "**Note:** Linear Regression with unscaled data has an avg. accuracy of 78%."
   ]
  },
  {
   "cell_type": "markdown",
   "metadata": {},
   "source": [
    "### Ridge with cross-validation"
   ]
  },
  {
   "cell_type": "code",
   "execution_count": 15,
   "metadata": {},
   "outputs": [
    {
     "name": "stdout",
     "output_type": "stream",
     "text": [
      "RIDGE REGRESSION (UNSCALED DATA)\n",
      "Training set score: 0.81\n",
      "Test set score: 0.81\n",
      "Mean Cross-Validation, Kfold: 0.78\n"
     ]
    }
   ],
   "source": [
    "from sklearn.linear_model import Ridge\n",
    "\n",
    "ridge = Ridge(alpha=0.01, max_iter=100000).fit(X_train, y_train) # Fit the training data to a ridge regression line\n",
    "\n",
    "print(\"RIDGE REGRESSION (UNSCALED DATA)\") # Ridge is L2 penalty, which adds “squared magnitude” of coefficient as penalty term to the loss function. Good for avoiding the over-fitting issue\n",
    "print(\"Training set score: {:.2f}\".format(ridge.score(X_train, y_train)))\n",
    "print(\"Test set score: {:.2f}\".format(ridge.score(X_test, y_test)))\n",
    "\n",
    "# Kfold cross validation\n",
    "print(\"Mean Cross-Validation, Kfold: {:.2f}\".format(np.mean(cross_val_score(ridge, X_train, y_train, cv=kfold))))\n",
    "\n",
    "ridge_unscaled = np.mean(cross_val_score(ridge, X_train, y_train, cv=kfold)) # Will use later to compare results"
   ]
  },
  {
   "cell_type": "markdown",
   "metadata": {},
   "source": [
    "**Note:** Ridge Regression with unscaled data has an avg. accuracy of 78%."
   ]
  },
  {
   "cell_type": "markdown",
   "metadata": {},
   "source": [
    "### LASSO with cross-validation"
   ]
  },
  {
   "cell_type": "code",
   "execution_count": 16,
   "metadata": {},
   "outputs": [
    {
     "name": "stdout",
     "output_type": "stream",
     "text": [
      "LASSO REGRESSION (UNSCALED DATA)\n",
      "Training set score: 0.81\n",
      "Test set score: 0.81\n",
      "Mean Cross-Validation, Kfold: 0.78\n"
     ]
    }
   ],
   "source": [
    "from sklearn.linear_model import Lasso\n",
    "\n",
    "lasso = Lasso(alpha=0.01, max_iter=100000).fit(X_train, y_train) # Fit the training data to a lasso regression line with alpha = 0.01 and 100,000 iterations\n",
    "\n",
    "print(\"LASSO REGRESSION (UNSCALED DATA)\") # LASSO is L1 penalty, which adds “absolute value of magnitude” of coefficient as penalty term to the loss function. Good for feature selection when you have a lot of features.\n",
    "print(\"Training set score: {:.2f}\".format(lasso.score(X_train, y_train)))\n",
    "print(\"Test set score: {:.2f}\".format(lasso.score(X_test, y_test)))\n",
    "\n",
    "# Kfold cross validation\n",
    "print(\"Mean Cross-Validation, Kfold: {:.2f}\".format(np.mean(cross_val_score(lasso, X_train, y_train, cv=kfold))))\n",
    "\n",
    "lasso_unscaled = np.mean(cross_val_score(lasso, X_train, y_train, cv=rkf)) # Will use later to compare results"
   ]
  },
  {
   "cell_type": "markdown",
   "metadata": {},
   "source": [
    "**Note:** Lasso regression with unscaled data as the same avg. accuracy as Ridge, 78%."
   ]
  },
  {
   "cell_type": "markdown",
   "metadata": {},
   "source": [
    "## 1.3c Does scaling the data with the StandardScaler help?"
   ]
  },
  {
   "cell_type": "code",
   "execution_count": 17,
   "metadata": {},
   "outputs": [
    {
     "name": "stderr",
     "output_type": "stream",
     "text": [
      "/Applications/anaconda3/lib/python3.7/site-packages/sklearn/preprocessing/data.py:625: DataConversionWarning: Data with input dtype int64, float64 were all converted to float64 by StandardScaler.\n",
      "  return self.partial_fit(X, y)\n",
      "/Applications/anaconda3/lib/python3.7/site-packages/ipykernel_launcher.py:5: DataConversionWarning: Data with input dtype int64, float64 were all converted to float64 by StandardScaler.\n",
      "  \"\"\"\n",
      "/Applications/anaconda3/lib/python3.7/site-packages/ipykernel_launcher.py:6: DataConversionWarning: Data with input dtype int64, float64 were all converted to float64 by StandardScaler.\n",
      "  \n"
     ]
    }
   ],
   "source": [
    "from sklearn import preprocessing\n",
    "\n",
    "# Here, I standardize by X data using StandardScalar\n",
    "scaler = preprocessing.StandardScaler().fit(X_train)\n",
    "X_train_scaled = scaler.transform(X_train)\n",
    "X_test_scaled = scaler.transform(X_test)"
   ]
  },
  {
   "cell_type": "markdown",
   "metadata": {},
   "source": [
    "### Scaled KNN Regression"
   ]
  },
  {
   "cell_type": "code",
   "execution_count": 18,
   "metadata": {},
   "outputs": [
    {
     "name": "stdout",
     "output_type": "stream",
     "text": [
      "KNN for REGRESSION (SCALED DATA)\n",
      "Training set score: 0.77\n",
      "Test set score: 0.76\n",
      "Mean Cross-Validation, Kfold: 0.72\n"
     ]
    }
   ],
   "source": [
    "knn = KNeighborsRegressor(n_neighbors=14).fit(X_train_scaled, y_train)\n",
    "\n",
    "print(\"KNN for REGRESSION (SCALED DATA)\")\n",
    "print(\"Training set score: {:.2f}\".format(knn.score(X_train_scaled, y_train)))\n",
    "print(\"Test set score: {:.2f}\".format(knn.score(X_test_scaled, y_test)))\n",
    "\n",
    "# Kfold cross validation\n",
    "print(\"Mean Cross-Validation, Kfold: {:.2f}\".format(np.mean(cross_val_score(knn, X_train_scaled, y_train, cv=kfold))))\n",
    "\n",
    "knn_scaled = np.mean(cross_val_score(knn, X_train_scaled, y_train, cv=kfold))"
   ]
  },
  {
   "cell_type": "markdown",
   "metadata": {},
   "source": [
    "**Note:** Avg. accuracy of KNN model improves greatly with scaled data."
   ]
  },
  {
   "cell_type": "code",
   "execution_count": 19,
   "metadata": {},
   "outputs": [
    {
     "name": "stdout",
     "output_type": "stream",
     "text": [
      "KNN with unscaled data: 0.03\n",
      "KNN with scaled data  : 0.72\n"
     ]
    }
   ],
   "source": [
    "print(\"KNN with unscaled data: {:.2f}\".format(knn_unscaled))\n",
    "print(\"KNN with scaled data  : {:.2f}\".format(knn_scaled))"
   ]
  },
  {
   "cell_type": "markdown",
   "metadata": {},
   "source": [
    "### Scaled Linear Regression (OLS)"
   ]
  },
  {
   "cell_type": "code",
   "execution_count": 20,
   "metadata": {},
   "outputs": [
    {
     "name": "stdout",
     "output_type": "stream",
     "text": [
      "LINEAR REGRESSION (SCALED DATA)\n",
      "Training set score: 0.81\n",
      "Test set score: 0.81\n",
      "Mean Cross-Validation, Kfold: 0.78\n"
     ]
    }
   ],
   "source": [
    "lr = LinearRegression().fit(X_train_scaled, y_train)\n",
    "\n",
    "print(\"LINEAR REGRESSION (SCALED DATA)\")\n",
    "print(\"Training set score: {:.2f}\".format(lr.score(X_train_scaled, y_train)))\n",
    "print(\"Test set score: {:.2f}\".format(lr.score(X_test_scaled, y_test)))\n",
    "\n",
    "# Kfold cross validation\n",
    "print(\"Mean Cross-Validation, Kfold: {:.2f}\".format(np.mean(cross_val_score(lr, X_train_scaled, y_train, cv=kfold))))\n",
    "\n",
    "OLS_scaled = np.mean(cross_val_score(lr, X_train_scaled, y_train, cv=kfold))"
   ]
  },
  {
   "cell_type": "markdown",
   "metadata": {},
   "source": [
    "**Note:** Avg. accuracy of linear regression model does not improve with scaled data."
   ]
  },
  {
   "cell_type": "code",
   "execution_count": 21,
   "metadata": {},
   "outputs": [
    {
     "name": "stdout",
     "output_type": "stream",
     "text": [
      "Linear regression with unscaled data: 0.78\n",
      "Linear regression with scaled data  : 0.78\n"
     ]
    }
   ],
   "source": [
    "print(\"Linear regression with unscaled data: {:.2f}\".format(OLS_unscaled))\n",
    "print(\"Linear regression with scaled data  : {:.2f}\".format(OLS_scaled))"
   ]
  },
  {
   "cell_type": "markdown",
   "metadata": {},
   "source": [
    "### Scaled Ridge Regression"
   ]
  },
  {
   "cell_type": "code",
   "execution_count": 22,
   "metadata": {},
   "outputs": [
    {
     "name": "stdout",
     "output_type": "stream",
     "text": [
      "RIDGE REGRESSION (SCALED DATA)\n",
      "Training set score: 0.81\n",
      "Test set score: 0.81\n",
      "Mean Cross-Validation, Kfold: 0.78\n"
     ]
    }
   ],
   "source": [
    "ridge = Ridge(alpha=0.01, max_iter=100000).fit(X_train_scaled, y_train)\n",
    "\n",
    "print(\"RIDGE REGRESSION (SCALED DATA)\")\n",
    "print(\"Training set score: {:.2f}\".format(ridge.score(X_train_scaled, y_train)))\n",
    "print(\"Test set score: {:.2f}\".format(ridge.score(X_test_scaled, y_test)))\n",
    "\n",
    "# Kfold cross validation\n",
    "print(\"Mean Cross-Validation, Kfold: {:.2f}\".format(np.mean(cross_val_score(ridge, X_train_scaled, y_train, cv=kfold))))\n",
    "\n",
    "ridge_scaled = np.mean(cross_val_score(ridge, X_train_scaled, y_train, cv=kfold))"
   ]
  },
  {
   "cell_type": "markdown",
   "metadata": {},
   "source": [
    "**Note:** Avg. accuracy of ridge model does not improve with scaled data."
   ]
  },
  {
   "cell_type": "code",
   "execution_count": 23,
   "metadata": {},
   "outputs": [
    {
     "name": "stdout",
     "output_type": "stream",
     "text": [
      "Ridge regression with unscaled data: 0.78\n",
      "Ridge regression with scaled data  : 0.78\n"
     ]
    }
   ],
   "source": [
    "print(\"Ridge regression with unscaled data: {:.2f}\".format(ridge_unscaled))\n",
    "print(\"Ridge regression with scaled data  : {:.2f}\".format(ridge_scaled))"
   ]
  },
  {
   "cell_type": "markdown",
   "metadata": {},
   "source": [
    "### Scaled Lasso Regression"
   ]
  },
  {
   "cell_type": "code",
   "execution_count": 24,
   "metadata": {},
   "outputs": [
    {
     "name": "stdout",
     "output_type": "stream",
     "text": [
      "LASSO REGRESSION (SCALED DATA)\n",
      "Training set score: 0.81\n",
      "Test set score: 0.81\n",
      "Mean Cross-Validation, Kfold: 0.78\n"
     ]
    }
   ],
   "source": [
    "lasso = Lasso(alpha=0.01, max_iter=100000).fit(X_train_scaled, y_train)\n",
    "\n",
    "print(\"LASSO REGRESSION (SCALED DATA)\")\n",
    "print(\"Training set score: {:.2f}\".format(lasso.score(X_train_scaled, y_train)))\n",
    "print(\"Test set score: {:.2f}\".format(lasso.score(X_test_scaled, y_test)))\n",
    "\n",
    "# Kfold cross validation\n",
    "print(\"Mean Cross-Validation, Kfold: {:.2f}\".format(np.mean(cross_val_score(lasso, X_train_scaled, y_train, cv=kfold))))\n",
    "\n",
    "lasso_scaled = np.mean(cross_val_score(lasso, X_train_scaled, y_train, cv=rkf))"
   ]
  },
  {
   "cell_type": "markdown",
   "metadata": {},
   "source": [
    "**Note:** Avg. accuracy of LASSO model does not improve with scaled data."
   ]
  },
  {
   "cell_type": "code",
   "execution_count": 25,
   "metadata": {},
   "outputs": [
    {
     "name": "stdout",
     "output_type": "stream",
     "text": [
      "LASSO regression with unscaled data: 0.79\n",
      "LASSO regression with scaled data  : 0.79\n"
     ]
    }
   ],
   "source": [
    "print(\"LASSO regression with unscaled data: {:.2f}\".format(lasso_unscaled))\n",
    "print(\"LASSO regression with scaled data  : {:.2f}\".format(lasso_scaled))"
   ]
  },
  {
   "cell_type": "markdown",
   "metadata": {},
   "source": [
    "**Answer:** \n",
    "Scalling improves training scores for KNN, but affords little change to the other methods."
   ]
  },
  {
   "cell_type": "markdown",
   "metadata": {},
   "source": [
    "## 1.4 Tune the parameters of the models where possible using GridSearchCV. "
   ]
  },
  {
   "cell_type": "code",
   "execution_count": 26,
   "metadata": {},
   "outputs": [],
   "source": [
    "from sklearn.pipeline import make_pipeline\n",
    "from sklearn.model_selection import GridSearchCV\n",
    "from sklearn.preprocessing import StandardScaler"
   ]
  },
  {
   "cell_type": "markdown",
   "metadata": {},
   "source": [
    "### GridsearchCV with KNN Regression"
   ]
  },
  {
   "cell_type": "code",
   "execution_count": 27,
   "metadata": {},
   "outputs": [
    {
     "name": "stdout",
     "output_type": "stream",
     "text": [
      "KNN for REGRESSION (SCALED DATA)\n",
      "Test set Score: 0.78\n",
      "Best Parameter: {'kneighborsregressor__n_neighbors': 6}\n"
     ]
    }
   ],
   "source": [
    "knn_pipe = make_pipeline(StandardScaler(), KNeighborsRegressor())\n",
    "# print(knn_pipe.steps) \n",
    "# Name of step = 'kneighborsregressor' + __ + n_neighbors\n",
    "\n",
    "knn_param_grid = {'kneighborsregressor__n_neighbors': range(1, 10)} # remember, use two underscores before n, \"__n\"\n",
    "knn_grid = GridSearchCV(knn_pipe, knn_param_grid, cv=kfold).fit(X_train_scaled, y_train)\n",
    "\n",
    "print(\"KNN for REGRESSION (SCALED DATA)\")\n",
    "print(\"Test set Score: {:.2f}\".format(knn_grid.score(X_test_scaled, y_test)))\n",
    "#print(\"Best Cross-Validation Score: {:.2f}\".format(knn_grid.best_score_))\n",
    "print(\"Best Parameter: {}\".format(knn_grid.best_params_))"
   ]
  },
  {
   "cell_type": "markdown",
   "metadata": {},
   "source": [
    "**Note:** Best parameter for KNN is n_neighbors = 6"
   ]
  },
  {
   "cell_type": "code",
   "execution_count": 28,
   "metadata": {},
   "outputs": [
    {
     "name": "stdout",
     "output_type": "stream",
     "text": [
      "KNN Test set score: 0.78\n"
     ]
    }
   ],
   "source": [
    "knn = KNeighborsRegressor(n_neighbors=6).fit(X_train_scaled, y_train)\n",
    "print(\"KNN Test set score: {:.2f}\".format(knn.score(X_test_scaled, y_test)))\n",
    "best_knn = knn.score(X_test_scaled, y_test)"
   ]
  },
  {
   "cell_type": "markdown",
   "metadata": {},
   "source": [
    "### GridsearchCV with Linear Regression (OLS)"
   ]
  },
  {
   "cell_type": "markdown",
   "metadata": {},
   "source": [
    "**Note:** There are no parameters to 'tune' with OLS."
   ]
  },
  {
   "cell_type": "markdown",
   "metadata": {},
   "source": [
    "### Gridsearch with Ridge Regression"
   ]
  },
  {
   "cell_type": "code",
   "execution_count": 29,
   "metadata": {},
   "outputs": [
    {
     "name": "stdout",
     "output_type": "stream",
     "text": [
      "RIDGE REGRESSION (SCALED DATA)\n",
      "Test set Score: 0.81\n",
      "Best Parameter: {'ridge__alpha': 0.1}\n"
     ]
    }
   ],
   "source": [
    "ridge_pipe = make_pipeline(StandardScaler(), Ridge())\n",
    "# print(ridge_pipe.steps) \n",
    "# Name of step = 'ridge' + __ + alpha\n",
    "\n",
    "ridge_param_grid = {'ridge__alpha': np.linspace(0.1, 100.1, 1)}\n",
    "ridge_grid = GridSearchCV(ridge_pipe, ridge_param_grid, cv=kfold).fit(X_train_scaled, y_train)\n",
    "\n",
    "print(\"RIDGE REGRESSION (SCALED DATA)\")\n",
    "print(\"Test set Score: {:.2f}\".format(ridge_grid.score(X_test_scaled, y_test)))\n",
    "#print(\"Best Cross-Validation Score: {:.2f}\".format(ridge_grid.best_score_))\n",
    "print(\"Best Parameter: {}\".format(ridge_grid.best_params_))"
   ]
  },
  {
   "cell_type": "markdown",
   "metadata": {},
   "source": [
    "**Note:** Best parameter for ridge regression is alpha = 0.1"
   ]
  },
  {
   "cell_type": "code",
   "execution_count": 30,
   "metadata": {},
   "outputs": [
    {
     "name": "stdout",
     "output_type": "stream",
     "text": [
      "Ridge test set score: 0.81\n"
     ]
    }
   ],
   "source": [
    "ridge = Ridge(alpha=0.1, max_iter=100000).fit(X_train_scaled, y_train)\n",
    "print(\"Ridge test set score: {:.2f}\".format(ridge.score(X_test_scaled, y_test)))\n",
    "best_ridge = np.mean(cross_val_score(ridge, X_train_scaled, y_train, cv=kfold))"
   ]
  },
  {
   "cell_type": "markdown",
   "metadata": {},
   "source": [
    "### Gridsearch with LASSO Regression"
   ]
  },
  {
   "cell_type": "code",
   "execution_count": 31,
   "metadata": {},
   "outputs": [
    {
     "name": "stdout",
     "output_type": "stream",
     "text": [
      "LASSO REGRESSION (SCALED DATA)\n",
      "Test set Score: 0.81\n",
      "Best Parameter: {'lasso__alpha': 0.1}\n"
     ]
    }
   ],
   "source": [
    "lasso_pipe = make_pipeline(StandardScaler(), Lasso())\n",
    "# print(lasso_pipe.steps) \n",
    "# Name of step = 'lasso' + __ + alpha\n",
    "\n",
    "lasso_param_grid = {'lasso__alpha': np.linspace(0.1, 100.0, 1)}\n",
    "lasso_grid = GridSearchCV(lasso_pipe, lasso_param_grid, cv=kfold).fit(X_train_scaled, y_train)\n",
    "\n",
    "print(\"LASSO REGRESSION (SCALED DATA)\")\n",
    "print(\"Test set Score: {:.2f}\".format(lasso_grid.score(X_test_scaled, y_test)))\n",
    "#print(\"Best Cross-Validation Score: {:.2f}\".format(lasso_grid.best_score_))\n",
    "print(\"Best Parameter: {}\".format(lasso_grid.best_params_))"
   ]
  },
  {
   "cell_type": "markdown",
   "metadata": {},
   "source": [
    "**Note:** Best parameter for lasso regression is alpha = 0.1"
   ]
  },
  {
   "cell_type": "code",
   "execution_count": 32,
   "metadata": {},
   "outputs": [
    {
     "name": "stdout",
     "output_type": "stream",
     "text": [
      "LASSO test set score: 0.81\n"
     ]
    }
   ],
   "source": [
    "lasso = Lasso(alpha=0.1, max_iter=100000).fit(X_train_scaled, y_train)\n",
    "print(\"LASSO test set score: {:.2f}\".format(lasso.score(X_test_scaled, y_test)))\n",
    "best_lasso = np.mean(cross_val_score(lasso, X_train_scaled, y_train, cv=rkf))"
   ]
  },
  {
   "cell_type": "markdown",
   "metadata": {},
   "source": [
    "## Do the results improve?"
   ]
  },
  {
   "cell_type": "code",
   "execution_count": 33,
   "metadata": {},
   "outputs": [
    {
     "name": "stdout",
     "output_type": "stream",
     "text": [
      "KNN\n",
      "Before Gridsearch: 0.72\n",
      "After Gridsearch: 0.78\n",
      "\n",
      "RIDGE\n",
      "Before Gridsearch: 0.78\n",
      "After Gridsearch: 0.78\n",
      "\n",
      "LASSO\n",
      "Before Gridsearch: 0.79\n",
      "After Gridsearch: 0.79\n"
     ]
    }
   ],
   "source": [
    "print(\"KNN\")\n",
    "print(\"Before Gridsearch: {:.2f}\".format(knn_scaled))\n",
    "print(\"After Gridsearch: {:.2f}\".format(best_knn))\n",
    "print(\"\")\n",
    "print(\"RIDGE\")\n",
    "print(\"Before Gridsearch: {:.2f}\".format(ridge_scaled))\n",
    "print(\"After Gridsearch: {:.2f}\".format(best_ridge))\n",
    "print(\"\")\n",
    "print(\"LASSO\")\n",
    "print(\"Before Gridsearch: {:.2f}\".format(lasso_scaled))\n",
    "print(\"After Gridsearch: {:.2f}\".format(best_lasso))"
   ]
  },
  {
   "cell_type": "markdown",
   "metadata": {},
   "source": [
    "**Answer:** Yes. Tuning the parameters slightly improved each model, but KNN showed the only improvement that's really worthy of note."
   ]
  },
  {
   "cell_type": "markdown",
   "metadata": {},
   "source": [
    "## 1.5 Compare the coefficients of your two best linear models (not knn), do they agree on which features are important?"
   ]
  },
  {
   "cell_type": "markdown",
   "metadata": {},
   "source": [
    "**Note:** My two best linear models are Ridge and LASSO."
   ]
  },
  {
   "cell_type": "code",
   "execution_count": 34,
   "metadata": {},
   "outputs": [
    {
     "data": {
      "text/html": [
       "<div>\n",
       "<style scoped>\n",
       "    .dataframe tbody tr th:only-of-type {\n",
       "        vertical-align: middle;\n",
       "    }\n",
       "\n",
       "    .dataframe tbody tr th {\n",
       "        vertical-align: top;\n",
       "    }\n",
       "\n",
       "    .dataframe thead th {\n",
       "        text-align: right;\n",
       "    }\n",
       "</style>\n",
       "<table border=\"1\" class=\"dataframe\">\n",
       "  <thead>\n",
       "    <tr style=\"text-align: right;\">\n",
       "      <th></th>\n",
       "      <th>LASSO</th>\n",
       "      <th>Ridge</th>\n",
       "    </tr>\n",
       "  </thead>\n",
       "  <tbody>\n",
       "    <tr>\n",
       "      <th>enrltot</th>\n",
       "      <td>-0.000000</td>\n",
       "      <td>0.777656</td>\n",
       "    </tr>\n",
       "    <tr>\n",
       "      <th>teachers</th>\n",
       "      <td>-0.000000</td>\n",
       "      <td>-1.706045</td>\n",
       "    </tr>\n",
       "    <tr>\n",
       "      <th>calwpct</th>\n",
       "      <td>-1.015310</td>\n",
       "      <td>-1.181975</td>\n",
       "    </tr>\n",
       "    <tr>\n",
       "      <th>mealpct</th>\n",
       "      <td>-9.931920</td>\n",
       "      <td>-9.763967</td>\n",
       "    </tr>\n",
       "    <tr>\n",
       "      <th>computer</th>\n",
       "      <td>0.000000</td>\n",
       "      <td>1.022309</td>\n",
       "    </tr>\n",
       "    <tr>\n",
       "      <th>compstu</th>\n",
       "      <td>0.019521</td>\n",
       "      <td>-0.093965</td>\n",
       "    </tr>\n",
       "    <tr>\n",
       "      <th>expnstu</th>\n",
       "      <td>1.074776</td>\n",
       "      <td>1.155323</td>\n",
       "    </tr>\n",
       "    <tr>\n",
       "      <th>str</th>\n",
       "      <td>-0.580477</td>\n",
       "      <td>-0.669615</td>\n",
       "    </tr>\n",
       "    <tr>\n",
       "      <th>avginc</th>\n",
       "      <td>3.697999</td>\n",
       "      <td>3.720510</td>\n",
       "    </tr>\n",
       "    <tr>\n",
       "      <th>elpct</th>\n",
       "      <td>-3.349810</td>\n",
       "      <td>-3.483024</td>\n",
       "    </tr>\n",
       "  </tbody>\n",
       "</table>\n",
       "</div>"
      ],
      "text/plain": [
       "             LASSO     Ridge\n",
       "enrltot  -0.000000  0.777656\n",
       "teachers -0.000000 -1.706045\n",
       "calwpct  -1.015310 -1.181975\n",
       "mealpct  -9.931920 -9.763967\n",
       "computer  0.000000  1.022309\n",
       "compstu   0.019521 -0.093965\n",
       "expnstu   1.074776  1.155323\n",
       "str      -0.580477 -0.669615\n",
       "avginc    3.697999  3.720510\n",
       "elpct    -3.349810 -3.483024"
      ]
     },
     "execution_count": 34,
     "metadata": {},
     "output_type": "execute_result"
    }
   ],
   "source": [
    "d = {'LASSO': lasso.coef_, 'Ridge': ridge.coef_} # Builds a dictionary with the coefficients from my LASSO & Ridge models\n",
    "coefficients = pd.DataFrame(data=d, index=X.columns) # Puts the dictionary into a dataframe along with variable names\n",
    "coefficients.head(10)"
   ]
  },
  {
   "cell_type": "markdown",
   "metadata": {},
   "source": [
    "**Answer:** LASSO restricts (or shrinks) the less influential features to zero (see evidence in the code below). In this case, my LASSO has converted features with coefficients approximately between 0.5 and -0.5 to zero. Still, LASSO and Ridge agree on which features are important. For example, both models agree that **'mealpct'** has a negative relationship with 'testscr', while **'expnstu'** and **'anginc'** have a positive relationship with 'testscr'."
   ]
  },
  {
   "cell_type": "code",
   "execution_count": 35,
   "metadata": {},
   "outputs": [
    {
     "name": "stdout",
     "output_type": "stream",
     "text": [
      "Number of features used with LASSO: 7\n",
      "Number of features used with Ridge: 10\n"
     ]
    }
   ],
   "source": [
    "print(\"Number of features used with LASSO: {}\".format(np.sum(lasso.coef_ != 0)))\n",
    "print(\"Number of features used with Ridge: {}\".format(np.sum(ridge.coef_ != 0)))"
   ]
  },
  {
   "cell_type": "markdown",
   "metadata": {},
   "source": [
    "## 1.6 Discuss which final model you would choose to predict new data"
   ]
  },
  {
   "cell_type": "markdown",
   "metadata": {},
   "source": [
    "**Answer:** While each model has its advantages, I recommend LASSO with alpha = 0.1 because I am interested in using this data to recommend which features are best predictors of student test scores. The LASSO model built here as an accuracy that is as good as the other models considered and it highlights features that have an important influence over student test scores. For both of these reasons (accuracy and feature selection), I recommend LASSO."
   ]
  },
  {
   "cell_type": "markdown",
   "metadata": {},
   "source": [
    "# Part 2: Classification on red and white wine characteristics"
   ]
  },
  {
   "cell_type": "markdown",
   "metadata": {},
   "source": [
    "First, import the red and the white wine csv files into separate pandas dataframes from the following website:\n",
    "\n",
    "https://archive.ics.uci.edu/ml/machine-learning-databases/wine-quality/Links to an external site.\n",
    "\n",
    "(Note: you need to adjust the argument for read_csv() from sep=',' to sep=';')"
   ]
  },
  {
   "cell_type": "code",
   "execution_count": 36,
   "metadata": {},
   "outputs": [
    {
     "data": {
      "text/html": [
       "<div>\n",
       "<style scoped>\n",
       "    .dataframe tbody tr th:only-of-type {\n",
       "        vertical-align: middle;\n",
       "    }\n",
       "\n",
       "    .dataframe tbody tr th {\n",
       "        vertical-align: top;\n",
       "    }\n",
       "\n",
       "    .dataframe thead th {\n",
       "        text-align: right;\n",
       "    }\n",
       "</style>\n",
       "<table border=\"1\" class=\"dataframe\">\n",
       "  <thead>\n",
       "    <tr style=\"text-align: right;\">\n",
       "      <th></th>\n",
       "      <th>fixed acidity</th>\n",
       "      <th>volatile acidity</th>\n",
       "      <th>citric acid</th>\n",
       "      <th>residual sugar</th>\n",
       "      <th>chlorides</th>\n",
       "      <th>free sulfur dioxide</th>\n",
       "      <th>total sulfur dioxide</th>\n",
       "      <th>density</th>\n",
       "      <th>pH</th>\n",
       "      <th>sulphates</th>\n",
       "      <th>alcohol</th>\n",
       "      <th>quality</th>\n",
       "    </tr>\n",
       "  </thead>\n",
       "  <tbody>\n",
       "    <tr>\n",
       "      <th>0</th>\n",
       "      <td>7.4</td>\n",
       "      <td>0.70</td>\n",
       "      <td>0.00</td>\n",
       "      <td>1.9</td>\n",
       "      <td>0.076</td>\n",
       "      <td>11.0</td>\n",
       "      <td>34.0</td>\n",
       "      <td>0.9978</td>\n",
       "      <td>3.51</td>\n",
       "      <td>0.56</td>\n",
       "      <td>9.4</td>\n",
       "      <td>5</td>\n",
       "    </tr>\n",
       "    <tr>\n",
       "      <th>1</th>\n",
       "      <td>7.8</td>\n",
       "      <td>0.88</td>\n",
       "      <td>0.00</td>\n",
       "      <td>2.6</td>\n",
       "      <td>0.098</td>\n",
       "      <td>25.0</td>\n",
       "      <td>67.0</td>\n",
       "      <td>0.9968</td>\n",
       "      <td>3.20</td>\n",
       "      <td>0.68</td>\n",
       "      <td>9.8</td>\n",
       "      <td>5</td>\n",
       "    </tr>\n",
       "    <tr>\n",
       "      <th>2</th>\n",
       "      <td>7.8</td>\n",
       "      <td>0.76</td>\n",
       "      <td>0.04</td>\n",
       "      <td>2.3</td>\n",
       "      <td>0.092</td>\n",
       "      <td>15.0</td>\n",
       "      <td>54.0</td>\n",
       "      <td>0.9970</td>\n",
       "      <td>3.26</td>\n",
       "      <td>0.65</td>\n",
       "      <td>9.8</td>\n",
       "      <td>5</td>\n",
       "    </tr>\n",
       "    <tr>\n",
       "      <th>3</th>\n",
       "      <td>11.2</td>\n",
       "      <td>0.28</td>\n",
       "      <td>0.56</td>\n",
       "      <td>1.9</td>\n",
       "      <td>0.075</td>\n",
       "      <td>17.0</td>\n",
       "      <td>60.0</td>\n",
       "      <td>0.9980</td>\n",
       "      <td>3.16</td>\n",
       "      <td>0.58</td>\n",
       "      <td>9.8</td>\n",
       "      <td>6</td>\n",
       "    </tr>\n",
       "    <tr>\n",
       "      <th>4</th>\n",
       "      <td>7.4</td>\n",
       "      <td>0.70</td>\n",
       "      <td>0.00</td>\n",
       "      <td>1.9</td>\n",
       "      <td>0.076</td>\n",
       "      <td>11.0</td>\n",
       "      <td>34.0</td>\n",
       "      <td>0.9978</td>\n",
       "      <td>3.51</td>\n",
       "      <td>0.56</td>\n",
       "      <td>9.4</td>\n",
       "      <td>5</td>\n",
       "    </tr>\n",
       "  </tbody>\n",
       "</table>\n",
       "</div>"
      ],
      "text/plain": [
       "   fixed acidity  volatile acidity  citric acid  residual sugar  chlorides  \\\n",
       "0            7.4              0.70         0.00             1.9      0.076   \n",
       "1            7.8              0.88         0.00             2.6      0.098   \n",
       "2            7.8              0.76         0.04             2.3      0.092   \n",
       "3           11.2              0.28         0.56             1.9      0.075   \n",
       "4            7.4              0.70         0.00             1.9      0.076   \n",
       "\n",
       "   free sulfur dioxide  total sulfur dioxide  density    pH  sulphates  \\\n",
       "0                 11.0                  34.0   0.9978  3.51       0.56   \n",
       "1                 25.0                  67.0   0.9968  3.20       0.68   \n",
       "2                 15.0                  54.0   0.9970  3.26       0.65   \n",
       "3                 17.0                  60.0   0.9980  3.16       0.58   \n",
       "4                 11.0                  34.0   0.9978  3.51       0.56   \n",
       "\n",
       "   alcohol  quality  \n",
       "0      9.4        5  \n",
       "1      9.8        5  \n",
       "2      9.8        5  \n",
       "3      9.8        6  \n",
       "4      9.4        5  "
      ]
     },
     "execution_count": 36,
     "metadata": {},
     "output_type": "execute_result"
    }
   ],
   "source": [
    "r = pd.read_csv(\"https://archive.ics.uci.edu/ml/machine-learning-databases/wine-quality/winequality-red.csv\", sep = ';')\n",
    "r.head()"
   ]
  },
  {
   "cell_type": "code",
   "execution_count": 37,
   "metadata": {},
   "outputs": [
    {
     "data": {
      "text/html": [
       "<div>\n",
       "<style scoped>\n",
       "    .dataframe tbody tr th:only-of-type {\n",
       "        vertical-align: middle;\n",
       "    }\n",
       "\n",
       "    .dataframe tbody tr th {\n",
       "        vertical-align: top;\n",
       "    }\n",
       "\n",
       "    .dataframe thead th {\n",
       "        text-align: right;\n",
       "    }\n",
       "</style>\n",
       "<table border=\"1\" class=\"dataframe\">\n",
       "  <thead>\n",
       "    <tr style=\"text-align: right;\">\n",
       "      <th></th>\n",
       "      <th>fixed acidity</th>\n",
       "      <th>volatile acidity</th>\n",
       "      <th>citric acid</th>\n",
       "      <th>residual sugar</th>\n",
       "      <th>chlorides</th>\n",
       "      <th>free sulfur dioxide</th>\n",
       "      <th>total sulfur dioxide</th>\n",
       "      <th>density</th>\n",
       "      <th>pH</th>\n",
       "      <th>sulphates</th>\n",
       "      <th>alcohol</th>\n",
       "      <th>quality</th>\n",
       "    </tr>\n",
       "  </thead>\n",
       "  <tbody>\n",
       "    <tr>\n",
       "      <th>0</th>\n",
       "      <td>7.0</td>\n",
       "      <td>0.27</td>\n",
       "      <td>0.36</td>\n",
       "      <td>20.7</td>\n",
       "      <td>0.045</td>\n",
       "      <td>45.0</td>\n",
       "      <td>170.0</td>\n",
       "      <td>1.0010</td>\n",
       "      <td>3.00</td>\n",
       "      <td>0.45</td>\n",
       "      <td>8.8</td>\n",
       "      <td>6</td>\n",
       "    </tr>\n",
       "    <tr>\n",
       "      <th>1</th>\n",
       "      <td>6.3</td>\n",
       "      <td>0.30</td>\n",
       "      <td>0.34</td>\n",
       "      <td>1.6</td>\n",
       "      <td>0.049</td>\n",
       "      <td>14.0</td>\n",
       "      <td>132.0</td>\n",
       "      <td>0.9940</td>\n",
       "      <td>3.30</td>\n",
       "      <td>0.49</td>\n",
       "      <td>9.5</td>\n",
       "      <td>6</td>\n",
       "    </tr>\n",
       "    <tr>\n",
       "      <th>2</th>\n",
       "      <td>8.1</td>\n",
       "      <td>0.28</td>\n",
       "      <td>0.40</td>\n",
       "      <td>6.9</td>\n",
       "      <td>0.050</td>\n",
       "      <td>30.0</td>\n",
       "      <td>97.0</td>\n",
       "      <td>0.9951</td>\n",
       "      <td>3.26</td>\n",
       "      <td>0.44</td>\n",
       "      <td>10.1</td>\n",
       "      <td>6</td>\n",
       "    </tr>\n",
       "    <tr>\n",
       "      <th>3</th>\n",
       "      <td>7.2</td>\n",
       "      <td>0.23</td>\n",
       "      <td>0.32</td>\n",
       "      <td>8.5</td>\n",
       "      <td>0.058</td>\n",
       "      <td>47.0</td>\n",
       "      <td>186.0</td>\n",
       "      <td>0.9956</td>\n",
       "      <td>3.19</td>\n",
       "      <td>0.40</td>\n",
       "      <td>9.9</td>\n",
       "      <td>6</td>\n",
       "    </tr>\n",
       "    <tr>\n",
       "      <th>4</th>\n",
       "      <td>7.2</td>\n",
       "      <td>0.23</td>\n",
       "      <td>0.32</td>\n",
       "      <td>8.5</td>\n",
       "      <td>0.058</td>\n",
       "      <td>47.0</td>\n",
       "      <td>186.0</td>\n",
       "      <td>0.9956</td>\n",
       "      <td>3.19</td>\n",
       "      <td>0.40</td>\n",
       "      <td>9.9</td>\n",
       "      <td>6</td>\n",
       "    </tr>\n",
       "  </tbody>\n",
       "</table>\n",
       "</div>"
      ],
      "text/plain": [
       "   fixed acidity  volatile acidity  citric acid  residual sugar  chlorides  \\\n",
       "0            7.0              0.27         0.36            20.7      0.045   \n",
       "1            6.3              0.30         0.34             1.6      0.049   \n",
       "2            8.1              0.28         0.40             6.9      0.050   \n",
       "3            7.2              0.23         0.32             8.5      0.058   \n",
       "4            7.2              0.23         0.32             8.5      0.058   \n",
       "\n",
       "   free sulfur dioxide  total sulfur dioxide  density    pH  sulphates  \\\n",
       "0                 45.0                 170.0   1.0010  3.00       0.45   \n",
       "1                 14.0                 132.0   0.9940  3.30       0.49   \n",
       "2                 30.0                  97.0   0.9951  3.26       0.44   \n",
       "3                 47.0                 186.0   0.9956  3.19       0.40   \n",
       "4                 47.0                 186.0   0.9956  3.19       0.40   \n",
       "\n",
       "   alcohol  quality  \n",
       "0      8.8        6  \n",
       "1      9.5        6  \n",
       "2     10.1        6  \n",
       "3      9.9        6  \n",
       "4      9.9        6  "
      ]
     },
     "execution_count": 37,
     "metadata": {},
     "output_type": "execute_result"
    }
   ],
   "source": [
    "w = pd.read_csv(\"https://archive.ics.uci.edu/ml/machine-learning-databases/wine-quality/winequality-white.csv\", sep = ';')\n",
    "w.head()"
   ]
  },
  {
   "cell_type": "markdown",
   "metadata": {},
   "source": [
    "Add a new column to each data frame called \"winetype\".  For the white wine dataset label the values in this column with a 0, indicating white wine.  For the red wine dataset, label values with a 1, indicating red wine."
   ]
  },
  {
   "cell_type": "code",
   "execution_count": 38,
   "metadata": {},
   "outputs": [
    {
     "data": {
      "text/html": [
       "<div>\n",
       "<style scoped>\n",
       "    .dataframe tbody tr th:only-of-type {\n",
       "        vertical-align: middle;\n",
       "    }\n",
       "\n",
       "    .dataframe tbody tr th {\n",
       "        vertical-align: top;\n",
       "    }\n",
       "\n",
       "    .dataframe thead th {\n",
       "        text-align: right;\n",
       "    }\n",
       "</style>\n",
       "<table border=\"1\" class=\"dataframe\">\n",
       "  <thead>\n",
       "    <tr style=\"text-align: right;\">\n",
       "      <th></th>\n",
       "      <th>fixed acidity</th>\n",
       "      <th>volatile acidity</th>\n",
       "      <th>citric acid</th>\n",
       "      <th>residual sugar</th>\n",
       "      <th>chlorides</th>\n",
       "      <th>free sulfur dioxide</th>\n",
       "      <th>total sulfur dioxide</th>\n",
       "      <th>density</th>\n",
       "      <th>pH</th>\n",
       "      <th>sulphates</th>\n",
       "      <th>alcohol</th>\n",
       "      <th>quality</th>\n",
       "      <th>winetype</th>\n",
       "    </tr>\n",
       "  </thead>\n",
       "  <tbody>\n",
       "    <tr>\n",
       "      <th>0</th>\n",
       "      <td>7.4</td>\n",
       "      <td>0.70</td>\n",
       "      <td>0.00</td>\n",
       "      <td>1.9</td>\n",
       "      <td>0.076</td>\n",
       "      <td>11.0</td>\n",
       "      <td>34.0</td>\n",
       "      <td>0.9978</td>\n",
       "      <td>3.51</td>\n",
       "      <td>0.56</td>\n",
       "      <td>9.4</td>\n",
       "      <td>5</td>\n",
       "      <td>1</td>\n",
       "    </tr>\n",
       "    <tr>\n",
       "      <th>1</th>\n",
       "      <td>7.8</td>\n",
       "      <td>0.88</td>\n",
       "      <td>0.00</td>\n",
       "      <td>2.6</td>\n",
       "      <td>0.098</td>\n",
       "      <td>25.0</td>\n",
       "      <td>67.0</td>\n",
       "      <td>0.9968</td>\n",
       "      <td>3.20</td>\n",
       "      <td>0.68</td>\n",
       "      <td>9.8</td>\n",
       "      <td>5</td>\n",
       "      <td>1</td>\n",
       "    </tr>\n",
       "    <tr>\n",
       "      <th>2</th>\n",
       "      <td>7.8</td>\n",
       "      <td>0.76</td>\n",
       "      <td>0.04</td>\n",
       "      <td>2.3</td>\n",
       "      <td>0.092</td>\n",
       "      <td>15.0</td>\n",
       "      <td>54.0</td>\n",
       "      <td>0.9970</td>\n",
       "      <td>3.26</td>\n",
       "      <td>0.65</td>\n",
       "      <td>9.8</td>\n",
       "      <td>5</td>\n",
       "      <td>1</td>\n",
       "    </tr>\n",
       "    <tr>\n",
       "      <th>3</th>\n",
       "      <td>11.2</td>\n",
       "      <td>0.28</td>\n",
       "      <td>0.56</td>\n",
       "      <td>1.9</td>\n",
       "      <td>0.075</td>\n",
       "      <td>17.0</td>\n",
       "      <td>60.0</td>\n",
       "      <td>0.9980</td>\n",
       "      <td>3.16</td>\n",
       "      <td>0.58</td>\n",
       "      <td>9.8</td>\n",
       "      <td>6</td>\n",
       "      <td>1</td>\n",
       "    </tr>\n",
       "    <tr>\n",
       "      <th>4</th>\n",
       "      <td>7.4</td>\n",
       "      <td>0.70</td>\n",
       "      <td>0.00</td>\n",
       "      <td>1.9</td>\n",
       "      <td>0.076</td>\n",
       "      <td>11.0</td>\n",
       "      <td>34.0</td>\n",
       "      <td>0.9978</td>\n",
       "      <td>3.51</td>\n",
       "      <td>0.56</td>\n",
       "      <td>9.4</td>\n",
       "      <td>5</td>\n",
       "      <td>1</td>\n",
       "    </tr>\n",
       "  </tbody>\n",
       "</table>\n",
       "</div>"
      ],
      "text/plain": [
       "   fixed acidity  volatile acidity  citric acid  residual sugar  chlorides  \\\n",
       "0            7.4              0.70         0.00             1.9      0.076   \n",
       "1            7.8              0.88         0.00             2.6      0.098   \n",
       "2            7.8              0.76         0.04             2.3      0.092   \n",
       "3           11.2              0.28         0.56             1.9      0.075   \n",
       "4            7.4              0.70         0.00             1.9      0.076   \n",
       "\n",
       "   free sulfur dioxide  total sulfur dioxide  density    pH  sulphates  \\\n",
       "0                 11.0                  34.0   0.9978  3.51       0.56   \n",
       "1                 25.0                  67.0   0.9968  3.20       0.68   \n",
       "2                 15.0                  54.0   0.9970  3.26       0.65   \n",
       "3                 17.0                  60.0   0.9980  3.16       0.58   \n",
       "4                 11.0                  34.0   0.9978  3.51       0.56   \n",
       "\n",
       "   alcohol  quality  winetype  \n",
       "0      9.4        5         1  \n",
       "1      9.8        5         1  \n",
       "2      9.8        5         1  \n",
       "3      9.8        6         1  \n",
       "4      9.4        5         1  "
      ]
     },
     "execution_count": 38,
     "metadata": {},
     "output_type": "execute_result"
    }
   ],
   "source": [
    "red = r.assign(winetype=1)\n",
    "red.head()"
   ]
  },
  {
   "cell_type": "code",
   "execution_count": 39,
   "metadata": {},
   "outputs": [
    {
     "data": {
      "text/html": [
       "<div>\n",
       "<style scoped>\n",
       "    .dataframe tbody tr th:only-of-type {\n",
       "        vertical-align: middle;\n",
       "    }\n",
       "\n",
       "    .dataframe tbody tr th {\n",
       "        vertical-align: top;\n",
       "    }\n",
       "\n",
       "    .dataframe thead th {\n",
       "        text-align: right;\n",
       "    }\n",
       "</style>\n",
       "<table border=\"1\" class=\"dataframe\">\n",
       "  <thead>\n",
       "    <tr style=\"text-align: right;\">\n",
       "      <th></th>\n",
       "      <th>fixed acidity</th>\n",
       "      <th>volatile acidity</th>\n",
       "      <th>citric acid</th>\n",
       "      <th>residual sugar</th>\n",
       "      <th>chlorides</th>\n",
       "      <th>free sulfur dioxide</th>\n",
       "      <th>total sulfur dioxide</th>\n",
       "      <th>density</th>\n",
       "      <th>pH</th>\n",
       "      <th>sulphates</th>\n",
       "      <th>alcohol</th>\n",
       "      <th>quality</th>\n",
       "      <th>winetype</th>\n",
       "    </tr>\n",
       "  </thead>\n",
       "  <tbody>\n",
       "    <tr>\n",
       "      <th>0</th>\n",
       "      <td>7.0</td>\n",
       "      <td>0.27</td>\n",
       "      <td>0.36</td>\n",
       "      <td>20.7</td>\n",
       "      <td>0.045</td>\n",
       "      <td>45.0</td>\n",
       "      <td>170.0</td>\n",
       "      <td>1.0010</td>\n",
       "      <td>3.00</td>\n",
       "      <td>0.45</td>\n",
       "      <td>8.8</td>\n",
       "      <td>6</td>\n",
       "      <td>0</td>\n",
       "    </tr>\n",
       "    <tr>\n",
       "      <th>1</th>\n",
       "      <td>6.3</td>\n",
       "      <td>0.30</td>\n",
       "      <td>0.34</td>\n",
       "      <td>1.6</td>\n",
       "      <td>0.049</td>\n",
       "      <td>14.0</td>\n",
       "      <td>132.0</td>\n",
       "      <td>0.9940</td>\n",
       "      <td>3.30</td>\n",
       "      <td>0.49</td>\n",
       "      <td>9.5</td>\n",
       "      <td>6</td>\n",
       "      <td>0</td>\n",
       "    </tr>\n",
       "    <tr>\n",
       "      <th>2</th>\n",
       "      <td>8.1</td>\n",
       "      <td>0.28</td>\n",
       "      <td>0.40</td>\n",
       "      <td>6.9</td>\n",
       "      <td>0.050</td>\n",
       "      <td>30.0</td>\n",
       "      <td>97.0</td>\n",
       "      <td>0.9951</td>\n",
       "      <td>3.26</td>\n",
       "      <td>0.44</td>\n",
       "      <td>10.1</td>\n",
       "      <td>6</td>\n",
       "      <td>0</td>\n",
       "    </tr>\n",
       "    <tr>\n",
       "      <th>3</th>\n",
       "      <td>7.2</td>\n",
       "      <td>0.23</td>\n",
       "      <td>0.32</td>\n",
       "      <td>8.5</td>\n",
       "      <td>0.058</td>\n",
       "      <td>47.0</td>\n",
       "      <td>186.0</td>\n",
       "      <td>0.9956</td>\n",
       "      <td>3.19</td>\n",
       "      <td>0.40</td>\n",
       "      <td>9.9</td>\n",
       "      <td>6</td>\n",
       "      <td>0</td>\n",
       "    </tr>\n",
       "    <tr>\n",
       "      <th>4</th>\n",
       "      <td>7.2</td>\n",
       "      <td>0.23</td>\n",
       "      <td>0.32</td>\n",
       "      <td>8.5</td>\n",
       "      <td>0.058</td>\n",
       "      <td>47.0</td>\n",
       "      <td>186.0</td>\n",
       "      <td>0.9956</td>\n",
       "      <td>3.19</td>\n",
       "      <td>0.40</td>\n",
       "      <td>9.9</td>\n",
       "      <td>6</td>\n",
       "      <td>0</td>\n",
       "    </tr>\n",
       "  </tbody>\n",
       "</table>\n",
       "</div>"
      ],
      "text/plain": [
       "   fixed acidity  volatile acidity  citric acid  residual sugar  chlorides  \\\n",
       "0            7.0              0.27         0.36            20.7      0.045   \n",
       "1            6.3              0.30         0.34             1.6      0.049   \n",
       "2            8.1              0.28         0.40             6.9      0.050   \n",
       "3            7.2              0.23         0.32             8.5      0.058   \n",
       "4            7.2              0.23         0.32             8.5      0.058   \n",
       "\n",
       "   free sulfur dioxide  total sulfur dioxide  density    pH  sulphates  \\\n",
       "0                 45.0                 170.0   1.0010  3.00       0.45   \n",
       "1                 14.0                 132.0   0.9940  3.30       0.49   \n",
       "2                 30.0                  97.0   0.9951  3.26       0.44   \n",
       "3                 47.0                 186.0   0.9956  3.19       0.40   \n",
       "4                 47.0                 186.0   0.9956  3.19       0.40   \n",
       "\n",
       "   alcohol  quality  winetype  \n",
       "0      8.8        6         0  \n",
       "1      9.5        6         0  \n",
       "2     10.1        6         0  \n",
       "3      9.9        6         0  \n",
       "4      9.9        6         0  "
      ]
     },
     "execution_count": 39,
     "metadata": {},
     "output_type": "execute_result"
    }
   ],
   "source": [
    "white = w.assign(winetype=0)\n",
    "white.head()"
   ]
  },
  {
   "cell_type": "markdown",
   "metadata": {},
   "source": [
    "Combine both datasets into a single dataframe.\n",
    "The target data (i.e. the dependent variable) is \"winetype\"."
   ]
  },
  {
   "cell_type": "code",
   "execution_count": 40,
   "metadata": {},
   "outputs": [
    {
     "data": {
      "text/html": [
       "<div>\n",
       "<style scoped>\n",
       "    .dataframe tbody tr th:only-of-type {\n",
       "        vertical-align: middle;\n",
       "    }\n",
       "\n",
       "    .dataframe tbody tr th {\n",
       "        vertical-align: top;\n",
       "    }\n",
       "\n",
       "    .dataframe thead th {\n",
       "        text-align: right;\n",
       "    }\n",
       "</style>\n",
       "<table border=\"1\" class=\"dataframe\">\n",
       "  <thead>\n",
       "    <tr style=\"text-align: right;\">\n",
       "      <th></th>\n",
       "      <th>fixed acidity</th>\n",
       "      <th>volatile acidity</th>\n",
       "      <th>citric acid</th>\n",
       "      <th>residual sugar</th>\n",
       "      <th>chlorides</th>\n",
       "      <th>free sulfur dioxide</th>\n",
       "      <th>total sulfur dioxide</th>\n",
       "      <th>density</th>\n",
       "      <th>pH</th>\n",
       "      <th>sulphates</th>\n",
       "      <th>alcohol</th>\n",
       "      <th>quality</th>\n",
       "      <th>winetype</th>\n",
       "    </tr>\n",
       "  </thead>\n",
       "  <tbody>\n",
       "    <tr>\n",
       "      <th>0</th>\n",
       "      <td>7.0</td>\n",
       "      <td>0.27</td>\n",
       "      <td>0.36</td>\n",
       "      <td>20.7</td>\n",
       "      <td>0.045</td>\n",
       "      <td>45.0</td>\n",
       "      <td>170.0</td>\n",
       "      <td>1.0010</td>\n",
       "      <td>3.00</td>\n",
       "      <td>0.45</td>\n",
       "      <td>8.8</td>\n",
       "      <td>6</td>\n",
       "      <td>0</td>\n",
       "    </tr>\n",
       "    <tr>\n",
       "      <th>1</th>\n",
       "      <td>6.3</td>\n",
       "      <td>0.30</td>\n",
       "      <td>0.34</td>\n",
       "      <td>1.6</td>\n",
       "      <td>0.049</td>\n",
       "      <td>14.0</td>\n",
       "      <td>132.0</td>\n",
       "      <td>0.9940</td>\n",
       "      <td>3.30</td>\n",
       "      <td>0.49</td>\n",
       "      <td>9.5</td>\n",
       "      <td>6</td>\n",
       "      <td>0</td>\n",
       "    </tr>\n",
       "    <tr>\n",
       "      <th>2</th>\n",
       "      <td>8.1</td>\n",
       "      <td>0.28</td>\n",
       "      <td>0.40</td>\n",
       "      <td>6.9</td>\n",
       "      <td>0.050</td>\n",
       "      <td>30.0</td>\n",
       "      <td>97.0</td>\n",
       "      <td>0.9951</td>\n",
       "      <td>3.26</td>\n",
       "      <td>0.44</td>\n",
       "      <td>10.1</td>\n",
       "      <td>6</td>\n",
       "      <td>0</td>\n",
       "    </tr>\n",
       "    <tr>\n",
       "      <th>3</th>\n",
       "      <td>7.2</td>\n",
       "      <td>0.23</td>\n",
       "      <td>0.32</td>\n",
       "      <td>8.5</td>\n",
       "      <td>0.058</td>\n",
       "      <td>47.0</td>\n",
       "      <td>186.0</td>\n",
       "      <td>0.9956</td>\n",
       "      <td>3.19</td>\n",
       "      <td>0.40</td>\n",
       "      <td>9.9</td>\n",
       "      <td>6</td>\n",
       "      <td>0</td>\n",
       "    </tr>\n",
       "    <tr>\n",
       "      <th>4</th>\n",
       "      <td>7.2</td>\n",
       "      <td>0.23</td>\n",
       "      <td>0.32</td>\n",
       "      <td>8.5</td>\n",
       "      <td>0.058</td>\n",
       "      <td>47.0</td>\n",
       "      <td>186.0</td>\n",
       "      <td>0.9956</td>\n",
       "      <td>3.19</td>\n",
       "      <td>0.40</td>\n",
       "      <td>9.9</td>\n",
       "      <td>6</td>\n",
       "      <td>0</td>\n",
       "    </tr>\n",
       "  </tbody>\n",
       "</table>\n",
       "</div>"
      ],
      "text/plain": [
       "   fixed acidity  volatile acidity  citric acid  residual sugar  chlorides  \\\n",
       "0            7.0              0.27         0.36            20.7      0.045   \n",
       "1            6.3              0.30         0.34             1.6      0.049   \n",
       "2            8.1              0.28         0.40             6.9      0.050   \n",
       "3            7.2              0.23         0.32             8.5      0.058   \n",
       "4            7.2              0.23         0.32             8.5      0.058   \n",
       "\n",
       "   free sulfur dioxide  total sulfur dioxide  density    pH  sulphates  \\\n",
       "0                 45.0                 170.0   1.0010  3.00       0.45   \n",
       "1                 14.0                 132.0   0.9940  3.30       0.49   \n",
       "2                 30.0                  97.0   0.9951  3.26       0.44   \n",
       "3                 47.0                 186.0   0.9956  3.19       0.40   \n",
       "4                 47.0                 186.0   0.9956  3.19       0.40   \n",
       "\n",
       "   alcohol  quality  winetype  \n",
       "0      8.8        6         0  \n",
       "1      9.5        6         0  \n",
       "2     10.1        6         0  \n",
       "3      9.9        6         0  \n",
       "4      9.9        6         0  "
      ]
     },
     "execution_count": 40,
     "metadata": {},
     "output_type": "execute_result"
    }
   ],
   "source": [
    "mix = [white, red]\n",
    "wines = pd.concat(mix)\n",
    "wines.head()"
   ]
  },
  {
   "cell_type": "markdown",
   "metadata": {},
   "source": [
    "## 2.1 Visualize the univariate distribution of the target feature and each of the three explanatory variables that you think are likely to have a relationship with the target feature.   "
   ]
  },
  {
   "cell_type": "code",
   "execution_count": 41,
   "metadata": {},
   "outputs": [
    {
     "data": {
      "text/plain": [
       "<matplotlib.axes._subplots.AxesSubplot at 0x1a199cf0f0>"
      ]
     },
     "execution_count": 41,
     "metadata": {},
     "output_type": "execute_result"
    },
    {
     "data": {
      "image/png": "[encoded data removed]",
      "text/plain": [
       "<Figure size 432x288 with 1 Axes>"
      ]
     },
     "metadata": {
      "needs_background": "light"
     },
     "output_type": "display_data"
    }
   ],
   "source": [
    "import matplotlib.pyplot as plt\n",
    "\n",
    "sns.boxplot(x='winetype', y='fixed acidity', data=wines)"
   ]
  },
  {
   "cell_type": "code",
   "execution_count": 42,
   "metadata": {},
   "outputs": [
    {
     "data": {
      "text/plain": [
       "<matplotlib.axes._subplots.AxesSubplot at 0x1a19a3a5c0>"
      ]
     },
     "execution_count": 42,
     "metadata": {},
     "output_type": "execute_result"
    },
    {
     "data": {
      "image/png": "[encoded data removed]",
      "text/plain": [
       "<Figure size 432x288 with 1 Axes>"
      ]
     },
     "metadata": {
      "needs_background": "light"
     },
     "output_type": "display_data"
    }
   ],
   "source": [
    "sns.boxplot(x='winetype', y='citric acid', data=wines)"
   ]
  },
  {
   "cell_type": "code",
   "execution_count": 43,
   "metadata": {},
   "outputs": [
    {
     "data": {
      "text/plain": [
       "<matplotlib.axes._subplots.AxesSubplot at 0x1a1a0ba518>"
      ]
     },
     "execution_count": 43,
     "metadata": {},
     "output_type": "execute_result"
    },
    {
     "data": {
      "image/png": "[encoded data removed]",
      "text/plain": [
       "<Figure size 432x288 with 1 Axes>"
      ]
     },
     "metadata": {
      "needs_background": "light"
     },
     "output_type": "display_data"
    }
   ],
   "source": [
    "sns.boxplot(x='winetype', y='total sulfur dioxide', data=wines)"
   ]
  },
  {
   "cell_type": "markdown",
   "metadata": {},
   "source": [
    "## 2.2a Split data into training and test set."
   ]
  },
  {
   "cell_type": "code",
   "execution_count": 44,
   "metadata": {},
   "outputs": [
    {
     "data": {
      "text/html": [
       "<div>\n",
       "<style scoped>\n",
       "    .dataframe tbody tr th:only-of-type {\n",
       "        vertical-align: middle;\n",
       "    }\n",
       "\n",
       "    .dataframe tbody tr th {\n",
       "        vertical-align: top;\n",
       "    }\n",
       "\n",
       "    .dataframe thead th {\n",
       "        text-align: right;\n",
       "    }\n",
       "</style>\n",
       "<table border=\"1\" class=\"dataframe\">\n",
       "  <thead>\n",
       "    <tr style=\"text-align: right;\">\n",
       "      <th></th>\n",
       "      <th>fixed acidity</th>\n",
       "      <th>volatile acidity</th>\n",
       "      <th>citric acid</th>\n",
       "      <th>residual sugar</th>\n",
       "      <th>chlorides</th>\n",
       "      <th>free sulfur dioxide</th>\n",
       "      <th>total sulfur dioxide</th>\n",
       "      <th>density</th>\n",
       "      <th>pH</th>\n",
       "      <th>sulphates</th>\n",
       "      <th>alcohol</th>\n",
       "    </tr>\n",
       "  </thead>\n",
       "  <tbody>\n",
       "    <tr>\n",
       "      <th>0</th>\n",
       "      <td>7.0</td>\n",
       "      <td>0.27</td>\n",
       "      <td>0.36</td>\n",
       "      <td>20.7</td>\n",
       "      <td>0.045</td>\n",
       "      <td>45.0</td>\n",
       "      <td>170.0</td>\n",
       "      <td>1.0010</td>\n",
       "      <td>3.00</td>\n",
       "      <td>0.45</td>\n",
       "      <td>8.8</td>\n",
       "    </tr>\n",
       "    <tr>\n",
       "      <th>1</th>\n",
       "      <td>6.3</td>\n",
       "      <td>0.30</td>\n",
       "      <td>0.34</td>\n",
       "      <td>1.6</td>\n",
       "      <td>0.049</td>\n",
       "      <td>14.0</td>\n",
       "      <td>132.0</td>\n",
       "      <td>0.9940</td>\n",
       "      <td>3.30</td>\n",
       "      <td>0.49</td>\n",
       "      <td>9.5</td>\n",
       "    </tr>\n",
       "    <tr>\n",
       "      <th>2</th>\n",
       "      <td>8.1</td>\n",
       "      <td>0.28</td>\n",
       "      <td>0.40</td>\n",
       "      <td>6.9</td>\n",
       "      <td>0.050</td>\n",
       "      <td>30.0</td>\n",
       "      <td>97.0</td>\n",
       "      <td>0.9951</td>\n",
       "      <td>3.26</td>\n",
       "      <td>0.44</td>\n",
       "      <td>10.1</td>\n",
       "    </tr>\n",
       "    <tr>\n",
       "      <th>3</th>\n",
       "      <td>7.2</td>\n",
       "      <td>0.23</td>\n",
       "      <td>0.32</td>\n",
       "      <td>8.5</td>\n",
       "      <td>0.058</td>\n",
       "      <td>47.0</td>\n",
       "      <td>186.0</td>\n",
       "      <td>0.9956</td>\n",
       "      <td>3.19</td>\n",
       "      <td>0.40</td>\n",
       "      <td>9.9</td>\n",
       "    </tr>\n",
       "    <tr>\n",
       "      <th>4</th>\n",
       "      <td>7.2</td>\n",
       "      <td>0.23</td>\n",
       "      <td>0.32</td>\n",
       "      <td>8.5</td>\n",
       "      <td>0.058</td>\n",
       "      <td>47.0</td>\n",
       "      <td>186.0</td>\n",
       "      <td>0.9956</td>\n",
       "      <td>3.19</td>\n",
       "      <td>0.40</td>\n",
       "      <td>9.9</td>\n",
       "    </tr>\n",
       "  </tbody>\n",
       "</table>\n",
       "</div>"
      ],
      "text/plain": [
       "   fixed acidity  volatile acidity  citric acid  residual sugar  chlorides  \\\n",
       "0            7.0              0.27         0.36            20.7      0.045   \n",
       "1            6.3              0.30         0.34             1.6      0.049   \n",
       "2            8.1              0.28         0.40             6.9      0.050   \n",
       "3            7.2              0.23         0.32             8.5      0.058   \n",
       "4            7.2              0.23         0.32             8.5      0.058   \n",
       "\n",
       "   free sulfur dioxide  total sulfur dioxide  density    pH  sulphates  \\\n",
       "0                 45.0                 170.0   1.0010  3.00       0.45   \n",
       "1                 14.0                 132.0   0.9940  3.30       0.49   \n",
       "2                 30.0                  97.0   0.9951  3.26       0.44   \n",
       "3                 47.0                 186.0   0.9956  3.19       0.40   \n",
       "4                 47.0                 186.0   0.9956  3.19       0.40   \n",
       "\n",
       "   alcohol  \n",
       "0      8.8  \n",
       "1      9.5  \n",
       "2     10.1  \n",
       "3      9.9  \n",
       "4      9.9  "
      ]
     },
     "execution_count": 44,
     "metadata": {},
     "output_type": "execute_result"
    }
   ],
   "source": [
    "y = wines['winetype']\n",
    "X = wines.loc[:, data.columns != 'winetype']\n",
    "\n",
    "X_train, X_test, y_train, y_test = train_test_split(X, y, random_state=42) \n",
    "\n",
    "X.head()"
   ]
  },
  {
   "cell_type": "markdown",
   "metadata": {},
   "source": [
    "## 2.2b Build models that evaluate the relationship between all available X variables in the dataset and the target variable."
   ]
  },
  {
   "cell_type": "markdown",
   "metadata": {},
   "source": [
    "### Logistic Regression using cross-validation"
   ]
  },
  {
   "cell_type": "code",
   "execution_count": 45,
   "metadata": {},
   "outputs": [
    {
     "name": "stdout",
     "output_type": "stream",
     "text": [
      "LOGISTIC REGRESSION (UNSCALED DATA)\n",
      "Training set score: 0.98\n",
      "Test set score: 0.98\n",
      "Mean Cross Validation, KFold: 0.98\n"
     ]
    },
    {
     "data": {
      "text/html": [
       "<div>\n",
       "<style scoped>\n",
       "    .dataframe tbody tr th:only-of-type {\n",
       "        vertical-align: middle;\n",
       "    }\n",
       "\n",
       "    .dataframe tbody tr th {\n",
       "        vertical-align: top;\n",
       "    }\n",
       "\n",
       "    .dataframe thead th {\n",
       "        text-align: right;\n",
       "    }\n",
       "</style>\n",
       "<table border=\"1\" class=\"dataframe\">\n",
       "  <thead>\n",
       "    <tr style=\"text-align: right;\">\n",
       "      <th></th>\n",
       "      <th>fixed acidity</th>\n",
       "      <th>volatile acidity</th>\n",
       "      <th>citric acid</th>\n",
       "      <th>residual sugar</th>\n",
       "      <th>chlorides</th>\n",
       "      <th>free sulfur dioxide</th>\n",
       "      <th>total sulfur dioxide</th>\n",
       "      <th>density</th>\n",
       "      <th>pH</th>\n",
       "      <th>sulphates</th>\n",
       "      <th>alcohol</th>\n",
       "    </tr>\n",
       "  </thead>\n",
       "  <tbody>\n",
       "    <tr>\n",
       "      <th>Logistic Regression Coefficients</th>\n",
       "      <td>0.685901</td>\n",
       "      <td>8.223287</td>\n",
       "      <td>-0.971672</td>\n",
       "      <td>-0.149442</td>\n",
       "      <td>2.396549</td>\n",
       "      <td>0.048679</td>\n",
       "      <td>-0.063681</td>\n",
       "      <td>-3.126979</td>\n",
       "      <td>2.304279</td>\n",
       "      <td>6.044744</td>\n",
       "      <td>-0.790924</td>\n",
       "    </tr>\n",
       "  </tbody>\n",
       "</table>\n",
       "</div>"
      ],
      "text/plain": [
       "                                  fixed acidity  volatile acidity  \\\n",
       "Logistic Regression Coefficients       0.685901          8.223287   \n",
       "\n",
       "                                  citric acid  residual sugar  chlorides  \\\n",
       "Logistic Regression Coefficients    -0.971672       -0.149442   2.396549   \n",
       "\n",
       "                                  free sulfur dioxide  total sulfur dioxide  \\\n",
       "Logistic Regression Coefficients             0.048679             -0.063681   \n",
       "\n",
       "                                   density        pH  sulphates   alcohol  \n",
       "Logistic Regression Coefficients -3.126979  2.304279   6.044744 -0.790924  "
      ]
     },
     "execution_count": 45,
     "metadata": {},
     "output_type": "execute_result"
    }
   ],
   "source": [
    "import warnings\n",
    "warnings.filterwarnings(\"ignore\", category=FutureWarning) # I did this to remove all the warnings :)\n",
    "from sklearn.linear_model import LogisticRegression\n",
    "\n",
    "logreg = LogisticRegression().fit(X_train, y_train)\n",
    "\n",
    "print(\"LOGISTIC REGRESSION (UNSCALED DATA)\")\n",
    "print(\"Training set score: {:.2f}\".format(logreg.score(X_train, y_train)))\n",
    "print(\"Test set score: {:.2f}\".format(logreg.score(X_test, y_test))) \n",
    "\n",
    "# Kfold Cross Validation\n",
    "print(\"Mean Cross Validation, KFold: {:.2f}\".format(np.mean(cross_val_score(logreg, X_train, y_train, cv=kfold))))\n",
    "\n",
    "# Wine type prediction from test set (I'll use this later)\n",
    "logreg_predicted_vals = logreg.predict(X_test)\n",
    "\n",
    "# Organize the model coefficients\n",
    "logreg_coef = pd.DataFrame(data=logreg.coef_, columns=X.columns, index=['Logistic Regression Coefficients'])\n",
    "logreg_coef.head()"
   ]
  },
  {
   "cell_type": "markdown",
   "metadata": {},
   "source": [
    "### Penalized Logistic Regression using cross-validation"
   ]
  },
  {
   "cell_type": "code",
   "execution_count": 46,
   "metadata": {},
   "outputs": [
    {
     "name": "stdout",
     "output_type": "stream",
     "text": [
      "PENALIZED LOGISTIC REGRESSION (UNSCALED DATA)\n",
      "Training set score: 0.99\n",
      "Test set score: 0.98\n",
      "Mean Cross Validation, KFold: 0.99\n"
     ]
    },
    {
     "data": {
      "text/html": [
       "<div>\n",
       "<style scoped>\n",
       "    .dataframe tbody tr th:only-of-type {\n",
       "        vertical-align: middle;\n",
       "    }\n",
       "\n",
       "    .dataframe tbody tr th {\n",
       "        vertical-align: top;\n",
       "    }\n",
       "\n",
       "    .dataframe thead th {\n",
       "        text-align: right;\n",
       "    }\n",
       "</style>\n",
       "<table border=\"1\" class=\"dataframe\">\n",
       "  <thead>\n",
       "    <tr style=\"text-align: right;\">\n",
       "      <th></th>\n",
       "      <th>fixed acidity</th>\n",
       "      <th>volatile acidity</th>\n",
       "      <th>citric acid</th>\n",
       "      <th>residual sugar</th>\n",
       "      <th>chlorides</th>\n",
       "      <th>free sulfur dioxide</th>\n",
       "      <th>total sulfur dioxide</th>\n",
       "      <th>density</th>\n",
       "      <th>pH</th>\n",
       "      <th>sulphates</th>\n",
       "      <th>alcohol</th>\n",
       "    </tr>\n",
       "  </thead>\n",
       "  <tbody>\n",
       "    <tr>\n",
       "      <th>Logistic Regression Coefficients</th>\n",
       "      <td>0.685901</td>\n",
       "      <td>8.223287</td>\n",
       "      <td>-0.971672</td>\n",
       "      <td>-0.149442</td>\n",
       "      <td>2.396549</td>\n",
       "      <td>0.048679</td>\n",
       "      <td>-0.063681</td>\n",
       "      <td>-3.126979</td>\n",
       "      <td>2.304279</td>\n",
       "      <td>6.044744</td>\n",
       "      <td>-0.790924</td>\n",
       "    </tr>\n",
       "    <tr>\n",
       "      <th>Penalized Logistic Regression Coefficients</th>\n",
       "      <td>0.916169</td>\n",
       "      <td>11.539000</td>\n",
       "      <td>0.000000</td>\n",
       "      <td>-0.125501</td>\n",
       "      <td>15.207507</td>\n",
       "      <td>0.058481</td>\n",
       "      <td>-0.066548</td>\n",
       "      <td>-9.414764</td>\n",
       "      <td>4.759636</td>\n",
       "      <td>8.315734</td>\n",
       "      <td>-0.628853</td>\n",
       "    </tr>\n",
       "  </tbody>\n",
       "</table>\n",
       "</div>"
      ],
      "text/plain": [
       "                                            fixed acidity  volatile acidity  \\\n",
       "Logistic Regression Coefficients                 0.685901          8.223287   \n",
       "Penalized Logistic Regression Coefficients       0.916169         11.539000   \n",
       "\n",
       "                                            citric acid  residual sugar  \\\n",
       "Logistic Regression Coefficients              -0.971672       -0.149442   \n",
       "Penalized Logistic Regression Coefficients     0.000000       -0.125501   \n",
       "\n",
       "                                            chlorides  free sulfur dioxide  \\\n",
       "Logistic Regression Coefficients             2.396549             0.048679   \n",
       "Penalized Logistic Regression Coefficients  15.207507             0.058481   \n",
       "\n",
       "                                            total sulfur dioxide   density  \\\n",
       "Logistic Regression Coefficients                       -0.063681 -3.126979   \n",
       "Penalized Logistic Regression Coefficients             -0.066548 -9.414764   \n",
       "\n",
       "                                                  pH  sulphates   alcohol  \n",
       "Logistic Regression Coefficients            2.304279   6.044744 -0.790924  \n",
       "Penalized Logistic Regression Coefficients  4.759636   8.315734 -0.628853  "
      ]
     },
     "execution_count": 46,
     "metadata": {},
     "output_type": "execute_result"
    }
   ],
   "source": [
    "pen_logreg = LogisticRegression(penalty = 'l1').fit(X_train, y_train) # Default = L2, Penalty = L1\n",
    "\n",
    "print(\"PENALIZED LOGISTIC REGRESSION (UNSCALED DATA)\")\n",
    "print(\"Training set score: {:.2f}\".format(pen_logreg.score(X_train, y_train)))\n",
    "print(\"Test set score: {:.2f}\".format(pen_logreg.score(X_test, y_test)))\n",
    "\n",
    "# Kfold Cross Validation\n",
    "print(\"Mean Cross Validation, KFold: {:.2f}\".format(np.mean(cross_val_score(pen_logreg, X_train, y_train, cv=kfold))))\n",
    "\n",
    "# Wine type prediction from test set (I'll use this later)\n",
    "pen_logreg_predicted_vals = pen_logreg.predict(X_test)\n",
    "\n",
    "# Organize the model coefficients\n",
    "pen_logreg_coef = pd.DataFrame(data=pen_logreg.coef_, columns=X.columns, index=['Penalized Logistic Regression Coefficients'])\n",
    "\n",
    "# Print coefficients for comparison\n",
    "c = [logreg_coef, pen_logreg_coef]\n",
    "coefs = pd.concat(c)\n",
    "coefs.head()"
   ]
  },
  {
   "cell_type": "markdown",
   "metadata": {},
   "source": [
    "### KNN Classifier using cross-validation"
   ]
  },
  {
   "cell_type": "code",
   "execution_count": 47,
   "metadata": {},
   "outputs": [
    {
     "name": "stdout",
     "output_type": "stream",
     "text": [
      "KNN CLASSIFER (UNSCALED DATA)\n",
      "Training set score: 0.96\n",
      "Test set score: 0.94\n",
      "Mean Cross Validation, KFold: 0.94\n"
     ]
    }
   ],
   "source": [
    "from sklearn.neighbors import KNeighborsClassifier\n",
    "# Notice that I'm using a Classifier here (as opposed to the Regressor we used in PART 1)\n",
    "\n",
    "knn = KNeighborsClassifier().fit(X_train, y_train)\n",
    "\n",
    "print(\"KNN CLASSIFER (UNSCALED DATA)\")\n",
    "print(\"Training set score: {:.2f}\".format(knn.score(X_train, y_train)))\n",
    "print(\"Test set score: {:.2f}\".format(knn.score(X_test, y_test)))\n",
    "\n",
    "# Kfold Cross Validation\n",
    "print(\"Mean Cross Validation, KFold: {:.2f}\".format(np.mean(cross_val_score(knn, X_train, y_train, cv=kfold))))\n",
    "\n",
    "# Wine type prediction from test set (I'll use this later)\n",
    "y_pred = knn.predict(X_test)"
   ]
  },
  {
   "cell_type": "markdown",
   "metadata": {},
   "source": [
    "**Note:** KNN classifier can not produce coefficients. So we don't include them here."
   ]
  },
  {
   "cell_type": "markdown",
   "metadata": {},
   "source": [
    "## How different are the results?"
   ]
  },
  {
   "cell_type": "code",
   "execution_count": 48,
   "metadata": {},
   "outputs": [
    {
     "name": "stdout",
     "output_type": "stream",
     "text": [
      "COMBINATIONS OF PREDICTIONS: LOG REG by PEN LOG REG by KNN\n"
     ]
    },
    {
     "data": {
      "text/plain": [
       "L2  L1\n",
       "0   0     1241\n",
       "    1        9\n",
       "1   0        5\n",
       "    1      370\n",
       "Name: knn, dtype: int64"
      ]
     },
     "execution_count": 48,
     "metadata": {},
     "output_type": "execute_result"
    }
   ],
   "source": [
    "# Organize predictions from each model into a dataframe\n",
    "results = pd.DataFrame()\n",
    "results = results.assign(L2=logreg_predicted_vals)\n",
    "results = results.assign(L1=pen_logreg_predicted_vals)\n",
    "results = results.assign(knn=y_pred)\n",
    "\n",
    "# Count the combinations\n",
    "print(\"COMBINATIONS OF PREDICTIONS: LOG REG by PEN LOG REG by KNN\")\n",
    "results.groupby(['L2','L1'])['knn'].count()"
   ]
  },
  {
   "cell_type": "markdown",
   "metadata": {},
   "source": [
    "**Note:** KNN shows the highest count where the Logistic Regression and the Penalized Logistic Regression models agree (0, 0, 1241) and (1, 1, 370)."
   ]
  },
  {
   "cell_type": "code",
   "execution_count": 49,
   "metadata": {},
   "outputs": [
    {
     "data": {
      "text/plain": [
       "L2  knn\n",
       "0   0      1217\n",
       "    1        33\n",
       "1   0        55\n",
       "    1       320\n",
       "Name: L1, dtype: int64"
      ]
     },
     "execution_count": 49,
     "metadata": {},
     "output_type": "execute_result"
    }
   ],
   "source": [
    "results.groupby(['L2','knn'])['L1'].count()"
   ]
  },
  {
   "cell_type": "markdown",
   "metadata": {},
   "source": [
    "**Note:** Penalized Regressions shows the highest count where the Logistic Regression and the KNN models agree (0, 0, 1210) and (1, 1, 323). (Notice that Penlized Logistic Regression is less likely to agree with the combined predictions of KNN and Logistic Regression than KNN is to agree with the combined predictions of Logistic Regression and Penalized Regression)."
   ]
  },
  {
   "cell_type": "code",
   "execution_count": 50,
   "metadata": {},
   "outputs": [
    {
     "data": {
      "text/plain": [
       "knn  L1\n",
       "0    0     1212\n",
       "     1       60\n",
       "1    0       34\n",
       "     1      319\n",
       "Name: L2, dtype: int64"
      ]
     },
     "execution_count": 50,
     "metadata": {},
     "output_type": "execute_result"
    }
   ],
   "source": [
    "results.groupby(['knn','L1'])['L2'].count()"
   ]
  },
  {
   "cell_type": "markdown",
   "metadata": {},
   "source": [
    "**Note:** Logistic Regressions shows the highest count where the KNN and Penalized Logistic Regression models agree (0, 0, 1205) and (1, 1, 322). (Notice that Logistic  Regression is also less likely to agree with the combined predictions of KNN and Penalized Logistic Regression than KNN is to agree with the combined predictions of Logistic Regression and Penalized Regression. This is a similar pattern noted in the previous cell)."
   ]
  },
  {
   "cell_type": "markdown",
   "metadata": {},
   "source": [
    "**Answer:** The regressions are more accurate than the nearest neighbor (Logisic Regression Accuracy = 0.98, Penalized Logistic Regression Accuracy = 0.99, KNN Accuracy = 0.94). This is most likely the result of their predicting slightly different results. Logistic Regression and Penalized Logistic Regression tend to make similar predictions - only disagreeing in about 10 instances - while the KNN Classifier model disagrees with the logistic model predictions by in about 50 instances."
   ]
  },
  {
   "cell_type": "markdown",
   "metadata": {},
   "source": [
    "## How does scaling the data with StandardScaler influence the results?"
   ]
  },
  {
   "cell_type": "code",
   "execution_count": 51,
   "metadata": {},
   "outputs": [],
   "source": [
    "scaler = preprocessing.StandardScaler().fit(X_train)\n",
    "X_train_scaled = scaler.transform(X_train)\n",
    "X_test_scaled = scaler.transform(X_test)"
   ]
  },
  {
   "cell_type": "markdown",
   "metadata": {},
   "source": [
    "### Scaled Logistic Regression using cross-validation"
   ]
  },
  {
   "cell_type": "code",
   "execution_count": 52,
   "metadata": {},
   "outputs": [
    {
     "name": "stdout",
     "output_type": "stream",
     "text": [
      "LOGISTIC REGRESSION (SCALED DATA)\n",
      "Training set score: 0.99\n",
      "Test set score: 0.99\n",
      "Mean Cross Validation, KFold: 0.99\n"
     ]
    },
    {
     "data": {
      "text/html": [
       "<div>\n",
       "<style scoped>\n",
       "    .dataframe tbody tr th:only-of-type {\n",
       "        vertical-align: middle;\n",
       "    }\n",
       "\n",
       "    .dataframe tbody tr th {\n",
       "        vertical-align: top;\n",
       "    }\n",
       "\n",
       "    .dataframe thead th {\n",
       "        text-align: right;\n",
       "    }\n",
       "</style>\n",
       "<table border=\"1\" class=\"dataframe\">\n",
       "  <thead>\n",
       "    <tr style=\"text-align: right;\">\n",
       "      <th></th>\n",
       "      <th>fixed acidity</th>\n",
       "      <th>volatile acidity</th>\n",
       "      <th>citric acid</th>\n",
       "      <th>residual sugar</th>\n",
       "      <th>chlorides</th>\n",
       "      <th>free sulfur dioxide</th>\n",
       "      <th>total sulfur dioxide</th>\n",
       "      <th>density</th>\n",
       "      <th>pH</th>\n",
       "      <th>sulphates</th>\n",
       "      <th>alcohol</th>\n",
       "    </tr>\n",
       "  </thead>\n",
       "  <tbody>\n",
       "    <tr>\n",
       "      <th>Logistic Regression Coefficients</th>\n",
       "      <td>0.685901</td>\n",
       "      <td>8.223287</td>\n",
       "      <td>-0.971672</td>\n",
       "      <td>-0.149442</td>\n",
       "      <td>2.396549</td>\n",
       "      <td>0.048679</td>\n",
       "      <td>-0.063681</td>\n",
       "      <td>-3.126979</td>\n",
       "      <td>2.304279</td>\n",
       "      <td>6.044744</td>\n",
       "      <td>-0.790924</td>\n",
       "    </tr>\n",
       "    <tr>\n",
       "      <th>Penalized Logistic Regression Coefficients</th>\n",
       "      <td>0.916169</td>\n",
       "      <td>11.539000</td>\n",
       "      <td>0.000000</td>\n",
       "      <td>-0.125501</td>\n",
       "      <td>15.207507</td>\n",
       "      <td>0.058481</td>\n",
       "      <td>-0.066548</td>\n",
       "      <td>-9.414764</td>\n",
       "      <td>4.759636</td>\n",
       "      <td>8.315734</td>\n",
       "      <td>-0.628853</td>\n",
       "    </tr>\n",
       "    <tr>\n",
       "      <th>Scaled Logistic Regression Coefficients</th>\n",
       "      <td>0.285976</td>\n",
       "      <td>1.186533</td>\n",
       "      <td>-0.361232</td>\n",
       "      <td>-3.261851</td>\n",
       "      <td>0.751859</td>\n",
       "      <td>0.986030</td>\n",
       "      <td>-2.885655</td>\n",
       "      <td>3.519493</td>\n",
       "      <td>0.270010</td>\n",
       "      <td>0.624173</td>\n",
       "      <td>1.282744</td>\n",
       "    </tr>\n",
       "  </tbody>\n",
       "</table>\n",
       "</div>"
      ],
      "text/plain": [
       "                                            fixed acidity  volatile acidity  \\\n",
       "Logistic Regression Coefficients                 0.685901          8.223287   \n",
       "Penalized Logistic Regression Coefficients       0.916169         11.539000   \n",
       "Scaled Logistic Regression Coefficients          0.285976          1.186533   \n",
       "\n",
       "                                            citric acid  residual sugar  \\\n",
       "Logistic Regression Coefficients              -0.971672       -0.149442   \n",
       "Penalized Logistic Regression Coefficients     0.000000       -0.125501   \n",
       "Scaled Logistic Regression Coefficients       -0.361232       -3.261851   \n",
       "\n",
       "                                            chlorides  free sulfur dioxide  \\\n",
       "Logistic Regression Coefficients             2.396549             0.048679   \n",
       "Penalized Logistic Regression Coefficients  15.207507             0.058481   \n",
       "Scaled Logistic Regression Coefficients      0.751859             0.986030   \n",
       "\n",
       "                                            total sulfur dioxide   density  \\\n",
       "Logistic Regression Coefficients                       -0.063681 -3.126979   \n",
       "Penalized Logistic Regression Coefficients             -0.066548 -9.414764   \n",
       "Scaled Logistic Regression Coefficients                -2.885655  3.519493   \n",
       "\n",
       "                                                  pH  sulphates   alcohol  \n",
       "Logistic Regression Coefficients            2.304279   6.044744 -0.790924  \n",
       "Penalized Logistic Regression Coefficients  4.759636   8.315734 -0.628853  \n",
       "Scaled Logistic Regression Coefficients     0.270010   0.624173  1.282744  "
      ]
     },
     "execution_count": 52,
     "metadata": {},
     "output_type": "execute_result"
    }
   ],
   "source": [
    "logreg_scaled = LogisticRegression().fit(X_train_scaled, y_train)\n",
    "\n",
    "print(\"LOGISTIC REGRESSION (SCALED DATA)\")\n",
    "print(\"Training set score: {:.2f}\".format(logreg_scaled.score(X_train_scaled, y_train)))\n",
    "print(\"Test set score: {:.2f}\".format(logreg_scaled.score(X_test_scaled, y_test)))\n",
    "\n",
    "# Kfold Cross Validation\n",
    "print(\"Mean Cross Validation, KFold: {:.2f}\".format(np.mean(cross_val_score(logreg_scaled, X_train_scaled, y_train, cv=kfold))))\n",
    "\n",
    "# Organize the model coefficients\n",
    "logreg_scaled_coef = pd.DataFrame(data=logreg_scaled.coef_, columns=X.columns, index=['Scaled Logistic Regression Coefficients'])\n",
    "\n",
    "# Print coefficients for comparison\n",
    "c2 = [logreg_coef, pen_logreg_coef, logreg_scaled_coef]\n",
    "coefs = pd.concat(c2)\n",
    "coefs.head()"
   ]
  },
  {
   "cell_type": "markdown",
   "metadata": {},
   "source": [
    "### Scaled Penalized Logistic Regression using cross-validation"
   ]
  },
  {
   "cell_type": "code",
   "execution_count": 53,
   "metadata": {},
   "outputs": [
    {
     "name": "stdout",
     "output_type": "stream",
     "text": [
      "PENALIZED LOGISTIC REGRESSION (SCALED DATA)\n",
      "Training set score: 0.99\n",
      "Test set score: 0.99\n",
      "Mean Cross Validation, KFold: 0.99\n"
     ]
    },
    {
     "data": {
      "text/html": [
       "<div>\n",
       "<style scoped>\n",
       "    .dataframe tbody tr th:only-of-type {\n",
       "        vertical-align: middle;\n",
       "    }\n",
       "\n",
       "    .dataframe tbody tr th {\n",
       "        vertical-align: top;\n",
       "    }\n",
       "\n",
       "    .dataframe thead th {\n",
       "        text-align: right;\n",
       "    }\n",
       "</style>\n",
       "<table border=\"1\" class=\"dataframe\">\n",
       "  <thead>\n",
       "    <tr style=\"text-align: right;\">\n",
       "      <th></th>\n",
       "      <th>fixed acidity</th>\n",
       "      <th>volatile acidity</th>\n",
       "      <th>citric acid</th>\n",
       "      <th>residual sugar</th>\n",
       "      <th>chlorides</th>\n",
       "      <th>free sulfur dioxide</th>\n",
       "      <th>total sulfur dioxide</th>\n",
       "      <th>density</th>\n",
       "      <th>pH</th>\n",
       "      <th>sulphates</th>\n",
       "      <th>alcohol</th>\n",
       "    </tr>\n",
       "  </thead>\n",
       "  <tbody>\n",
       "    <tr>\n",
       "      <th>Logistic Regression Coefficients</th>\n",
       "      <td>0.685901</td>\n",
       "      <td>8.223287</td>\n",
       "      <td>-0.971672</td>\n",
       "      <td>-0.149442</td>\n",
       "      <td>2.396549</td>\n",
       "      <td>0.048679</td>\n",
       "      <td>-0.063681</td>\n",
       "      <td>-3.126979</td>\n",
       "      <td>2.304279</td>\n",
       "      <td>6.044744</td>\n",
       "      <td>-0.790924</td>\n",
       "    </tr>\n",
       "    <tr>\n",
       "      <th>Penalized Logistic Regression Coefficients</th>\n",
       "      <td>0.916169</td>\n",
       "      <td>11.539000</td>\n",
       "      <td>0.000000</td>\n",
       "      <td>-0.125501</td>\n",
       "      <td>15.207507</td>\n",
       "      <td>0.058481</td>\n",
       "      <td>-0.066548</td>\n",
       "      <td>-9.414764</td>\n",
       "      <td>4.759636</td>\n",
       "      <td>8.315734</td>\n",
       "      <td>-0.628853</td>\n",
       "    </tr>\n",
       "    <tr>\n",
       "      <th>Scaled Logistic Regression Coefficients</th>\n",
       "      <td>0.285976</td>\n",
       "      <td>1.186533</td>\n",
       "      <td>-0.361232</td>\n",
       "      <td>-3.261851</td>\n",
       "      <td>0.751859</td>\n",
       "      <td>0.986030</td>\n",
       "      <td>-2.885655</td>\n",
       "      <td>3.519493</td>\n",
       "      <td>0.270010</td>\n",
       "      <td>0.624173</td>\n",
       "      <td>1.282744</td>\n",
       "    </tr>\n",
       "    <tr>\n",
       "      <th>Scaled Penalized Logistic Regression Coefficients</th>\n",
       "      <td>-0.043429</td>\n",
       "      <td>1.140855</td>\n",
       "      <td>-0.401142</td>\n",
       "      <td>-4.527656</td>\n",
       "      <td>0.745173</td>\n",
       "      <td>1.209947</td>\n",
       "      <td>-3.092901</td>\n",
       "      <td>4.662637</td>\n",
       "      <td>0.000000</td>\n",
       "      <td>0.517186</td>\n",
       "      <td>1.847429</td>\n",
       "    </tr>\n",
       "  </tbody>\n",
       "</table>\n",
       "</div>"
      ],
      "text/plain": [
       "                                                   fixed acidity  \\\n",
       "Logistic Regression Coefficients                        0.685901   \n",
       "Penalized Logistic Regression Coefficients              0.916169   \n",
       "Scaled Logistic Regression Coefficients                 0.285976   \n",
       "Scaled Penalized Logistic Regression Coefficients      -0.043429   \n",
       "\n",
       "                                                   volatile acidity  \\\n",
       "Logistic Regression Coefficients                           8.223287   \n",
       "Penalized Logistic Regression Coefficients                11.539000   \n",
       "Scaled Logistic Regression Coefficients                    1.186533   \n",
       "Scaled Penalized Logistic Regression Coefficients          1.140855   \n",
       "\n",
       "                                                   citric acid  \\\n",
       "Logistic Regression Coefficients                     -0.971672   \n",
       "Penalized Logistic Regression Coefficients            0.000000   \n",
       "Scaled Logistic Regression Coefficients              -0.361232   \n",
       "Scaled Penalized Logistic Regression Coefficients    -0.401142   \n",
       "\n",
       "                                                   residual sugar  chlorides  \\\n",
       "Logistic Regression Coefficients                        -0.149442   2.396549   \n",
       "Penalized Logistic Regression Coefficients              -0.125501  15.207507   \n",
       "Scaled Logistic Regression Coefficients                 -3.261851   0.751859   \n",
       "Scaled Penalized Logistic Regression Coefficients       -4.527656   0.745173   \n",
       "\n",
       "                                                   free sulfur dioxide  \\\n",
       "Logistic Regression Coefficients                              0.048679   \n",
       "Penalized Logistic Regression Coefficients                    0.058481   \n",
       "Scaled Logistic Regression Coefficients                       0.986030   \n",
       "Scaled Penalized Logistic Regression Coefficients             1.209947   \n",
       "\n",
       "                                                   total sulfur dioxide  \\\n",
       "Logistic Regression Coefficients                              -0.063681   \n",
       "Penalized Logistic Regression Coefficients                    -0.066548   \n",
       "Scaled Logistic Regression Coefficients                       -2.885655   \n",
       "Scaled Penalized Logistic Regression Coefficients             -3.092901   \n",
       "\n",
       "                                                    density        pH  \\\n",
       "Logistic Regression Coefficients                  -3.126979  2.304279   \n",
       "Penalized Logistic Regression Coefficients        -9.414764  4.759636   \n",
       "Scaled Logistic Regression Coefficients            3.519493  0.270010   \n",
       "Scaled Penalized Logistic Regression Coefficients  4.662637  0.000000   \n",
       "\n",
       "                                                   sulphates   alcohol  \n",
       "Logistic Regression Coefficients                    6.044744 -0.790924  \n",
       "Penalized Logistic Regression Coefficients          8.315734 -0.628853  \n",
       "Scaled Logistic Regression Coefficients             0.624173  1.282744  \n",
       "Scaled Penalized Logistic Regression Coefficients   0.517186  1.847429  "
      ]
     },
     "execution_count": 53,
     "metadata": {},
     "output_type": "execute_result"
    }
   ],
   "source": [
    "pen_logreg_scaled = LogisticRegression(penalty = 'l1').fit(X_train_scaled, y_train)\n",
    "\n",
    "print(\"PENALIZED LOGISTIC REGRESSION (SCALED DATA)\")\n",
    "print(\"Training set score: {:.2f}\".format(pen_logreg_scaled.score(X_train_scaled, y_train)))\n",
    "print(\"Test set score: {:.2f}\".format(pen_logreg_scaled.score(X_test_scaled, y_test)))\n",
    "\n",
    "# Stratified Kfold Cross Validation \n",
    "print(\"Mean Cross Validation, KFold: {:.2f}\".format(np.mean(cross_val_score(pen_logreg_scaled, X_train, y_train, cv=kfold))))\n",
    "\n",
    "# Organize the model coefficients\n",
    "pen_logreg_scaled_coef = pd.DataFrame(data=pen_logreg_scaled.coef_, columns=X.columns, index=['Scaled Penalized Logistic Regression Coefficients'])\n",
    "\n",
    "# Print coefficients for comparison\n",
    "c3 = [logreg_coef, pen_logreg_coef, logreg_scaled_coef, pen_logreg_scaled_coef]\n",
    "coefs = pd.concat(c3)\n",
    "coefs.head()"
   ]
  },
  {
   "cell_type": "markdown",
   "metadata": {},
   "source": [
    "### Scaled KNN using cross validation"
   ]
  },
  {
   "cell_type": "code",
   "execution_count": 54,
   "metadata": {},
   "outputs": [
    {
     "name": "stdout",
     "output_type": "stream",
     "text": [
      "KNN CLASSIFER (SCALED DATA)\n",
      "Training set score: 0.98\n",
      "Test set score: 0.97\n",
      "Mean Cross Validation, KFold: 0.96\n"
     ]
    }
   ],
   "source": [
    "knn_scaled = KNeighborsRegressor().fit(X_train_scaled, y_train)\n",
    "\n",
    "print(\"KNN CLASSIFER (SCALED DATA)\")\n",
    "print(\"Training set score: {:.2f}\".format(knn_scaled.score(X_train_scaled, y_train)))\n",
    "print(\"Test set score: {:.2f}\".format(knn_scaled.score(X_test_scaled, y_test)))\n",
    "\n",
    "# Stratified Kfold Cross Validation\n",
    "print(\"Mean Cross Validation, KFold: {:.2f}\".format(np.mean(cross_val_score(knn_scaled, X_train_scaled, y_train, cv=kfold))))"
   ]
  },
  {
   "cell_type": "markdown",
   "metadata": {},
   "source": [
    "**Note:** KNN classifier can not produce coefficients. So we don't include them here."
   ]
  },
  {
   "cell_type": "code",
   "execution_count": 55,
   "metadata": {},
   "outputs": [
    {
     "name": "stdout",
     "output_type": "stream",
     "text": [
      "LOGISTIC REGRESSION\n",
      "Unscaled: 0.98\n",
      "Scaled: 0.99\n",
      "\n",
      "PENALIZED LOGISTIC REGRESSION\n",
      "Unscaled: 0.98\n",
      "Scaled: 0.99\n",
      "\n",
      "KNN CLASSIFIER\n",
      "Unscaled: 0.94\n",
      "Scaled: 0.97\n"
     ]
    }
   ],
   "source": [
    "print(\"LOGISTIC REGRESSION\")\n",
    "print(\"Unscaled: {:.2f}\".format(logreg.score(X_test, y_test)))\n",
    "print(\"Scaled: {:.2f}\".format(logreg_scaled.score(X_test_scaled, y_test)))\n",
    "print(\"\")\n",
    "print(\"PENALIZED LOGISTIC REGRESSION\")\n",
    "print(\"Unscaled: {:.2f}\".format(pen_logreg.score(X_test, y_test)))\n",
    "print(\"Scaled: {:.2f}\".format(pen_logreg_scaled.score(X_test_scaled, y_test)))\n",
    "print(\"\")\n",
    "print(\"KNN CLASSIFIER\")\n",
    "print(\"Unscaled: {:.2f}\".format(knn.score(X_test, y_test)))\n",
    "print(\"Scaled: {:.2f}\".format(knn_scaled.score(X_test_scaled, y_test)))"
   ]
  },
  {
   "cell_type": "markdown",
   "metadata": {},
   "source": [
    "**Answer:** Scalling the data with StandardScaler improves the results for all models, particularly for KNN."
   ]
  },
  {
   "cell_type": "markdown",
   "metadata": {},
   "source": [
    "## 2.3 Tune the parameters where possible using GridSearchCV."
   ]
  },
  {
   "cell_type": "markdown",
   "metadata": {},
   "source": [
    "### GridsearchCV with Logistic Regression"
   ]
  },
  {
   "cell_type": "code",
   "execution_count": 56,
   "metadata": {},
   "outputs": [
    {
     "name": "stdout",
     "output_type": "stream",
     "text": [
      "LOGISTIC REGRESSION (SCALED DATA)\n",
      "Test set Score: 0.99\n",
      "Best Parameter: {'logisticregression__C': 2.0}\n"
     ]
    }
   ],
   "source": [
    "logreg_pipe = make_pipeline(StandardScaler(), LogisticRegression())\n",
    "#print(logreg_pipe.steps) \n",
    "# Name of step = 'logisticregression' + __ + C\n",
    "\n",
    "logreg_param_grid = {'logisticregression__C': np.linspace(1, 100, 100)}\n",
    "logreg_grid = GridSearchCV(logreg_pipe, logreg_param_grid).fit(X_train_scaled, y_train)\n",
    "\n",
    "print(\"LOGISTIC REGRESSION (SCALED DATA)\")\n",
    "print(\"Test set Score: {:.2f}\".format(logreg_grid.score(X_test_scaled, y_test)))\n",
    "print(\"Best Parameter: {}\".format(logreg_grid.best_params_))"
   ]
  },
  {
   "cell_type": "markdown",
   "metadata": {},
   "source": [
    "### GridsearchCV with Penalized Logistic Regression"
   ]
  },
  {
   "cell_type": "code",
   "execution_count": 57,
   "metadata": {},
   "outputs": [
    {
     "name": "stdout",
     "output_type": "stream",
     "text": [
      "PENLIZED LOGISTIC REGRESSION (SCALED DATA)\n",
      "Test set Score: 0.99\n",
      "Best Parameter: {'logisticregression__C': 1.0}\n"
     ]
    }
   ],
   "source": [
    "pen_logreg_pipe = make_pipeline(StandardScaler(), LogisticRegression(penalty='l1'))\n",
    "#print(pen_logreg_pipe.steps) \n",
    "# Name of step = 'logisticregression' + __ + C\n",
    "\n",
    "pen_logreg_param_grid = {'logisticregression__C': np.linspace(1, 100, 100)}\n",
    "pen_logreg_grid = GridSearchCV(pen_logreg_pipe, pen_logreg_param_grid).fit(X_train_scaled, y_train)\n",
    "\n",
    "print(\"PENLIZED LOGISTIC REGRESSION (SCALED DATA)\")\n",
    "print(\"Test set Score: {:.2f}\".format(pen_logreg_grid.score(X_test_scaled, y_test)))\n",
    "print(\"Best Parameter: {}\".format(pen_logreg_grid.best_params_))"
   ]
  },
  {
   "cell_type": "markdown",
   "metadata": {},
   "source": [
    "### GridsearchCV with KNN Classifier"
   ]
  },
  {
   "cell_type": "code",
   "execution_count": 58,
   "metadata": {},
   "outputs": [
    {
     "name": "stdout",
     "output_type": "stream",
     "text": [
      "KNN for REGRESSION (SCALED DATA)\n",
      "Test set Score: 0.99\n",
      "Best Parameter: {'kneighborsclassifier__n_neighbors': 2}\n"
     ]
    }
   ],
   "source": [
    "knn_pipe = make_pipeline(StandardScaler(), KNeighborsClassifier())\n",
    "\n",
    "knn_param_grid = {'kneighborsclassifier__n_neighbors': range(1, 10)}\n",
    "knn_grid = GridSearchCV(knn_pipe, knn_param_grid).fit(X_train_scaled, y_train)\n",
    "\n",
    "print(\"KNN for REGRESSION (SCALED DATA)\")\n",
    "print(\"Test set Score: {:.2f}\".format(knn_grid.score(X_test_scaled, y_test)))\n",
    "print(\"Best Parameter: {}\".format(knn_grid.best_params_))"
   ]
  },
  {
   "cell_type": "markdown",
   "metadata": {},
   "source": [
    "## Do the results improve?"
   ]
  },
  {
   "cell_type": "code",
   "execution_count": 59,
   "metadata": {},
   "outputs": [
    {
     "name": "stdout",
     "output_type": "stream",
     "text": [
      "LOGISTIC REGRESSION\n",
      "Before Gridsearch: 0.99\n",
      "After Gridsearch: 0.99\n",
      "\n",
      "PENALIZED LOGISTIC REGRESSION\n",
      "Before Gridsearch: 0.99\n",
      "After Gridsearch: 0.99\n",
      "\n",
      "KNN CLASSIFIER\n",
      "Before Gridsearch: 0.97\n",
      "After Gridsearch: 0.99\n"
     ]
    }
   ],
   "source": [
    "print(\"LOGISTIC REGRESSION\")\n",
    "print(\"Before Gridsearch: {:.2f}\".format(logreg_scaled.score(X_test_scaled, y_test)))\n",
    "print(\"After Gridsearch: {:.2f}\".format(logreg_grid.score(X_test_scaled, y_test)))\n",
    "print(\"\")\n",
    "print(\"PENALIZED LOGISTIC REGRESSION\")\n",
    "print(\"Before Gridsearch: {:.2f}\".format(pen_logreg_scaled.score(X_test_scaled, y_test)))\n",
    "print(\"After Gridsearch: {:.2f}\".format(pen_logreg_grid.score(X_test_scaled, y_test)))\n",
    "print(\"\")\n",
    "print(\"KNN CLASSIFIER\")\n",
    "print(\"Before Gridsearch: {:.2f}\".format(knn_scaled.score(X_test_scaled, y_test)))\n",
    "print(\"After Gridsearch: {:.2f}\".format(knn_grid.score(X_test_scaled, y_test)))"
   ]
  },
  {
   "cell_type": "markdown",
   "metadata": {},
   "source": [
    "**Answer:** Parameters recommended by Gridsearch make noticable improvements to the accuracy score for the KNN model, but new parameters recommended by Gridsearch do not a remarakable difference for the accuracy scores of the Logistic or Penalized Logistic Regression models."
   ]
  },
  {
   "cell_type": "markdown",
   "metadata": {},
   "source": [
    "## 2.4 Change the cross-validation strategy in GridSearchCV from ‘stratified k-fold’ to ‘kfold’ with shuffling."
   ]
  },
  {
   "cell_type": "code",
   "execution_count": 60,
   "metadata": {},
   "outputs": [],
   "source": [
    "# Note: See code above for kfold, skfold, and rkf. \n",
    "# Here, I am going to use the rkf code.\n",
    "# rkf = RepeatedKFold(n_splits=5, n_repeats=5, random_state=1)"
   ]
  },
  {
   "cell_type": "markdown",
   "metadata": {},
   "source": [
    "**Note:** For integer/None inputs, if the estimator is a classifier and y is either binary or multiclass, StratifiedKFold is used. In all other cases, KFold is used. Reference: https://scikit-learn.org/stable/modules/generated/sklearn.model_selection.GridSearchCV.html"
   ]
  },
  {
   "cell_type": "markdown",
   "metadata": {},
   "source": [
    "Because our data uses 'winetype' as a target, our data qualifies as binary/multiclass. This means that StratigiedKFold (skfold) will be a default of GridsearchCV. To change this default setting and to include shuffling, we need to set cv= Repeated KFold (rkf). "
   ]
  },
  {
   "cell_type": "markdown",
   "metadata": {},
   "source": [
    "### GridsearchCV of Logistic Regression with Repeated KFold (rkf)"
   ]
  },
  {
   "cell_type": "code",
   "execution_count": 61,
   "metadata": {},
   "outputs": [
    {
     "name": "stdout",
     "output_type": "stream",
     "text": [
      "LOGISTIC REGRESSION (SCALED DATA)\n",
      "Test set Score: 0.99\n",
      "Best Parameter: {'logisticregression__C': 28.0}\n"
     ]
    }
   ],
   "source": [
    "logreg_grid_rfk = GridSearchCV(logreg_pipe, logreg_param_grid, cv=rkf).fit(X_train_scaled, y_train)\n",
    "\n",
    "print(\"LOGISTIC REGRESSION (SCALED DATA)\")\n",
    "print(\"Test set Score: {:.2f}\".format(logreg_grid_rfk.score(X_test_scaled, y_test)))\n",
    "print(\"Best Parameter: {}\".format(logreg_grid_rfk.best_params_))"
   ]
  },
  {
   "cell_type": "markdown",
   "metadata": {},
   "source": [
    "### GridsearchCV of Penalized Logistic Regression with Repeated KFold (rkf)"
   ]
  },
  {
   "cell_type": "code",
   "execution_count": 62,
   "metadata": {},
   "outputs": [
    {
     "name": "stdout",
     "output_type": "stream",
     "text": [
      "PENLIZED LOGISTIC REGRESSION (SCALED DATA)\n",
      "Test set Score: 0.99\n",
      "Best Parameter: {'logisticregression__C': 1.0}\n"
     ]
    }
   ],
   "source": [
    "pen_logreg_grid_rfk = GridSearchCV(pen_logreg_pipe, pen_logreg_param_grid, cv=rkf).fit(X_train_scaled, y_train)\n",
    "\n",
    "print(\"PENLIZED LOGISTIC REGRESSION (SCALED DATA)\")\n",
    "print(\"Test set Score: {:.2f}\".format(pen_logreg_grid_rfk.score(X_test_scaled, y_test)))\n",
    "print(\"Best Parameter: {}\".format(pen_logreg_grid_rfk.best_params_))"
   ]
  },
  {
   "cell_type": "markdown",
   "metadata": {},
   "source": [
    "### GridsearchCV of KNN Classifier with Repeated KFold (rkf)"
   ]
  },
  {
   "cell_type": "code",
   "execution_count": 63,
   "metadata": {},
   "outputs": [
    {
     "name": "stdout",
     "output_type": "stream",
     "text": [
      "KNN for REGRESSION (SCALED DATA)\n",
      "Test set Score: 0.99\n",
      "Best Parameter: {'kneighborsclassifier__n_neighbors': 6}\n"
     ]
    }
   ],
   "source": [
    "knn_grid_rfk = GridSearchCV(knn_pipe, knn_param_grid, cv=rkf).fit(X_train_scaled, y_train)\n",
    "\n",
    "print(\"KNN for REGRESSION (SCALED DATA)\")\n",
    "print(\"Test set Score: {:.2f}\".format(knn_grid_rfk.score(X_test_scaled, y_test)))\n",
    "print(\"Best Parameter: {}\".format(knn_grid_rfk.best_params_))"
   ]
  },
  {
   "cell_type": "markdown",
   "metadata": {},
   "source": [
    "## Do the parameters for models that can be tuned change? "
   ]
  },
  {
   "cell_type": "code",
   "execution_count": 64,
   "metadata": {},
   "outputs": [
    {
     "name": "stdout",
     "output_type": "stream",
     "text": [
      "Parameters for LOGISTIC REGRESSION\n",
      "KFold w/out Shuffling: {'logisticregression__C': 2.0}\n",
      "       Repeated KFold: {'logisticregression__C': 28.0}\n",
      "\n",
      "Parameters for PENALIZED LOGISTIC REGRESSION\n",
      "KFold w/out Shuffling: {'logisticregression__C': 1.0}\n",
      "       Repeated KFold: {'logisticregression__C': 1.0}\n",
      "\n",
      "Parameters for KNN CLASSIFIER\n",
      "KFold w/out Shuffling: {'kneighborsclassifier__n_neighbors': 2}\n",
      "       Repeated KFold: {'kneighborsclassifier__n_neighbors': 6}\n"
     ]
    }
   ],
   "source": [
    "# Comparing parameters with and without Kfold shuffling\n",
    "print(\"Parameters for LOGISTIC REGRESSION\")\n",
    "print(\"KFold w/out Shuffling: {}\".format(logreg_grid.best_params_))\n",
    "print(\"       Repeated KFold: {}\".format(logreg_grid_rfk.best_params_))\n",
    "print(\"\")\n",
    "print(\"Parameters for PENALIZED LOGISTIC REGRESSION\")\n",
    "print(\"KFold w/out Shuffling: {}\".format(pen_logreg_grid.best_params_))\n",
    "print(\"       Repeated KFold: {}\".format(pen_logreg_grid_rfk.best_params_))\n",
    "print(\"\")\n",
    "print(\"Parameters for KNN CLASSIFIER\")\n",
    "print(\"KFold w/out Shuffling: {}\".format(knn_grid.best_params_))\n",
    "print(\"       Repeated KFold: {}\".format(knn_grid_rfk.best_params_))"
   ]
  },
  {
   "cell_type": "markdown",
   "metadata": {},
   "source": [
    "**Answer:** Yes. After changing the cross validation method from skfold to kfold, the parameters recommended by gridsearchCV are C=28 for the Logistic Regression (previously C=2), and n_neighbors=6 for KNN Classifier (previously n_neighbors=2). Gridsearch does not recommend different parameters for the Penalized Logistic Regression model."
   ]
  },
  {
   "cell_type": "markdown",
   "metadata": {},
   "source": [
    "## Do they change if you change the random seed of the shuffling?"
   ]
  },
  {
   "cell_type": "code",
   "execution_count": 65,
   "metadata": {},
   "outputs": [],
   "source": [
    "# Change random_state=None to random_state=1\n",
    "rkf_1 = RepeatedKFold(n_splits=5, n_repeats=10, random_state=1)"
   ]
  },
  {
   "cell_type": "markdown",
   "metadata": {},
   "source": [
    "### GridsearchCV of Logistic Regression with Repeated KFold (rkf) and new random seed"
   ]
  },
  {
   "cell_type": "code",
   "execution_count": 66,
   "metadata": {},
   "outputs": [
    {
     "name": "stdout",
     "output_type": "stream",
     "text": [
      "LOGISTIC REGRESSION (SCALED DATA)\n",
      "Test set Score: 0.99\n",
      "Best Parameter: {'logisticregression__C': 28.0}\n"
     ]
    }
   ],
   "source": [
    "logreg_grid_rfk_1 = GridSearchCV(logreg_pipe, logreg_param_grid, cv=rkf_1).fit(X_train_scaled, y_train)\n",
    "\n",
    "print(\"LOGISTIC REGRESSION (SCALED DATA)\")\n",
    "print(\"Test set Score: {:.2f}\".format(logreg_grid_rfk_1.score(X_test_scaled, y_test)))\n",
    "print(\"Best Parameter: {}\".format(logreg_grid_rfk_1.best_params_))"
   ]
  },
  {
   "cell_type": "markdown",
   "metadata": {},
   "source": [
    "### GridsearchCV of Penalized Logistic Regression with Repeated KFold (rkf) and new random seed"
   ]
  },
  {
   "cell_type": "code",
   "execution_count": 67,
   "metadata": {},
   "outputs": [
    {
     "name": "stdout",
     "output_type": "stream",
     "text": [
      "PENLIZED LOGISTIC REGRESSION (SCALED DATA)\n",
      "Test set Score: 0.99\n",
      "Best Parameter: {'logisticregression__C': 1.0}\n"
     ]
    }
   ],
   "source": [
    "pen_logreg_grid_rfk_1 = GridSearchCV(pen_logreg_pipe, pen_logreg_param_grid, cv=rkf_1).fit(X_train_scaled, y_train)\n",
    "\n",
    "print(\"PENLIZED LOGISTIC REGRESSION (SCALED DATA)\")\n",
    "print(\"Test set Score: {:.2f}\".format(pen_logreg_grid_rfk_1.score(X_test_scaled, y_test)))\n",
    "print(\"Best Parameter: {}\".format(pen_logreg_grid_rfk_1.best_params_))"
   ]
  },
  {
   "cell_type": "markdown",
   "metadata": {},
   "source": [
    "### GridsearchCV of KNN Classifier with Repeated KFold (rkf) and new random seed"
   ]
  },
  {
   "cell_type": "code",
   "execution_count": 68,
   "metadata": {},
   "outputs": [
    {
     "name": "stdout",
     "output_type": "stream",
     "text": [
      "KNN for REGRESSION (SCALED DATA)\n",
      "Test set Score: 0.99\n",
      "Best Parameter: {'kneighborsclassifier__n_neighbors': 6}\n"
     ]
    }
   ],
   "source": [
    "knn_grid_rfk_1 = GridSearchCV(knn_pipe, knn_param_grid, cv=rkf_1).fit(X_train_scaled, y_train)\n",
    "\n",
    "print(\"KNN for REGRESSION (SCALED DATA)\")\n",
    "print(\"Test set Score: {:.2f}\".format(knn_grid_rfk_1.score(X_test_scaled, y_test)))\n",
    "print(\"Best Parameter: {}\".format(knn_grid_rfk_1.best_params_))"
   ]
  },
  {
   "cell_type": "code",
   "execution_count": 69,
   "metadata": {},
   "outputs": [
    {
     "name": "stdout",
     "output_type": "stream",
     "text": [
      "Parameters for LOGISTIC REGRESSION\n",
      "     KFold w/out Shuffling: {'logisticregression__C': 2.0}\n",
      "            Repeated KFold: {'logisticregression__C': 28.0}\n",
      "Repeated KFold w/ new seed: {'logisticregression__C': 28.0}\n",
      "\n",
      "Parameters for PENALIZED LOGISTIC REGRESSION\n",
      "     KFold w/out Shuffling: {'logisticregression__C': 1.0}\n",
      "            Repeated KFold: {'logisticregression__C': 1.0}\n",
      "Repeated KFold w/ new seed: {'logisticregression__C': 1.0}\n",
      "\n",
      "Parameters for KNN CLASSIFIER\n",
      "     KFold w/out Shuffling: {'kneighborsclassifier__n_neighbors': 2}\n",
      "            Repeated KFold: {'kneighborsclassifier__n_neighbors': 6}\n",
      "Repeated KFold w/ new seed: {'kneighborsclassifier__n_neighbors': 6}\n"
     ]
    }
   ],
   "source": [
    "# Comparing parameters with new random seed\n",
    "print(\"Parameters for LOGISTIC REGRESSION\")\n",
    "print(\"     KFold w/out Shuffling: {}\".format(logreg_grid.best_params_))\n",
    "print(\"            Repeated KFold: {}\".format(logreg_grid_rfk.best_params_))\n",
    "print(\"Repeated KFold w/ new seed: {}\".format(logreg_grid_rfk_1.best_params_))\n",
    "print(\"\")\n",
    "print(\"Parameters for PENALIZED LOGISTIC REGRESSION\")\n",
    "print(\"     KFold w/out Shuffling: {}\".format(pen_logreg_grid.best_params_))\n",
    "print(\"            Repeated KFold: {}\".format(pen_logreg_grid_rfk.best_params_))\n",
    "print(\"Repeated KFold w/ new seed: {}\".format(pen_logreg_grid_rfk_1.best_params_))\n",
    "print(\"\")\n",
    "print(\"Parameters for KNN CLASSIFIER\")\n",
    "print(\"     KFold w/out Shuffling: {}\".format(knn_grid.best_params_))\n",
    "print(\"            Repeated KFold: {}\".format(knn_grid_rfk.best_params_))\n",
    "print(\"Repeated KFold w/ new seed: {}\".format(knn_grid_rfk_1.best_params_))"
   ]
  },
  {
   "cell_type": "markdown",
   "metadata": {},
   "source": [
    "**Answer:** Changing the random seed of the shuffling didn't change the recommended parameters for any of the models."
   ]
  },
  {
   "cell_type": "markdown",
   "metadata": {},
   "source": [
    "## Or if you change the random state of the split into training and test data?"
   ]
  },
  {
   "cell_type": "code",
   "execution_count": 70,
   "metadata": {},
   "outputs": [],
   "source": [
    "# Resplit the data using a new random_state, 1000 (instead of 42)\n",
    "X_train_newsplit, X_test_newsplit, y_train_newsplit, y_test_newsplit = train_test_split(X, y, random_state=1000)\n",
    "\n",
    "# Scale new split data\n",
    "scaler = preprocessing.StandardScaler().fit(X_train_newsplit)\n",
    "X_train_scaled_newsplit = scaler.transform(X_train_newsplit)\n",
    "X_test_scaled_newsplit = scaler.transform(X_test_newsplit)"
   ]
  },
  {
   "cell_type": "markdown",
   "metadata": {},
   "source": [
    "### GridsearchCV of Logistic Regression with... \n",
    "* Repeated KFold (rkf)\n",
    "* Random Seed = 1\n",
    "* New random split into training and test data"
   ]
  },
  {
   "cell_type": "code",
   "execution_count": 71,
   "metadata": {},
   "outputs": [
    {
     "name": "stdout",
     "output_type": "stream",
     "text": [
      "LOGISTIC REGRESSION (SCALED DATA)\n",
      "Test set Score: 1.00\n",
      "Best Parameter: {'logisticregression__C': 10.0}\n"
     ]
    }
   ],
   "source": [
    "logreg_grid_rfk_1_newsplit = GridSearchCV(logreg_pipe, logreg_param_grid, cv=rkf_1).fit(X_train_scaled_newsplit, y_train_newsplit)\n",
    "\n",
    "print(\"LOGISTIC REGRESSION (SCALED DATA)\")\n",
    "print(\"Test set Score: {:.2f}\".format(logreg_grid_rfk_1.score(X_test_scaled_newsplit, y_test_newsplit)))\n",
    "print(\"Best Parameter: {}\".format(logreg_grid_rfk_1_newsplit.best_params_))"
   ]
  },
  {
   "cell_type": "markdown",
   "metadata": {},
   "source": [
    "### GridsearchCV of Penalized Logistic Regression with...\n",
    "* Repeated KFold (rkf)\n",
    "* Random Seed = 1\n",
    "* New random split into training and test data"
   ]
  },
  {
   "cell_type": "code",
   "execution_count": 72,
   "metadata": {},
   "outputs": [
    {
     "name": "stdout",
     "output_type": "stream",
     "text": [
      "PENLIZED LOGISTIC REGRESSION (SCALED DATA)\n",
      "Test set Score: 0.99\n",
      "Best Parameter: {'logisticregression__C': 2.0}\n"
     ]
    }
   ],
   "source": [
    "pen_logreg_grid_rfk_1_newsplit = GridSearchCV(pen_logreg_pipe, pen_logreg_param_grid, cv=rkf_1).fit(X_train_scaled_newsplit, y_train_newsplit)\n",
    "\n",
    "print(\"PENLIZED LOGISTIC REGRESSION (SCALED DATA)\")\n",
    "print(\"Test set Score: {:.2f}\".format(pen_logreg_grid_rfk_1_newsplit.score(X_test_scaled_newsplit, y_test_newsplit)))\n",
    "print(\"Best Parameter: {}\".format(pen_logreg_grid_rfk_1_newsplit.best_params_))"
   ]
  },
  {
   "cell_type": "markdown",
   "metadata": {},
   "source": [
    "### GridsearchCV of KNN Classifier with...\n",
    "* Repeated KFold (rkf)\n",
    "* Random Seed = 1\n",
    "* New random split into training and test data"
   ]
  },
  {
   "cell_type": "code",
   "execution_count": 73,
   "metadata": {},
   "outputs": [
    {
     "name": "stdout",
     "output_type": "stream",
     "text": [
      "KNN for REGRESSION (SCALED DATA)\n",
      "Test set Score: 0.99\n",
      "Best Parameter: {'kneighborsclassifier__n_neighbors': 1}\n"
     ]
    }
   ],
   "source": [
    "knn_grid_rfk_1_newsplit = GridSearchCV(knn_pipe, knn_param_grid, cv=rkf_1).fit(X_train_scaled_newsplit, y_train_newsplit)\n",
    "\n",
    "print(\"KNN for REGRESSION (SCALED DATA)\")\n",
    "print(\"Test set Score: {:.2f}\".format(knn_grid_rfk_1_newsplit.score(X_test_scaled_newsplit, y_test_newsplit)))\n",
    "print(\"Best Parameter: {}\".format(knn_grid_rfk_1_newsplit.best_params_))"
   ]
  },
  {
   "cell_type": "code",
   "execution_count": 74,
   "metadata": {},
   "outputs": [
    {
     "name": "stdout",
     "output_type": "stream",
     "text": [
      "Parameters for LOGISTIC REGRESSION\n",
      "                      KFold w/out Shuffling: {'logisticregression__C': 2.0}\n",
      "                             Repeated KFold: {'logisticregression__C': 28.0}\n",
      "                 Repeated KFold w/ new seed: {'logisticregression__C': 28.0}\n",
      "Repeated KFold w/ new seed & new data split: {'logisticregression__C': 10.0}\n",
      "\n",
      "Parameters for PENALIZED LOGISTIC REGRESSION\n",
      "                      KFold w/out Shuffling: {'logisticregression__C': 1.0}\n",
      "                             Repeated KFold: {'logisticregression__C': 1.0}\n",
      "                 Repeated KFold w/ new seed: {'logisticregression__C': 1.0}\n",
      "Repeated KFold w/ new seed & new data split: {'logisticregression__C': 2.0}\n",
      "\n",
      "Parameters for KNN CLASSIFIER\n",
      "                      KFold w/out Shuffling: {'kneighborsclassifier__n_neighbors': 2}\n",
      "                             Repeated KFold: {'kneighborsclassifier__n_neighbors': 6}\n",
      "                 Repeated KFold w/ new seed: {'kneighborsclassifier__n_neighbors': 6}\n",
      "Repeated KFold w/ new seed & new data split: {'kneighborsclassifier__n_neighbors': 1}\n"
     ]
    }
   ],
   "source": [
    "# Comparing parameters with new random seed and newly split training & testing data\n",
    "print(\"Parameters for LOGISTIC REGRESSION\")\n",
    "print(\"                      KFold w/out Shuffling: {}\".format(logreg_grid.best_params_))\n",
    "print(\"                             Repeated KFold: {}\".format(logreg_grid_rfk.best_params_))\n",
    "print(\"                 Repeated KFold w/ new seed: {}\".format(logreg_grid_rfk_1.best_params_))\n",
    "print(\"Repeated KFold w/ new seed & new data split: {}\".format(logreg_grid_rfk_1_newsplit.best_params_))\n",
    "print(\"\")\n",
    "print(\"Parameters for PENALIZED LOGISTIC REGRESSION\")\n",
    "print(\"                      KFold w/out Shuffling: {}\".format(pen_logreg_grid.best_params_))\n",
    "print(\"                             Repeated KFold: {}\".format(pen_logreg_grid_rfk.best_params_))\n",
    "print(\"                 Repeated KFold w/ new seed: {}\".format(pen_logreg_grid_rfk_1.best_params_))\n",
    "print(\"Repeated KFold w/ new seed & new data split: {}\".format(pen_logreg_grid_rfk_1_newsplit.best_params_))\n",
    "print(\"\")\n",
    "print(\"Parameters for KNN CLASSIFIER\")\n",
    "print(\"                      KFold w/out Shuffling: {}\".format(knn_grid.best_params_))\n",
    "print(\"                             Repeated KFold: {}\".format(knn_grid_rfk.best_params_))\n",
    "print(\"                 Repeated KFold w/ new seed: {}\".format(knn_grid_rfk_1.best_params_))\n",
    "print(\"Repeated KFold w/ new seed & new data split: {}\".format(knn_grid_rfk_1_newsplit.best_params_))"
   ]
  },
  {
   "cell_type": "markdown",
   "metadata": {},
   "source": [
    "**Answer:** Re-splitting the data into new training and new test data with a different random state changes the recommended parameters for all three models."
   ]
  },
  {
   "cell_type": "markdown",
   "metadata": {},
   "source": [
    "## 2.5 Lastly, compare the coefficients for Logistic Regression and Penalized Logistic Regression and discuss which final model you would choose to predict new data."
   ]
  },
  {
   "cell_type": "code",
   "execution_count": 75,
   "metadata": {},
   "outputs": [
    {
     "data": {
      "text/html": [
       "<div>\n",
       "<style scoped>\n",
       "    .dataframe tbody tr th:only-of-type {\n",
       "        vertical-align: middle;\n",
       "    }\n",
       "\n",
       "    .dataframe tbody tr th {\n",
       "        vertical-align: top;\n",
       "    }\n",
       "\n",
       "    .dataframe thead th {\n",
       "        text-align: right;\n",
       "    }\n",
       "</style>\n",
       "<table border=\"1\" class=\"dataframe\">\n",
       "  <thead>\n",
       "    <tr style=\"text-align: right;\">\n",
       "      <th></th>\n",
       "      <th>fixed acidity</th>\n",
       "      <th>volatile acidity</th>\n",
       "      <th>citric acid</th>\n",
       "      <th>residual sugar</th>\n",
       "      <th>chlorides</th>\n",
       "      <th>free sulfur dioxide</th>\n",
       "      <th>total sulfur dioxide</th>\n",
       "      <th>density</th>\n",
       "      <th>pH</th>\n",
       "      <th>sulphates</th>\n",
       "      <th>alcohol</th>\n",
       "    </tr>\n",
       "  </thead>\n",
       "  <tbody>\n",
       "    <tr>\n",
       "      <th>Logistic Regression Coefficients</th>\n",
       "      <td>0.685901</td>\n",
       "      <td>8.223287</td>\n",
       "      <td>-0.971672</td>\n",
       "      <td>-0.149442</td>\n",
       "      <td>2.396549</td>\n",
       "      <td>0.048679</td>\n",
       "      <td>-0.063681</td>\n",
       "      <td>-3.126979</td>\n",
       "      <td>2.304279</td>\n",
       "      <td>6.044744</td>\n",
       "      <td>-0.790924</td>\n",
       "    </tr>\n",
       "    <tr>\n",
       "      <th>Penalized Logistic Regression Coefficients</th>\n",
       "      <td>0.916169</td>\n",
       "      <td>11.539000</td>\n",
       "      <td>0.000000</td>\n",
       "      <td>-0.125501</td>\n",
       "      <td>15.207507</td>\n",
       "      <td>0.058481</td>\n",
       "      <td>-0.066548</td>\n",
       "      <td>-9.414764</td>\n",
       "      <td>4.759636</td>\n",
       "      <td>8.315734</td>\n",
       "      <td>-0.628853</td>\n",
       "    </tr>\n",
       "    <tr>\n",
       "      <th>Scaled Logistic Regression Coefficients</th>\n",
       "      <td>0.285976</td>\n",
       "      <td>1.186533</td>\n",
       "      <td>-0.361232</td>\n",
       "      <td>-3.261851</td>\n",
       "      <td>0.751859</td>\n",
       "      <td>0.986030</td>\n",
       "      <td>-2.885655</td>\n",
       "      <td>3.519493</td>\n",
       "      <td>0.270010</td>\n",
       "      <td>0.624173</td>\n",
       "      <td>1.282744</td>\n",
       "    </tr>\n",
       "    <tr>\n",
       "      <th>Scaled Penalized Logistic Regression Coefficients</th>\n",
       "      <td>-0.043429</td>\n",
       "      <td>1.140855</td>\n",
       "      <td>-0.401142</td>\n",
       "      <td>-4.527656</td>\n",
       "      <td>0.745173</td>\n",
       "      <td>1.209947</td>\n",
       "      <td>-3.092901</td>\n",
       "      <td>4.662637</td>\n",
       "      <td>0.000000</td>\n",
       "      <td>0.517186</td>\n",
       "      <td>1.847429</td>\n",
       "    </tr>\n",
       "  </tbody>\n",
       "</table>\n",
       "</div>"
      ],
      "text/plain": [
       "                                                   fixed acidity  \\\n",
       "Logistic Regression Coefficients                        0.685901   \n",
       "Penalized Logistic Regression Coefficients              0.916169   \n",
       "Scaled Logistic Regression Coefficients                 0.285976   \n",
       "Scaled Penalized Logistic Regression Coefficients      -0.043429   \n",
       "\n",
       "                                                   volatile acidity  \\\n",
       "Logistic Regression Coefficients                           8.223287   \n",
       "Penalized Logistic Regression Coefficients                11.539000   \n",
       "Scaled Logistic Regression Coefficients                    1.186533   \n",
       "Scaled Penalized Logistic Regression Coefficients          1.140855   \n",
       "\n",
       "                                                   citric acid  \\\n",
       "Logistic Regression Coefficients                     -0.971672   \n",
       "Penalized Logistic Regression Coefficients            0.000000   \n",
       "Scaled Logistic Regression Coefficients              -0.361232   \n",
       "Scaled Penalized Logistic Regression Coefficients    -0.401142   \n",
       "\n",
       "                                                   residual sugar  chlorides  \\\n",
       "Logistic Regression Coefficients                        -0.149442   2.396549   \n",
       "Penalized Logistic Regression Coefficients              -0.125501  15.207507   \n",
       "Scaled Logistic Regression Coefficients                 -3.261851   0.751859   \n",
       "Scaled Penalized Logistic Regression Coefficients       -4.527656   0.745173   \n",
       "\n",
       "                                                   free sulfur dioxide  \\\n",
       "Logistic Regression Coefficients                              0.048679   \n",
       "Penalized Logistic Regression Coefficients                    0.058481   \n",
       "Scaled Logistic Regression Coefficients                       0.986030   \n",
       "Scaled Penalized Logistic Regression Coefficients             1.209947   \n",
       "\n",
       "                                                   total sulfur dioxide  \\\n",
       "Logistic Regression Coefficients                              -0.063681   \n",
       "Penalized Logistic Regression Coefficients                    -0.066548   \n",
       "Scaled Logistic Regression Coefficients                       -2.885655   \n",
       "Scaled Penalized Logistic Regression Coefficients             -3.092901   \n",
       "\n",
       "                                                    density        pH  \\\n",
       "Logistic Regression Coefficients                  -3.126979  2.304279   \n",
       "Penalized Logistic Regression Coefficients        -9.414764  4.759636   \n",
       "Scaled Logistic Regression Coefficients            3.519493  0.270010   \n",
       "Scaled Penalized Logistic Regression Coefficients  4.662637  0.000000   \n",
       "\n",
       "                                                   sulphates   alcohol  \n",
       "Logistic Regression Coefficients                    6.044744 -0.790924  \n",
       "Penalized Logistic Regression Coefficients          8.315734 -0.628853  \n",
       "Scaled Logistic Regression Coefficients             0.624173  1.282744  \n",
       "Scaled Penalized Logistic Regression Coefficients   0.517186  1.847429  "
      ]
     },
     "execution_count": 75,
     "metadata": {},
     "output_type": "execute_result"
    }
   ],
   "source": [
    "# This dataframe is built using the c3 object that was created earlier in the code\n",
    "coefs = pd.concat(c3)\n",
    "coefs.head()"
   ]
  },
  {
   "cell_type": "markdown",
   "metadata": {},
   "source": [
    "**Note 1:** Scaling the data really minimizes the variation between the coefficients. Notice how coefficients of 'chlorides' are very different for Logistic Regression and Penalized Logistic Regression, but then when the data is scaled this difference is almost entirely minimized. Before scaling, 'chlorides' seemed like an important variable; after scaling, not so much. "
   ]
  },
  {
   "cell_type": "markdown",
   "metadata": {},
   "source": [
    "**Note 2:** The scaled data is also a little easier to interpret. After scaling, both the Logistic Regression and Penalized Logistic Regression models agree that 'volatile acidity', 'density', and 'alcohol' are important variables / features in determining 'winetype'. "
   ]
  },
  {
   "cell_type": "markdown",
   "metadata": {},
   "source": [
    "**Answer:** Because scaled data decreases the variation in the coefficients and because Penalized Logistic Regression futher minimizes the variance within each feature (in some cases to zero, which is extremely helpful in eliminating non-important variables), I would use Penalized Logistic Regression with scaled data to predict new data."
   ]
  }
 ],
 "metadata": {
  "kernelspec": {
   "display_name": "Python 3",
   "language": "python",
   "name": "python3"
  },
  "language_info": {
   "codemirror_mode": {
    "name": "ipython",
    "version": 3
   },
   "file_extension": ".py",
   "mimetype": "text/x-python",
   "name": "python",
   "nbconvert_exporter": "python",
   "pygments_lexer": "ipython3",
   "version": "3.7.3"
  }
 },
 "nbformat": 4,
 "nbformat_minor": 2
}
